{
 "cells": [
  {
   "cell_type": "markdown",
   "id": "894d082b-ef72-42fb-8758-c6f5e9db0d79",
   "metadata": {},
   "source": [
    "# Importing libraries"
   ]
  },
  {
   "cell_type": "code",
   "execution_count": 1,
   "id": "5bbc39f1-20d2-49eb-941d-230c0a5c9b70",
   "metadata": {},
   "outputs": [],
   "source": [
    "import os\n",
    "import json\n",
    "import pickle\n",
    "import numpy as np\n",
    "from tqdm import tqdm\n",
    "import matplotlib.pyplot as plt\n",
    "from easydict import EasyDict as edict\n",
    "from sklearn.metrics import recall_score\n",
    "\n",
    "from utils.inference import *\n",
    "from utils.metrics import *\n",
    "\n",
    "import warnings\n",
    "warnings.filterwarnings(\"ignore\")\n",
    "\n",
    "%config Completer.use_jedi = False"
   ]
  },
  {
   "cell_type": "markdown",
   "id": "b1818473-969c-45eb-bf06-192fe52a43fe",
   "metadata": {},
   "source": [
    "# Specifying trained model"
   ]
  },
  {
   "cell_type": "code",
   "execution_count": 2,
   "id": "e9857bf2-548d-4224-bbac-c4cb10a26c3d",
   "metadata": {},
   "outputs": [],
   "source": [
    "EXP_NAME = '1b5fabcd-9b11-4188-b193-1e0c052ba0f4'\n",
    "\n",
    "with open(f'experiments/{EXP_NAME}/config.json') as json_file:\n",
    "    config = json.load(json_file)\n",
    "\n",
    "config = edict(config)"
   ]
  },
  {
   "cell_type": "markdown",
   "id": "88051ad9-15ed-4939-9b7d-66dff9ae6d4f",
   "metadata": {},
   "source": [
    "# Validating"
   ]
  },
  {
   "cell_type": "code",
   "execution_count": 3,
   "id": "4936dad7-6769-438b-b5ee-f2150b4bc5bd",
   "metadata": {},
   "outputs": [
    {
     "name": "stderr",
     "output_type": "stream",
     "text": [
      "100%|██████████| 81/81 [01:04<00:00,  1.26it/s]\n"
     ]
    }
   ],
   "source": [
    "df = pd.DataFrame(columns=['contrast', 'recall', 'top_10_crop'])\n",
    "\n",
    "for subject in tqdm(config.subjects):\n",
    "    \n",
    "    with open(f'experiments/{EXP_NAME}/predictions/{subject}.json') as json_file:\n",
    "        net_output = json.load(json_file)\n",
    "    \n",
    "    predictions_inside_brain = np.array(net_output['predictions']) * (1 - np.array(net_output['air_maks']))\n",
    "    labels_inside_brain = np.array(net_output['labels']) * (1 - np.array(net_output['air_maks']))\n",
    "\n",
    "    contrast = np.round(calculate_contrast(labels_inside_brain, predictions_inside_brain), decimals=2)\n",
    "    recall = np.round(recall_score(labels_inside_brain, (predictions_inside_brain > 0.5).astype(np.int)), decimals=2)\n",
    "    top10_score = np.round(top10_f(predictions_inside_brain, labels_inside_brain, np.array(net_output['coordinates'])), decimals=2)\n",
    "    \n",
    "    df.loc[subject] = [contrast, recall, top10_score]\n",
    "\n",
    "df.dropna(inplace=True)\n",
    "original_df = df.copy()\n",
    "df.loc['mean'] = df.mean()\n",
    "df.loc['high_percent'] = percent_of_high_score(original_df, 0.5)\n",
    "df.to_csv(f'experiments/{EXP_NAME}/metrics.csv')"
   ]
  },
  {
   "cell_type": "code",
   "execution_count": 8,
   "id": "954b803d-e9b8-4235-b05a-26b17b4a5c97",
   "metadata": {},
   "outputs": [
    {
     "data": {
      "image/png": "[encoded data removed]",
      "text/plain": [
       "<Figure size 720x432 with 1 Axes>"
      ]
     },
     "metadata": {
      "needs_background": "light"
     },
     "output_type": "display_data"
    }
   ],
   "source": [
    "fig, axs =  plt.subplots(figsize=(10, 6))\n",
    "plt.rcParams.update({'font.size': 12})\n",
    "\n",
    "plt.hist(df.top_10_crop * 100, bins=10)\n",
    "plt.xticks(range(0, 110, 10))\n",
    "plt.ylabel('# brains')\n",
    "plt.xlabel('score')\n",
    "plt.grid(True, alpha=0.5)\n",
    "plt.savefig(f'experiments/{EXP_NAME}/histogram_top_10_score.jpeg')\n",
    "# plt.close()"
   ]
  }
 ],
 "metadata": {
  "kernelspec": {
   "display_name": "Python 3",
   "language": "python",
   "name": "python3"
  },
  "language_info": {
   "codemirror_mode": {
    "name": "ipython",
    "version": 3
   },
   "file_extension": ".py",
   "mimetype": "text/x-python",
   "name": "python",
   "nbconvert_exporter": "python",
   "pygments_lexer": "ipython3",
   "version": "3.6.9"
  }
 },
 "nbformat": 4,
 "nbformat_minor": 5
}
