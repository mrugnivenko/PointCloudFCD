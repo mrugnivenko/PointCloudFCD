{
 "cells": [
  {
   "cell_type": "markdown",
   "id": "894d082b-ef72-42fb-8758-c6f5e9db0d79",
   "metadata": {},
   "source": [
    "# Importing libraries"
   ]
  },
  {
   "cell_type": "code",
   "execution_count": 1,
   "id": "5bbc39f1-20d2-49eb-941d-230c0a5c9b70",
   "metadata": {},
   "outputs": [],
   "source": [
    "import os\n",
    "import json\n",
    "import pickle\n",
    "import numpy as np\n",
    "from tqdm import tqdm\n",
    "import matplotlib.pyplot as plt\n",
    "from easydict import EasyDict as edict\n",
    "from sklearn.metrics import recall_score\n",
    "\n",
    "from utils.inference import *\n",
    "from utils.metrics import *\n",
    "\n",
    "import warnings\n",
    "warnings.filterwarnings(\"ignore\")\n",
    "\n",
    "%config Completer.use_jedi = False"
   ]
  },
  {
   "cell_type": "markdown",
   "id": "b1818473-969c-45eb-bf06-192fe52a43fe",
   "metadata": {},
   "source": [
    "# Specifying trained model"
   ]
  },
  {
   "cell_type": "code",
   "execution_count": 2,
   "id": "e9857bf2-548d-4224-bbac-c4cb10a26c3d",
   "metadata": {},
   "outputs": [],
   "source": [
    "EXP_NAME = 'c3adc367-329a-4189-8fd0-69d97ec26f1f'\n",
    "\n",
    "with open(f'experiments/{EXP_NAME}/config.json') as json_file:\n",
    "    config = json.load(json_file)\n",
    "\n",
    "config = edict(config)"
   ]
  },
  {
   "cell_type": "markdown",
   "id": "88051ad9-15ed-4939-9b7d-66dff9ae6d4f",
   "metadata": {},
   "source": [
    "# Evaluation"
   ]
  },
  {
   "cell_type": "code",
   "execution_count": 3,
   "id": "4936dad7-6769-438b-b5ee-f2150b4bc5bd",
   "metadata": {},
   "outputs": [
    {
     "name": "stderr",
     "output_type": "stream",
     "text": [
      "100%|██████████| 46/46 [00:44<00:00,  1.04it/s]\n"
     ]
    }
   ],
   "source": [
    "df = pd.DataFrame(columns=['dice', 'iou', 'contrast', 'recall', 'top_10_crop', 'min_number_crops'])\n",
    "\n",
    "for subject in tqdm(config.subjects):\n",
    "    \n",
    "    with open(f'experiments/{EXP_NAME}/predictions/{subject}.json') as json_file:\n",
    "        net_output = json.load(json_file)\n",
    "    \n",
    "    predictions_inside_brain = np.array(net_output['predictions']) * (1 - np.array(net_output['air_maks']))\n",
    "    labels_inside_brain = np.array(net_output['labels']) * (1 - np.array(net_output['air_maks']))\n",
    "    \n",
    "    contrast = np.round(calculate_contrast(labels_inside_brain, predictions_inside_brain), decimals=2)\n",
    "    recall = np.round(recall_score(labels_inside_brain, (predictions_inside_brain > 0.5).astype(np.int)), decimals=2)\n",
    "    top10_score, min_number_crops = top10_f(predictions_inside_brain, labels_inside_brain, np.array(net_output['coordinates']))\n",
    "    \n",
    "    binary_predictions = (predictions_inside_brain > 0.5).astype(np.int)\n",
    "    tp = sum(binary_predictions * labels_inside_brain)\n",
    "    fp = sum(binary_predictions * (1-labels_inside_brain))\n",
    "    fn = sum((1-binary_predictions) * labels_inside_brain)\n",
    "    \n",
    "    dice = 2*tp/(2*tp+fp+fn)\n",
    "    iou = tp/(tp+fp+fn)\n",
    "    \n",
    "    df.loc[subject] = [dice, iou, contrast, recall, np.round(top10_score, decimals=2), min_number_crops]\n",
    "\n",
    "df.sort_values(by=['top_10_crop', 'contrast'], ascending=False, inplace=True)\n",
    "df.loc['mean'] = df.mean()\n",
    "df = df[['contrast', 'recall', 'top_10_crop', 'min_number_crops', 'dice', 'iou']]\n",
    "df.to_csv(f'experiments/{EXP_NAME}/pc_metrics.csv')"
   ]
  },
  {
   "cell_type": "code",
   "execution_count": 4,
   "id": "c178cd4d-adf3-47dc-820f-b563fc961ec3",
   "metadata": {},
   "outputs": [
    {
     "data": {
      "image/png": "[encoded data removed]",
      "text/plain": [
       "<Figure size 720x432 with 1 Axes>"
      ]
     },
     "metadata": {
      "needs_background": "light"
     },
     "output_type": "display_data"
    }
   ],
   "source": [
    "df_metric = pd.DataFrame(df.top_10_crop[:-1].value_counts())\n",
    "\n",
    "fig, axs =  plt.subplots(figsize=(10, 6))\n",
    "plt.rcParams.update({'font.size': 14})\n",
    "\n",
    "plt.bar(df_metric.index.tolist(),\n",
    "        df_metric.top_10_crop.tolist(),\n",
    "        width = 0.05,\n",
    "       tick_label=df_metric.index.tolist())\n",
    "plt.grid(True, alpha=0.5)\n",
    "plt.ylim(0, 20)\n",
    "plt.yticks(range(0, 22, 2))\n",
    "plt.ylabel('number of subjects')\n",
    "plt.xlabel('top 10 crop metric')\n",
    "plt.savefig(f'experiments/{EXP_NAME}/pc_histogram_top_10_score.jpeg')"
   ]
  },
  {
   "cell_type": "code",
   "execution_count": null,
   "id": "822fbb65-195f-4ca3-b548-49f6d4b38903",
   "metadata": {},
   "outputs": [],
   "source": []
  }
 ],
 "metadata": {
  "kernelspec": {
   "display_name": "Python 3",
   "language": "python",
   "name": "python3"
  },
  "language_info": {
   "codemirror_mode": {
    "name": "ipython",
    "version": 3
   },
   "file_extension": ".py",
   "mimetype": "text/x-python",
   "name": "python",
   "nbconvert_exporter": "python",
   "pygments_lexer": "ipython3",
   "version": "3.6.9"
  }
 },
 "nbformat": 4,
 "nbformat_minor": 5
}
