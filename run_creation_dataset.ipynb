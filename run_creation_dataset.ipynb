{
 "cells": [
  {
   "cell_type": "markdown",
   "id": "51104a96-2c2a-4065-992c-67ad292f7e4a",
   "metadata": {},
   "source": [
    "# Importing libraries"
   ]
  },
  {
   "cell_type": "code",
   "execution_count": 1,
   "id": "039f5f05-1c34-4fc6-9203-634f68e9a036",
   "metadata": {},
   "outputs": [],
   "source": [
    "import os\n",
    "import imp\n",
    "import time\n",
    "import glob\n",
    "import torch\n",
    "import nilearn\n",
    "import numpy as np\n",
    "from tqdm import tqdm\n",
    "from nilearn import image\n",
    "from scipy.ndimage.morphology import binary_dilation, binary_erosion\n",
    "\n",
    "from utils.data_processor import *\n",
    "from utils.visualization import *\n",
    "\n",
    "%config Completer.use_jedi = False"
   ]
  },
  {
   "cell_type": "markdown",
   "id": "e1d021ea-b19e-4779-abad-a39efbce465c",
   "metadata": {},
   "source": [
    "# Creating dict with paths"
   ]
  },
  {
   "cell_type": "code",
   "execution_count": 2,
   "id": "5c419ae5-191d-48a9-bfb6-e87919e8caad",
   "metadata": {},
   "outputs": [],
   "source": [
    "allowed_subjects = np.load('dataset_ready_to_use/sub_with_all_data.npy', allow_pickle=True).tolist()"
   ]
  },
  {
   "cell_type": "code",
   "execution_count": 3,
   "id": "64e83a91-53bf-47bb-be97-9ce9828d84e8",
   "metadata": {},
   "outputs": [],
   "source": [
    "data_dict = {}\n",
    "for subject in allowed_subjects:\n",
    "    \n",
    "    t1_brain_path = [x for x in glob.glob(f\"radiologist/preprocessed_data/fmriprep/sub-{subject}/anat/*\") if 'desc-preproc_T1w.nii.gz' in x and 'MNI152' in x][0]\n",
    "    t2_brain_path = f\"radiologist/preprocessed_data/T2/{subject}.nii\"\n",
    "    brain_mask_path = [x for x in glob.glob(f\"radiologist/preprocessed_data/fmriprep/sub-{subject}/anat/*\") if x.endswith(\"Asym_desc-brain_mask.nii.gz\")][0]\n",
    "    segmentation_path = [x for x in glob.glob(f\"radiologist/preprocessed_data/fmriprep/sub-{subject}/anat/*\") if 'MNI152' in x and 'GM' in x][0]\n",
    "    label_path = f\"radiologist/preprocessed_data/label/{subject}.nii\" \n",
    "    curv_path = f\"radiologist/preprocessed_data/curv/norm-{subject}.nii\"\n",
    "    thickness_path = f\"radiologist/preprocessed_data/thickness/norm-{subject}.nii\"\n",
    "    sulc_path = f\"radiologist/preprocessed_data/sulc/norm-{subject}.nii\"\n",
    "    \n",
    "    data_dict[subject] = [t1_brain_path, t2_brain_path, segmentation_path, brain_mask_path,\n",
    "                          label_path, curv_path, thickness_path, sulc_path]\n",
    "    "
   ]
  },
  {
   "cell_type": "markdown",
   "id": "b2c874a3-5be2-463a-bff2-e1ceecd42290",
   "metadata": {},
   "source": [
    "# Creating data with the same size and smart sampling"
   ]
  },
  {
   "cell_type": "code",
   "execution_count": 4,
   "id": "da560ce6-2b3a-4fc7-8363-0626ab387f58",
   "metadata": {},
   "outputs": [],
   "source": [
    "def find_number_of_erosion(mask):\n",
    "    i = 0\n",
    "    tmp = mask.copy()\n",
    "    while True:\n",
    "        if tmp.any() == False:\n",
    "            return i\n",
    "        tmp = binary_erosion(tmp)\n",
    "        i += 1"
   ]
  },
  {
   "cell_type": "code",
   "execution_count": 6,
   "id": "98c55821-b9bc-4e62-9844-409c97d2c887",
   "metadata": {},
   "outputs": [],
   "source": [
    "for name in ['curv', 'labels', 'segmentations', 'sulc', 't1_brains', 't2_brains', 'thickness']:\n",
    "    os.makedirs(f'dataset_ready_to_use/data_full/full_new/{name}')\n",
    "    \n",
    "for name in ['curv', 'labels', 'segmentations', 'sulc', 't1_brains', 't2_brains', 'thickness']:\n",
    "    os.makedirs(f'dataset_ready_to_use/data_only_usefull_areas/full_new/{name}')"
   ]
  },
  {
   "cell_type": "code",
   "execution_count": 7,
   "id": "1cdf3489-879e-412d-a9a3-428b4da55f41",
   "metadata": {},
   "outputs": [
    {
     "name": "stderr",
     "output_type": "stream",
     "text": [
      "100%|██████████| 80/80 [52:45<00:00, 39.56s/it]\n"
     ]
    }
   ],
   "source": [
    "number_of_brains = len(data_dict)\n",
    "good_brain = nib.load('radiologist/preprocessed_data/fmriprep/sub-1/anat/sub-1_acq-T1MprageSagP2IsoOrig_space-MNI152NLin2009cAsym_desc-preproc_T1w.nii.gz')\n",
    "\n",
    "for subject in tqdm(allowed_subjects):\n",
    "    \n",
    "    t1_brain, t2_brain, segmentation, brain_mask, label, curv, thick, sulc = data_dict[subject]\n",
    "    \n",
    "    nib_t1_brain = nib.load(t1_brain)\n",
    "    nib_t2_brain = nib.load(t2_brain)\n",
    "    nib_brain_mask = nib.load(brain_mask)\n",
    "    nib_segmentation = nib.load(segmentation)\n",
    "    nib_label = nib.load(label)\n",
    "    nib_curv = nib.load(curv)\n",
    "    nib_thick = nib.load(thick)\n",
    "    nib_sulc = nib.load(sulc)\n",
    "    \n",
    "    nib_t1_brain = nilearn.image.resample_to_img(nib_t1_brain, good_brain)\n",
    "    nib_t2_brain = nilearn.image.resample_to_img(nib_t2_brain, good_brain)\n",
    "    nib_brain_mask = nilearn.image.resample_to_img(nib_brain_mask, good_brain, interpolation = 'nearest')\n",
    "    arr_t1_skull_striped = nib_t1_brain.get_fdata() * nib_brain_mask.get_fdata().astype(np.int8)\n",
    "    nib_t1_skull_striped = nib.Nifti1Image(arr_t1_skull_striped, nib_t1_brain.affine)\n",
    "    arr_t2_skull_striped = nib_t2_brain.get_fdata() * nib_brain_mask.get_fdata().astype(np.int8)\n",
    "    nib_t2_skull_striped = nib.Nifti1Image(arr_t2_skull_striped, nib_t2_brain.affine)\n",
    "    \n",
    "    nib_segmentation = nilearn.image.resample_to_img(nib_segmentation, good_brain, interpolation = 'nearest')\n",
    "    nib_label = nilearn.image.resample_to_img(nib_label, good_brain, interpolation = 'nearest')\n",
    "    nib_curv = nilearn.image.resample_to_img(nib_curv, good_brain)\n",
    "    nib_thick = nilearn.image.resample_to_img(nib_thick, good_brain)\n",
    "    nib_sulc = nilearn.image.resample_to_img(nib_sulc, good_brain)\n",
    "    \n",
    "    nib.save(nib_label, f'dataset_ready_to_use/data_full/full_new/labels/{subject}.nii')\n",
    "    nib.save(nib_t1_skull_striped, f'dataset_ready_to_use/data_full/full_new/t1_brains/{subject}.nii')\n",
    "    nib.save(nib_t2_skull_striped, f'dataset_ready_to_use/data_full/full_new/t2_brains/{subject}.nii')\n",
    "    nib.save(nib_segmentation, f'dataset_ready_to_use/data_full/full_new/segmentations/{subject}.nii')\n",
    "    nib.save(nib_curv, f'dataset_ready_to_use/data_full/full_new/curv/{subject}.nii')\n",
    "    nib.save(nib_thick, f'dataset_ready_to_use/data_full/full_new/thickness/{subject}.nii')\n",
    "    nib.save(nib_sulc, f'dataset_ready_to_use/data_full/full_new/sulc/{subject}.nii')\n",
    "\n",
    "    arr_t1_brain = nib_t1_brain.get_fdata()\n",
    "    arr_t2_brain = nib_t2_brain.get_fdata()\n",
    "    arr_brain_mask = nib_brain_mask.get_fdata().astype(np.int8)\n",
    "    arr_segmentation = nib_segmentation.get_fdata()\n",
    "    arr_label = nib_label.get_fdata()\n",
    "    arr_curv = nib_curv.get_fdata()\n",
    "    arr_thick = nib_thick.get_fdata()\n",
    "    arr_sulc = nib_sulc.get_fdata()\n",
    "    \n",
    "    arr_label = (arr_label>0).astype(np.int8)\n",
    "    arr_t1_brain = arr_t1_brain * arr_brain_mask\n",
    "    arr_t2_brain = arr_t2_brain * arr_brain_mask\n",
    "    \n",
    "    arr_segmentation = (arr_segmentation >= 0.5).astype(np.int8)\n",
    "    grey_width = find_number_of_erosion(arr_segmentation)\n",
    "    grey_dilation = int(0.8 * grey_width) \n",
    "    grey_mask_dilated = binary_dilation(arr_segmentation, iterations = grey_dilation)\n",
    "    \n",
    "    final_mask = np.logical_and(grey_mask_dilated, arr_brain_mask) \n",
    "    \n",
    "    del grey_mask_dilated, arr_brain_mask, arr_segmentation\n",
    "    \n",
    "    nib.save(nib.Nifti1Image(arr_t1_brain*final_mask, nib_t1_brain.affine), f'dataset_ready_to_use/data_only_usefull_areas/full_new/t1_brains/{subject}.nii')\n",
    "    nib.save(nib.Nifti1Image(arr_t2_brain*final_mask, nib_t2_brain.affine), f'dataset_ready_to_use/data_only_usefull_areas/full_new/t2_brains/{subject}.nii')\n",
    "    nib.save(nib.Nifti1Image(arr_label*final_mask, nib_label.affine), f'dataset_ready_to_use/data_only_usefull_areas/full_new/labels/{subject}.nii')\n",
    "    nib.save(nib.Nifti1Image(arr_curv*final_mask, nib_curv.affine), f'dataset_ready_to_use/data_only_usefull_areas/full_new/curv/{subject}.nii')\n",
    "    nib.save(nib.Nifti1Image(arr_thick*final_mask, nib_thick.affine), f'dataset_ready_to_use/data_only_usefull_areas/full_new/thickness/{subject}.nii')\n",
    "    nib.save(nib.Nifti1Image(arr_sulc*final_mask, nib_sulc.affine), f'dataset_ready_to_use/data_only_usefull_areas/full_new/sulc/{subject}.nii')\n",
    "\n",
    "    del nib_t1_brain, nib_t2_brain, nib_segmentation, nib_brain_mask, nib_label, nib_curv, nib_thick, nib_sulc\n",
    "    \n",
    "#     temple_zone_mask = np.zeros(arr_brain.shape, dtype = np.int8)\n",
    "#     temple_zone_mask[:, :, :65] = 1.\n",
    "    \n",
    "#     final_mask_temple = np.logical_and(final_mask, temple_zone_mask)\n",
    "#     final_mask_nottemple = np.logical_and(final_mask, 1 - temple_zone_mask)\n",
    "    \n",
    "#     del temple_zone_mask\n",
    "    \n",
    "#     brain_aseg_temple = arr_brain * final_mask_temple\n",
    "#     brain_aseg_nottemple = arr_brain * final_mask_nottemple\n",
    "    \n",
    "#     label_aseg_temple = arr_label * final_mask_temple\n",
    "#     label_aseg_nottemple = arr_label * final_mask_nottemple\n",
    "    \n",
    "#     curv_aseg_temple = arr_curv * final_mask_temple\n",
    "#     curv_aseg_nottemple = arr_curv * final_mask_nottemple\n",
    "    \n",
    "#     thick_aseg_temple = arr_thick * final_mask_temple\n",
    "#     thick_aseg_nottemple = arr_thick * final_mask_nottemple\n",
    "    \n",
    "#     sulc_aseg_temple = arr_sulc * final_mask_temple\n",
    "#     sulc_aseg_nottemple = arr_sulc * final_mask_nottemple\n",
    "    \n",
    "#     del arr_brain, arr_label, arr_curv, arr_thick, arr_sulc, final_mask_temple, final_mask_nottemple \n",
    "    \n",
    "#     np.save(f'dataset_ready_to_use/data_only_usefull_areas/temple/brains/{brain_num}.npy', brain_aseg_temple)\n",
    "#     np.save(f'dataset_ready_to_use/data_only_usefull_areas/nottemple/brains/{brain_num}.npy', brain_aseg_nottemple)\n",
    "    \n",
    "#     np.save(f'dataset_ready_to_use/data_only_usefull_areas/temple/labels/{brain_num}.npy', label_aseg_temple)\n",
    "#     np.save(f'dataset_ready_to_use/data_only_usefull_areas/nottemple/labels/{brain_num}.npy', label_aseg_nottemple)\n",
    "    \n",
    "#     np.save(f'dataset_ready_to_use/data_only_usefull_areas/temple/curv/{brain_num}.npy', curv_aseg_temple)\n",
    "#     np.save(f'dataset_ready_to_use/data_only_usefull_areas/nottemple/curv/{brain_num}.npy', curv_aseg_nottemple)\n",
    "    \n",
    "#     np.save(f'dataset_ready_to_use/data_only_usefull_areas/temple/thickness/{brain_num}.npy', thick_aseg_temple)\n",
    "#     np.save(f'dataset_ready_to_use/data_only_usefull_areas/nottemple/thickness/{brain_num}.npy', thick_aseg_nottemple)\n",
    "    \n",
    "#     np.save(f'dataset_ready_to_use/data_only_usefull_areas/temple/sulc/{brain_num}.npy', sulc_aseg_temple)\n",
    "#     np.save(f'dataset_ready_to_use/data_only_usefull_areas/nottemple/sulc/{brain_num}.npy', sulc_aseg_nottemple)\n",
    "    \n",
    "#     del brain_aseg_temple, brain_aseg_nottemple,\\\n",
    "#         label_aseg_temple, label_aseg_nottemple,\\\n",
    "#         curv_aseg_temple, curv_aseg_nottemple,\\\n",
    "#         thick_aseg_temple, thick_aseg_nottemple,\\\n",
    "#         sulc_aseg_temple, sulc_aseg_nottemple"
   ]
  },
  {
   "cell_type": "code",
   "execution_count": null,
   "id": "f2008108-0bd7-4962-b8ce-6c81072055a8",
   "metadata": {},
   "outputs": [],
   "source": []
  }
 ],
 "metadata": {
  "kernelspec": {
   "display_name": "Python 3",
   "language": "python",
   "name": "python3"
  },
  "language_info": {
   "codemirror_mode": {
    "name": "ipython",
    "version": 3
   },
   "file_extension": ".py",
   "mimetype": "text/x-python",
   "name": "python",
   "nbconvert_exporter": "python",
   "pygments_lexer": "ipython3",
   "version": "3.6.9"
  }
 },
 "nbformat": 4,
 "nbformat_minor": 5
}
