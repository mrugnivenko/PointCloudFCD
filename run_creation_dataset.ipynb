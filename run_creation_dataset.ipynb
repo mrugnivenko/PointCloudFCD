{
 "cells": [
  {
   "cell_type": "markdown",
   "id": "51104a96-2c2a-4065-992c-67ad292f7e4a",
   "metadata": {},
   "source": [
    "### Importing libraries"
   ]
  },
  {
   "cell_type": "code",
   "execution_count": 1,
   "id": "039f5f05-1c34-4fc6-9203-634f68e9a036",
   "metadata": {
    "tags": []
   },
   "outputs": [
    {
     "name": "stderr",
     "output_type": "stream",
     "text": [
      "/usr/local/lib/python3.6/dist-packages/nilearn/__init__.py:69: FutureWarning: Python 3.6 support is deprecated and will be removed in release 0.10 of Nilearn. Consider switching to Python 3.8 or 3.9.\n",
      "  _python_deprecation_warnings()\n"
     ]
    }
   ],
   "source": [
    "import os\n",
    "import glob\n",
    "import nilearn\n",
    "import numpy as np\n",
    "import pandas as pd\n",
    "from tqdm import tqdm\n",
    "from nilearn import image\n",
    "\n",
    "from utils.data_preprocessing import *\n",
    "\n",
    "%config Completer.use_jedi = False"
   ]
  },
  {
   "cell_type": "markdown",
   "id": "0c5b507e-9766-4a18-b63a-84ec9a7db986",
   "metadata": {},
   "source": [
    "### Gathering imformation about brains \n",
    "-  shape \n",
    "- existance of files"
   ]
  },
  {
   "cell_type": "code",
   "execution_count": 2,
   "id": "afab69e1-2952-4e59-9f51-57395e33a4f0",
   "metadata": {
    "collapsed": true,
    "jupyter": {
     "outputs_hidden": true
    },
    "tags": []
   },
   "outputs": [
    {
     "name": "stderr",
     "output_type": "stream",
     "text": [
      "  2%|▏         | 4/191 [00:24<19:15,  6.18s/it]"
     ]
    },
    {
     "name": "stdout",
     "output_type": "stream",
     "text": [
      "No such file or no access: radiologist/preprocessed_data/curv/norm-n46.nii.gz\n"
     ]
    },
    {
     "name": "stderr",
     "output_type": "stream",
     "text": [
      "  3%|▎         | 5/191 [00:28<17:55,  5.78s/it]"
     ]
    },
    {
     "name": "stdout",
     "output_type": "stream",
     "text": [
      "No such file or no access: radiologist/preprocessed_data/sulc/norm-n46.nii.gz\n",
      "No such file or no access: radiologist/preprocessed_data/thickness/norm-n46.nii.gz\n"
     ]
    },
    {
     "name": "stderr",
     "output_type": "stream",
     "text": [
      "  4%|▍         | 8/191 [00:47<18:16,  5.99s/it]"
     ]
    },
    {
     "name": "stdout",
     "output_type": "stream",
     "text": [
      "No such file or no access: radiologist/preprocessed_data/curv/norm-G180.nii.gz\n"
     ]
    },
    {
     "name": "stderr",
     "output_type": "stream",
     "text": [
      "  5%|▍         | 9/191 [00:52<17:37,  5.81s/it]"
     ]
    },
    {
     "name": "stdout",
     "output_type": "stream",
     "text": [
      "No such file or no access: radiologist/preprocessed_data/sulc/norm-G180.nii.gz\n",
      "No such file or no access: radiologist/preprocessed_data/thickness/norm-G180.nii.gz\n"
     ]
    },
    {
     "name": "stderr",
     "output_type": "stream",
     "text": [
      " 12%|█▏        | 22/191 [02:08<16:24,  5.83s/it]"
     ]
    },
    {
     "name": "stdout",
     "output_type": "stream",
     "text": [
      "No such file or no access: radiologist/preprocessed_data/new_pipeline/sub-64NS/sub-64NS_acq-T1Mprage_space-MNI152NLint2_seq-T1w_brain.nii.gz\n",
      "No such file or no access: radiologist/preprocessed_data/new_pipeline/sub-64NS/sub-64NS_acq-T2Space_space-MNI152NLint2_seq-T2w_brain.nii.gz\n",
      "No such file or no access: radiologist/preprocessed_data/bluring-T1/sub-64NS_T1blurring-in-volume.nii.gz\n",
      "No such file or no access: radiologist/preprocessed_data/bluring-T2/sub-64NS_T2blurring-in-volume.nii.gz\n",
      "No such file or no access: radiologist/preprocessed_data/curv/norm-64NS.nii.gz\n",
      "No such file or no access: radiologist/preprocessed_data/label/64NS.nii.gz\n",
      "No such file or no access: radiologist/preprocessed_data/sulc/norm-64NS.nii.gz\n",
      "No such file or no access: radiologist/preprocessed_data/thickness/norm-64NS.nii.gz\n"
     ]
    },
    {
     "name": "stderr",
     "output_type": "stream",
     "text": [
      " 14%|█▍        | 27/191 [02:31<15:19,  5.60s/it]"
     ]
    },
    {
     "name": "stdout",
     "output_type": "stream",
     "text": [
      "No such file or no access: radiologist/preprocessed_data/curv/norm-n33.nii.gz\n"
     ]
    },
    {
     "name": "stderr",
     "output_type": "stream",
     "text": [
      " 15%|█▍        | 28/191 [02:35<15:04,  5.55s/it]"
     ]
    },
    {
     "name": "stdout",
     "output_type": "stream",
     "text": [
      "No such file or no access: radiologist/preprocessed_data/sulc/norm-n33.nii.gz\n",
      "No such file or no access: radiologist/preprocessed_data/thickness/norm-n33.nii.gz\n"
     ]
    },
    {
     "name": "stderr",
     "output_type": "stream",
     "text": [
      " 16%|█▌        | 31/191 [02:53<14:54,  5.59s/it]"
     ]
    },
    {
     "name": "stdout",
     "output_type": "stream",
     "text": [
      "No such file or no access: radiologist/preprocessed_data/curv/norm-n25.nii.gz\n"
     ]
    },
    {
     "name": "stderr",
     "output_type": "stream",
     "text": [
      " 17%|█▋        | 32/191 [02:57<14:42,  5.55s/it]"
     ]
    },
    {
     "name": "stdout",
     "output_type": "stream",
     "text": [
      "No such file or no access: radiologist/preprocessed_data/sulc/norm-n25.nii.gz\n",
      "No such file or no access: radiologist/preprocessed_data/thickness/norm-n25.nii.gz\n"
     ]
    },
    {
     "name": "stderr",
     "output_type": "stream",
     "text": [
      " 18%|█▊        | 34/191 [03:09<14:33,  5.56s/it]"
     ]
    },
    {
     "name": "stdout",
     "output_type": "stream",
     "text": [
      "No such file or no access: radiologist/preprocessed_data/curv/norm-n20.nii.gz\n"
     ]
    },
    {
     "name": "stderr",
     "output_type": "stream",
     "text": [
      " 18%|█▊        | 35/191 [03:24<15:11,  5.84s/it]"
     ]
    },
    {
     "name": "stdout",
     "output_type": "stream",
     "text": [
      "No such file or no access: radiologist/preprocessed_data/sulc/norm-n20.nii.gz\n",
      "No such file or no access: radiologist/preprocessed_data/thickness/norm-n20.nii.gz\n"
     ]
    },
    {
     "name": "stderr",
     "output_type": "stream",
     "text": [
      " 19%|█▉        | 37/191 [03:36<15:00,  5.85s/it]"
     ]
    },
    {
     "name": "stdout",
     "output_type": "stream",
     "text": [
      "No such file or no access: radiologist/preprocessed_data/curv/norm-76.nii.gz\n"
     ]
    },
    {
     "name": "stderr",
     "output_type": "stream",
     "text": [
      " 20%|█▉        | 38/191 [03:40<14:48,  5.81s/it]"
     ]
    },
    {
     "name": "stdout",
     "output_type": "stream",
     "text": [
      "No such file or no access: radiologist/preprocessed_data/sulc/norm-76.nii.gz\n",
      "No such file or no access: radiologist/preprocessed_data/thickness/norm-76.nii.gz\n"
     ]
    },
    {
     "name": "stderr",
     "output_type": "stream",
     "text": [
      " 21%|██        | 40/191 [03:52<14:38,  5.82s/it]"
     ]
    },
    {
     "name": "stdout",
     "output_type": "stream",
     "text": [
      "No such file or no access: radiologist/preprocessed_data/bluring-T1/sub-C2_T1blurring-in-volume.nii.gz\n",
      "No such file or no access: radiologist/preprocessed_data/label/C2.nii.gz\n"
     ]
    },
    {
     "name": "stderr",
     "output_type": "stream",
     "text": [
      " 21%|██▏       | 41/191 [03:56<14:26,  5.78s/it]"
     ]
    },
    {
     "name": "stdout",
     "output_type": "stream",
     "text": [
      "No such file or no access: radiologist/preprocessed_data/new_pipeline/sub-71NS/sub-71NS_acq-T1Mprage_space-MNI152NLint2_seq-T1w_brain.nii.gz\n",
      "No such file or no access: radiologist/preprocessed_data/new_pipeline/sub-71NS/sub-71NS_acq-T2Space_space-MNI152NLint2_seq-T2w_brain.nii.gz\n",
      "No such file or no access: radiologist/preprocessed_data/bluring-T1/sub-71NS_T1blurring-in-volume.nii.gz\n",
      "No such file or no access: radiologist/preprocessed_data/bluring-T2/sub-71NS_T2blurring-in-volume.nii.gz\n",
      "No such file or no access: radiologist/preprocessed_data/curv/norm-71NS.nii.gz\n",
      "No such file or no access: radiologist/preprocessed_data/label/71NS.nii.gz\n",
      "No such file or no access: radiologist/preprocessed_data/sulc/norm-71NS.nii.gz\n",
      "No such file or no access: radiologist/preprocessed_data/thickness/norm-71NS.nii.gz\n"
     ]
    },
    {
     "name": "stderr",
     "output_type": "stream",
     "text": [
      " 23%|██▎       | 44/191 [04:08<13:50,  5.65s/it]"
     ]
    },
    {
     "name": "stdout",
     "output_type": "stream",
     "text": [
      "No such file or no access: radiologist/preprocessed_data/curv/norm-n58.nii.gz\n"
     ]
    },
    {
     "name": "stderr",
     "output_type": "stream",
     "text": [
      " 24%|██▎       | 45/191 [04:12<13:40,  5.62s/it]"
     ]
    },
    {
     "name": "stdout",
     "output_type": "stream",
     "text": [
      "No such file or no access: radiologist/preprocessed_data/sulc/norm-n58.nii.gz\n",
      "No such file or no access: radiologist/preprocessed_data/thickness/norm-n58.nii.gz\n"
     ]
    },
    {
     "name": "stderr",
     "output_type": "stream",
     "text": [
      " 34%|███▎      | 64/191 [06:35<13:04,  6.18s/it]"
     ]
    },
    {
     "name": "stdout",
     "output_type": "stream",
     "text": [
      "No such file or no access: radiologist/preprocessed_data/bluring-T1/sub-C10_T1blurring-in-volume.nii.gz\n",
      "No such file or no access: radiologist/preprocessed_data/bluring-T2/sub-C10_T2blurring-in-volume.nii.gz\n",
      "No such file or no access: radiologist/preprocessed_data/label/C10.nii.gz\n"
     ]
    },
    {
     "name": "stderr",
     "output_type": "stream",
     "text": [
      " 39%|███▊      | 74/191 [07:33<11:56,  6.12s/it]"
     ]
    },
    {
     "name": "stdout",
     "output_type": "stream",
     "text": [
      "No such file or no access: radiologist/preprocessed_data/curv/norm-n29.nii.gz\n"
     ]
    },
    {
     "name": "stderr",
     "output_type": "stream",
     "text": [
      " 39%|███▉      | 75/191 [07:37<11:48,  6.10s/it]"
     ]
    },
    {
     "name": "stdout",
     "output_type": "stream",
     "text": [
      "No such file or no access: radiologist/preprocessed_data/sulc/norm-n29.nii.gz\n",
      "No such file or no access: radiologist/preprocessed_data/thickness/norm-n29.nii.gz\n",
      "No such file or no access: radiologist/preprocessed_data/bluring-T1/sub-85NS_T1blurring-in-volume.nii.gz\n"
     ]
    },
    {
     "name": "stderr",
     "output_type": "stream",
     "text": [
      " 43%|████▎     | 82/191 [08:18<11:02,  6.08s/it]"
     ]
    },
    {
     "name": "stdout",
     "output_type": "stream",
     "text": [
      "No such file or no access: radiologist/preprocessed_data/bluring-T1/sub-n64_T1blurring-in-volume.nii.gz\n"
     ]
    },
    {
     "name": "stderr",
     "output_type": "stream",
     "text": [
      " 45%|████▌     | 86/191 [08:40<10:35,  6.05s/it]"
     ]
    },
    {
     "name": "stdout",
     "output_type": "stream",
     "text": [
      "No such file or no access: radiologist/preprocessed_data/bluring-T1/sub-n50_T1blurring-in-volume.nii.gz\n"
     ]
    },
    {
     "name": "stderr",
     "output_type": "stream",
     "text": [
      " 46%|████▌     | 87/191 [08:44<10:27,  6.03s/it]"
     ]
    },
    {
     "name": "stdout",
     "output_type": "stream",
     "text": [
      "No such file or no access: radiologist/preprocessed_data/bluring-T1/sub-n67_T1blurring-in-volume.nii.gz\n"
     ]
    },
    {
     "name": "stderr",
     "output_type": "stream",
     "text": [
      " 47%|████▋     | 89/191 [08:55<10:13,  6.01s/it]"
     ]
    },
    {
     "name": "stdout",
     "output_type": "stream",
     "text": [
      "No such file or no access: radiologist/preprocessed_data/new_pipeline/sub-n34/sub-n34_acq-T1Mprage_space-MNI152NLint2_seq-T1w_brain.nii.gz\n",
      "No such file or no access: radiologist/preprocessed_data/new_pipeline/sub-n34/sub-n34_acq-T2Space_space-MNI152NLint2_seq-T2w_brain.nii.gz\n",
      "No such file or no access: radiologist/preprocessed_data/bluring-T1/sub-n34_T1blurring-in-volume.nii.gz\n",
      "No such file or no access: radiologist/preprocessed_data/bluring-T2/sub-n34_T2blurring-in-volume.nii.gz\n",
      "No such file or no access: radiologist/preprocessed_data/curv/norm-n34.nii.gz\n",
      "No such file or no access: radiologist/preprocessed_data/label/n34.nii.gz\n",
      "No such file or no access: radiologist/preprocessed_data/sulc/norm-n34.nii.gz\n",
      "No such file or no access: radiologist/preprocessed_data/thickness/norm-n34.nii.gz\n",
      "No such file or no access: radiologist/preprocessed_data/bluring-T1/sub-n41_T1blurring-in-volume.nii.gz\n"
     ]
    },
    {
     "name": "stderr",
     "output_type": "stream",
     "text": [
      " 49%|████▊     | 93/191 [09:11<09:41,  5.93s/it]"
     ]
    },
    {
     "name": "stdout",
     "output_type": "stream",
     "text": [
      "No such file or no access: radiologist/preprocessed_data/bluring-T1/sub-87NS_T1blurring-in-volume.nii.gz\n"
     ]
    },
    {
     "name": "stderr",
     "output_type": "stream",
     "text": [
      " 50%|█████     | 96/191 [09:27<09:22,  5.92s/it]"
     ]
    },
    {
     "name": "stdout",
     "output_type": "stream",
     "text": [
      "No such file or no access: radiologist/preprocessed_data/bluring-T1/sub-n60_T1blurring-in-volume.nii.gz\n"
     ]
    },
    {
     "name": "stderr",
     "output_type": "stream",
     "text": [
      " 51%|█████     | 97/191 [09:32<09:14,  5.90s/it]"
     ]
    },
    {
     "name": "stdout",
     "output_type": "stream",
     "text": [
      "No such file or no access: radiologist/preprocessed_data/bluring-T1/sub-C8_T1blurring-in-volume.nii.gz\n",
      "No such file or no access: radiologist/preprocessed_data/label/C8.nii.gz\n"
     ]
    },
    {
     "name": "stderr",
     "output_type": "stream",
     "text": [
      " 51%|█████▏    | 98/191 [09:36<09:07,  5.88s/it]"
     ]
    },
    {
     "name": "stdout",
     "output_type": "stream",
     "text": [
      "No such file or no access: radiologist/preprocessed_data/bluring-T1/sub-C6_T1blurring-in-volume.nii.gz\n",
      "No such file or no access: radiologist/preprocessed_data/label/C6.nii.gz\n"
     ]
    },
    {
     "name": "stderr",
     "output_type": "stream",
     "text": [
      " 52%|█████▏    | 100/191 [09:40<08:48,  5.81s/it]"
     ]
    },
    {
     "name": "stdout",
     "output_type": "stream",
     "text": [
      "No such file or no access: radiologist/preprocessed_data/new_pipeline/sub-66NS/sub-66NS_acq-T1Mprage_space-MNI152NLint2_seq-T1w_brain.nii.gz\n",
      "No such file or no access: radiologist/preprocessed_data/new_pipeline/sub-66NS/sub-66NS_acq-T2Space_space-MNI152NLint2_seq-T2w_brain.nii.gz\n",
      "No such file or no access: radiologist/preprocessed_data/bluring-T1/sub-66NS_T1blurring-in-volume.nii.gz\n",
      "No such file or no access: radiologist/preprocessed_data/bluring-T2/sub-66NS_T2blurring-in-volume.nii.gz\n",
      "No such file or no access: radiologist/preprocessed_data/curv/norm-66NS.nii.gz\n",
      "No such file or no access: radiologist/preprocessed_data/label/66NS.nii.gz\n",
      "No such file or no access: radiologist/preprocessed_data/sulc/norm-66NS.nii.gz\n",
      "No such file or no access: radiologist/preprocessed_data/thickness/norm-66NS.nii.gz\n"
     ]
    },
    {
     "name": "stderr",
     "output_type": "stream",
     "text": [
      " 53%|█████▎    | 101/191 [09:47<08:43,  5.81s/it]"
     ]
    },
    {
     "name": "stdout",
     "output_type": "stream",
     "text": [
      "No such file or no access: radiologist/preprocessed_data/bluring-T1/sub-53_T1blurring-in-volume.nii.gz\n"
     ]
    },
    {
     "name": "stderr",
     "output_type": "stream",
     "text": [
      " 53%|█████▎    | 102/191 [09:52<08:36,  5.81s/it]"
     ]
    },
    {
     "name": "stdout",
     "output_type": "stream",
     "text": [
      "No such file or no access: radiologist/preprocessed_data/curv/norm-n21.nii.gz\n"
     ]
    },
    {
     "name": "stderr",
     "output_type": "stream",
     "text": [
      " 54%|█████▍    | 103/191 [09:56<08:29,  5.79s/it]"
     ]
    },
    {
     "name": "stdout",
     "output_type": "stream",
     "text": [
      "No such file or no access: radiologist/preprocessed_data/sulc/norm-n21.nii.gz\n",
      "No such file or no access: radiologist/preprocessed_data/thickness/norm-n21.nii.gz\n",
      "No such file or no access: radiologist/preprocessed_data/bluring-T1/sub-50_T1blurring-in-volume.nii.gz\n"
     ]
    },
    {
     "name": "stderr",
     "output_type": "stream",
     "text": [
      " 54%|█████▍    | 104/191 [10:00<08:22,  5.78s/it]"
     ]
    },
    {
     "name": "stdout",
     "output_type": "stream",
     "text": [
      "No such file or no access: radiologist/preprocessed_data/bluring-T1/sub-78NS_T1blurring-in-volume.nii.gz\n",
      "No such file or no access: radiologist/preprocessed_data/curv/norm-78NS.nii.gz\n"
     ]
    },
    {
     "name": "stderr",
     "output_type": "stream",
     "text": [
      " 55%|█████▍    | 105/191 [10:04<08:15,  5.76s/it]"
     ]
    },
    {
     "name": "stdout",
     "output_type": "stream",
     "text": [
      "No such file or no access: radiologist/preprocessed_data/sulc/norm-78NS.nii.gz\n",
      "No such file or no access: radiologist/preprocessed_data/thickness/norm-78NS.nii.gz\n"
     ]
    },
    {
     "name": "stderr",
     "output_type": "stream",
     "text": [
      " 55%|█████▌    | 106/191 [10:10<08:09,  5.76s/it]"
     ]
    },
    {
     "name": "stdout",
     "output_type": "stream",
     "text": [
      "No such file or no access: radiologist/preprocessed_data/bluring-T1/sub-n72_T1blurring-in-volume.nii.gz\n"
     ]
    },
    {
     "name": "stderr",
     "output_type": "stream",
     "text": [
      " 57%|█████▋    | 108/191 [10:21<07:57,  5.75s/it]"
     ]
    },
    {
     "name": "stdout",
     "output_type": "stream",
     "text": [
      "No such file or no access: radiologist/preprocessed_data/bluring-T1/sub-n76_T1blurring-in-volume.nii.gz\n"
     ]
    },
    {
     "name": "stderr",
     "output_type": "stream",
     "text": [
      " 58%|█████▊    | 110/191 [10:27<07:41,  5.70s/it]"
     ]
    },
    {
     "name": "stdout",
     "output_type": "stream",
     "text": [
      "No such file or no access: radiologist/preprocessed_data/bluring-T1/sub-C1_T1blurring-in-volume.nii.gz\n",
      "No such file or no access: radiologist/preprocessed_data/label/C1.nii.gz\n"
     ]
    },
    {
     "name": "stderr",
     "output_type": "stream",
     "text": [
      " 58%|█████▊    | 111/191 [10:31<07:35,  5.69s/it]"
     ]
    },
    {
     "name": "stdout",
     "output_type": "stream",
     "text": [
      "No such file or no access: radiologist/preprocessed_data/bluring-T1/sub-67NS_T1blurring-in-volume.nii.gz\n"
     ]
    },
    {
     "name": "stderr",
     "output_type": "stream",
     "text": [
      " 60%|█████▉    | 114/191 [10:48<07:17,  5.69s/it]"
     ]
    },
    {
     "name": "stdout",
     "output_type": "stream",
     "text": [
      "No such file or no access: radiologist/preprocessed_data/new_pipeline/sub-n18/sub-n18_acq-T1Mprage_space-MNI152NLint2_seq-T1w_brain.nii.gz\n",
      "No such file or no access: radiologist/preprocessed_data/new_pipeline/sub-n18/sub-n18_acq-T2Space_space-MNI152NLint2_seq-T2w_brain.nii.gz\n",
      "No such file or no access: radiologist/preprocessed_data/bluring-T1/sub-n18_T1blurring-in-volume.nii.gz\n",
      "No such file or no access: radiologist/preprocessed_data/bluring-T2/sub-n18_T2blurring-in-volume.nii.gz\n",
      "No such file or no access: radiologist/preprocessed_data/curv/norm-n18.nii.gz\n",
      "No such file or no access: radiologist/preprocessed_data/label/n18.nii.gz\n",
      "No such file or no access: radiologist/preprocessed_data/sulc/norm-n18.nii.gz\n",
      "No such file or no access: radiologist/preprocessed_data/thickness/norm-n18.nii.gz\n"
     ]
    },
    {
     "name": "stderr",
     "output_type": "stream",
     "text": [
      " 61%|██████    | 116/191 [10:54<07:03,  5.65s/it]"
     ]
    },
    {
     "name": "stdout",
     "output_type": "stream",
     "text": [
      "No such file or no access: radiologist/preprocessed_data/bluring-T1/sub-54_T1blurring-in-volume.nii.gz\n"
     ]
    },
    {
     "name": "stderr",
     "output_type": "stream",
     "text": [
      " 61%|██████▏   | 117/191 [11:17<07:08,  5.79s/it]"
     ]
    },
    {
     "name": "stdout",
     "output_type": "stream",
     "text": [
      "No such file or no access: radiologist/preprocessed_data/bluring-T1/sub-G256_T1blurring-in-volume.nii.gz\n",
      "No such file or no access: radiologist/preprocessed_data/curv/norm-G256.nii.gz\n"
     ]
    },
    {
     "name": "stderr",
     "output_type": "stream",
     "text": [
      " 62%|██████▏   | 118/191 [11:20<07:00,  5.77s/it]"
     ]
    },
    {
     "name": "stdout",
     "output_type": "stream",
     "text": [
      "No such file or no access: radiologist/preprocessed_data/sulc/norm-G256.nii.gz\n",
      "No such file or no access: radiologist/preprocessed_data/thickness/norm-G256.nii.gz\n",
      "No such file or no access: radiologist/preprocessed_data/bluring-T1/sub-n69_T1blurring-in-volume.nii.gz\n"
     ]
    },
    {
     "name": "stderr",
     "output_type": "stream",
     "text": [
      " 63%|██████▎   | 120/191 [11:31<06:49,  5.76s/it]"
     ]
    },
    {
     "name": "stdout",
     "output_type": "stream",
     "text": [
      "No such file or no access: radiologist/preprocessed_data/bluring-T1/sub-n23_T1blurring-in-volume.nii.gz\n",
      "No such file or no access: radiologist/preprocessed_data/curv/norm-n23.nii.gz\n"
     ]
    },
    {
     "name": "stderr",
     "output_type": "stream",
     "text": [
      " 63%|██████▎   | 121/191 [11:34<06:41,  5.74s/it]"
     ]
    },
    {
     "name": "stdout",
     "output_type": "stream",
     "text": [
      "No such file or no access: radiologist/preprocessed_data/sulc/norm-n23.nii.gz\n",
      "No such file or no access: radiologist/preprocessed_data/thickness/norm-n23.nii.gz\n",
      "No such file or no access: radiologist/preprocessed_data/bluring-T1/sub-59_T1blurring-in-volume.nii.gz\n"
     ]
    },
    {
     "name": "stderr",
     "output_type": "stream",
     "text": [
      " 64%|██████▍   | 122/191 [11:38<06:35,  5.73s/it]"
     ]
    },
    {
     "name": "stdout",
     "output_type": "stream",
     "text": [
      "No such file or no access: radiologist/preprocessed_data/bluring-T1/sub-81NS_T1blurring-in-volume.nii.gz\n"
     ]
    },
    {
     "name": "stderr",
     "output_type": "stream",
     "text": [
      " 64%|██████▍   | 123/191 [11:43<06:28,  5.72s/it]"
     ]
    },
    {
     "name": "stdout",
     "output_type": "stream",
     "text": [
      "No such file or no access: radiologist/preprocessed_data/bluring-T1/sub-n37_T1blurring-in-volume.nii.gz\n"
     ]
    },
    {
     "name": "stderr",
     "output_type": "stream",
     "text": [
      " 65%|██████▌   | 125/191 [11:49<06:14,  5.68s/it]"
     ]
    },
    {
     "name": "stdout",
     "output_type": "stream",
     "text": [
      "No such file or no access: radiologist/preprocessed_data/new_pipeline/sub-n66/sub-n66_acq-T1Mprage_space-MNI152NLint2_seq-T1w_brain.nii.gz\n",
      "No such file or no access: radiologist/preprocessed_data/bluring-T1/sub-n66_T1blurring-in-volume.nii.gz\n"
     ]
    },
    {
     "name": "stderr",
     "output_type": "stream",
     "text": [
      " 66%|██████▌   | 126/191 [11:53<06:07,  5.66s/it]"
     ]
    },
    {
     "name": "stdout",
     "output_type": "stream",
     "text": [
      "No such file or no access: radiologist/preprocessed_data/bluring-T1/sub-n47_T1blurring-in-volume.nii.gz\n"
     ]
    },
    {
     "name": "stderr",
     "output_type": "stream",
     "text": [
      " 68%|██████▊   | 129/191 [12:05<05:48,  5.63s/it]"
     ]
    },
    {
     "name": "stdout",
     "output_type": "stream",
     "text": [
      "No such file or no access: radiologist/preprocessed_data/bluring-T1/sub-88NS_T1blurring-in-volume.nii.gz\n"
     ]
    },
    {
     "name": "stderr",
     "output_type": "stream",
     "text": [
      " 69%|██████▊   | 131/191 [12:16<05:37,  5.62s/it]"
     ]
    },
    {
     "name": "stdout",
     "output_type": "stream",
     "text": [
      "No such file or no access: radiologist/preprocessed_data/bluring-T1/sub-n62_T1blurring-in-volume.nii.gz\n"
     ]
    },
    {
     "name": "stderr",
     "output_type": "stream",
     "text": [
      " 69%|██████▉   | 132/191 [12:20<05:31,  5.61s/it]"
     ]
    },
    {
     "name": "stdout",
     "output_type": "stream",
     "text": [
      "No such file or no access: radiologist/preprocessed_data/bluring-T1/sub-n54_T1blurring-in-volume.nii.gz\n"
     ]
    },
    {
     "name": "stderr",
     "output_type": "stream",
     "text": [
      " 70%|███████   | 134/191 [12:31<05:19,  5.61s/it]"
     ]
    },
    {
     "name": "stdout",
     "output_type": "stream",
     "text": [
      "No such file or no access: radiologist/preprocessed_data/bluring-T1/sub-n53_T1blurring-in-volume.nii.gz\n"
     ]
    },
    {
     "name": "stderr",
     "output_type": "stream",
     "text": [
      " 71%|███████   | 135/191 [12:36<05:13,  5.60s/it]"
     ]
    },
    {
     "name": "stdout",
     "output_type": "stream",
     "text": [
      "No such file or no access: radiologist/preprocessed_data/bluring-T1/sub-G184_T1blurring-in-volume.nii.gz\n"
     ]
    },
    {
     "name": "stderr",
     "output_type": "stream",
     "text": [
      " 71%|███████   | 136/191 [12:40<05:07,  5.59s/it]"
     ]
    },
    {
     "name": "stdout",
     "output_type": "stream",
     "text": [
      "No such file or no access: radiologist/preprocessed_data/bluring-T1/sub-61_T1blurring-in-volume.nii.gz\n"
     ]
    },
    {
     "name": "stderr",
     "output_type": "stream",
     "text": [
      " 72%|███████▏  | 137/191 [12:44<05:01,  5.58s/it]"
     ]
    },
    {
     "name": "stdout",
     "output_type": "stream",
     "text": [
      "No such file or no access: radiologist/preprocessed_data/bluring-T1/sub-n75_T1blurring-in-volume.nii.gz\n"
     ]
    },
    {
     "name": "stderr",
     "output_type": "stream",
     "text": [
      " 73%|███████▎  | 139/191 [12:56<04:50,  5.58s/it]"
     ]
    },
    {
     "name": "stdout",
     "output_type": "stream",
     "text": [
      "No such file or no access: radiologist/preprocessed_data/bluring-T1/sub-84_T1blurring-in-volume.nii.gz\n"
     ]
    },
    {
     "name": "stderr",
     "output_type": "stream",
     "text": [
      " 73%|███████▎  | 140/191 [13:00<04:44,  5.57s/it]"
     ]
    },
    {
     "name": "stdout",
     "output_type": "stream",
     "text": [
      "No such file or no access: radiologist/preprocessed_data/bluring-T1/sub-n39_T1blurring-in-volume.nii.gz\n"
     ]
    },
    {
     "name": "stderr",
     "output_type": "stream",
     "text": [
      " 74%|███████▍  | 142/191 [13:10<04:32,  5.57s/it]"
     ]
    },
    {
     "name": "stdout",
     "output_type": "stream",
     "text": [
      "No such file or no access: radiologist/preprocessed_data/bluring-T1/sub-G417_T1blurring-in-volume.nii.gz\n",
      "No such file or no access: radiologist/preprocessed_data/bluring-T2/sub-G417_T2blurring-in-volume.nii.gz\n",
      "No such file or no access: radiologist/preprocessed_data/label/G417.nii.gz\n"
     ]
    },
    {
     "name": "stderr",
     "output_type": "stream",
     "text": [
      " 75%|███████▌  | 144/191 [13:19<04:21,  5.55s/it]"
     ]
    },
    {
     "name": "stdout",
     "output_type": "stream",
     "text": [
      "No such file or no access: radiologist/preprocessed_data/bluring-T1/sub-n83_T1blurring-in-volume.nii.gz\n"
     ]
    },
    {
     "name": "stderr",
     "output_type": "stream",
     "text": [
      " 76%|███████▌  | 145/191 [13:24<04:15,  5.55s/it]"
     ]
    },
    {
     "name": "stdout",
     "output_type": "stream",
     "text": [
      "No such file or no access: radiologist/preprocessed_data/bluring-T1/sub-n82_T1blurring-in-volume.nii.gz\n"
     ]
    },
    {
     "name": "stderr",
     "output_type": "stream",
     "text": [
      " 76%|███████▋  | 146/191 [13:29<04:09,  5.54s/it]"
     ]
    },
    {
     "name": "stdout",
     "output_type": "stream",
     "text": [
      "No such file or no access: radiologist/preprocessed_data/bluring-T1/sub-n44_T1blurring-in-volume.nii.gz\n"
     ]
    },
    {
     "name": "stderr",
     "output_type": "stream",
     "text": [
      " 78%|███████▊  | 149/191 [13:45<03:52,  5.54s/it]"
     ]
    },
    {
     "name": "stdout",
     "output_type": "stream",
     "text": [
      "No such file or no access: radiologist/preprocessed_data/bluring-T1/sub-n57_T1blurring-in-volume.nii.gz\n"
     ]
    },
    {
     "name": "stderr",
     "output_type": "stream",
     "text": [
      " 80%|███████▉  | 152/191 [14:02<03:36,  5.54s/it]"
     ]
    },
    {
     "name": "stdout",
     "output_type": "stream",
     "text": [
      "No such file or no access: radiologist/preprocessed_data/bluring-T1/sub-G150_T1blurring-in-volume.nii.gz\n"
     ]
    },
    {
     "name": "stderr",
     "output_type": "stream",
     "text": [
      " 81%|████████  | 154/191 [14:13<03:25,  5.54s/it]"
     ]
    },
    {
     "name": "stdout",
     "output_type": "stream",
     "text": [
      "No such file or no access: radiologist/preprocessed_data/bluring-T1/sub-n74_T1blurring-in-volume.nii.gz\n"
     ]
    },
    {
     "name": "stderr",
     "output_type": "stream",
     "text": [
      " 82%|████████▏ | 156/191 [14:24<03:13,  5.54s/it]"
     ]
    },
    {
     "name": "stdout",
     "output_type": "stream",
     "text": [
      "No such file or no access: radiologist/preprocessed_data/bluring-T1/sub-80NS_T1blurring-in-volume.nii.gz\n"
     ]
    },
    {
     "name": "stderr",
     "output_type": "stream",
     "text": [
      " 82%|████████▏ | 157/191 [14:28<03:08,  5.53s/it]"
     ]
    },
    {
     "name": "stdout",
     "output_type": "stream",
     "text": [
      "No such file or no access: radiologist/preprocessed_data/new_pipeline/sub-G507/sub-G507_acq-T1Mprage_space-MNI152NLint2_seq-T1w_brain.nii.gz\n",
      "No such file or no access: radiologist/preprocessed_data/new_pipeline/sub-G507/sub-G507_acq-T2Space_space-MNI152NLint2_seq-T2w_brain.nii.gz\n",
      "No such file or no access: radiologist/preprocessed_data/bluring-T1/sub-G507_T1blurring-in-volume.nii.gz\n",
      "No such file or no access: radiologist/preprocessed_data/bluring-T2/sub-G507_T2blurring-in-volume.nii.gz\n",
      "No such file or no access: radiologist/preprocessed_data/curv/norm-G507.nii.gz\n",
      "No such file or no access: radiologist/preprocessed_data/label/G507.nii.gz\n",
      "No such file or no access: radiologist/preprocessed_data/sulc/norm-G507.nii.gz\n",
      "No such file or no access: radiologist/preprocessed_data/thickness/norm-G507.nii.gz\n",
      "No such file or no access: radiologist/preprocessed_data/bluring-T1/sub-62NS_T1blurring-in-volume.nii.gz\n"
     ]
    },
    {
     "name": "stderr",
     "output_type": "stream",
     "text": [
      " 83%|████████▎ | 159/191 [14:33<02:55,  5.50s/it]"
     ]
    },
    {
     "name": "stdout",
     "output_type": "stream",
     "text": [
      "No such file or no access: radiologist/preprocessed_data/bluring-T1/sub-n51_T1blurring-in-volume.nii.gz\n"
     ]
    },
    {
     "name": "stderr",
     "output_type": "stream",
     "text": [
      " 84%|████████▍ | 160/191 [14:38<02:50,  5.49s/it]"
     ]
    },
    {
     "name": "stdout",
     "output_type": "stream",
     "text": [
      "No such file or no access: radiologist/preprocessed_data/bluring-T1/sub-n49_T1blurring-in-volume.nii.gz\n"
     ]
    },
    {
     "name": "stderr",
     "output_type": "stream",
     "text": [
      " 85%|████████▍ | 162/191 [14:45<02:38,  5.47s/it]"
     ]
    },
    {
     "name": "stdout",
     "output_type": "stream",
     "text": [
      "No such file or no access: radiologist/preprocessed_data/bluring-T1/sub-27_T1blurring-in-volume.nii.gz\n"
     ]
    },
    {
     "name": "stderr",
     "output_type": "stream",
     "text": [
      " 86%|████████▌ | 164/191 [14:56<02:27,  5.47s/it]"
     ]
    },
    {
     "name": "stdout",
     "output_type": "stream",
     "text": [
      "No such file or no access: radiologist/preprocessed_data/bluring-T1/sub-56_T1blurring-in-volume.nii.gz\n",
      "No such file or no access: radiologist/preprocessed_data/bluring-T2/sub-56_T2blurring-in-volume.nii.gz\n",
      "No such file or no access: radiologist/preprocessed_data/label/56.nii.gz\n"
     ]
    },
    {
     "name": "stderr",
     "output_type": "stream",
     "text": [
      " 86%|████████▋ | 165/191 [15:00<02:21,  5.46s/it]"
     ]
    },
    {
     "name": "stdout",
     "output_type": "stream",
     "text": [
      "No such file or no access: radiologist/preprocessed_data/bluring-T1/sub-63NS_T1blurring-in-volume.nii.gz\n"
     ]
    },
    {
     "name": "stderr",
     "output_type": "stream",
     "text": [
      " 87%|████████▋ | 167/191 [15:11<02:11,  5.46s/it]"
     ]
    },
    {
     "name": "stdout",
     "output_type": "stream",
     "text": [
      "No such file or no access: radiologist/preprocessed_data/bluring-T1/sub-n65_T1blurring-in-volume.nii.gz\n"
     ]
    },
    {
     "name": "stderr",
     "output_type": "stream",
     "text": [
      " 88%|████████▊ | 169/191 [15:21<01:59,  5.45s/it]"
     ]
    },
    {
     "name": "stdout",
     "output_type": "stream",
     "text": [
      "No such file or no access: radiologist/preprocessed_data/bluring-T1/sub-74NS_T1blurring-in-volume.nii.gz\n"
     ]
    },
    {
     "name": "stderr",
     "output_type": "stream",
     "text": [
      " 92%|█████████▏| 176/191 [16:02<01:22,  5.47s/it]"
     ]
    },
    {
     "name": "stdout",
     "output_type": "stream",
     "text": [
      "No such file or no access: radiologist/preprocessed_data/bluring-T1/sub-73NS_T1blurring-in-volume.nii.gz\n"
     ]
    },
    {
     "name": "stderr",
     "output_type": "stream",
     "text": [
      " 93%|█████████▎| 177/191 [16:05<01:16,  5.45s/it]"
     ]
    },
    {
     "name": "stdout",
     "output_type": "stream",
     "text": [
      "No such file or no access: radiologist/preprocessed_data/bluring-T1/sub-69NS_T1blurring-in-volume.nii.gz\n"
     ]
    },
    {
     "name": "stderr",
     "output_type": "stream",
     "text": [
      " 93%|█████████▎| 178/191 [16:10<01:10,  5.45s/it]"
     ]
    },
    {
     "name": "stdout",
     "output_type": "stream",
     "text": [
      "No such file or no access: radiologist/preprocessed_data/bluring-T1/sub-C11_T1blurring-in-volume.nii.gz\n",
      "No such file or no access: radiologist/preprocessed_data/label/C11.nii.gz\n"
     ]
    },
    {
     "name": "stderr",
     "output_type": "stream",
     "text": [
      " 94%|█████████▎| 179/191 [16:14<01:05,  5.45s/it]"
     ]
    },
    {
     "name": "stdout",
     "output_type": "stream",
     "text": [
      "No such file or no access: radiologist/preprocessed_data/bluring-T1/sub-72NS_T1blurring-in-volume.nii.gz\n"
     ]
    },
    {
     "name": "stderr",
     "output_type": "stream",
     "text": [
      " 95%|█████████▌| 182/191 [16:28<00:48,  5.43s/it]"
     ]
    },
    {
     "name": "stdout",
     "output_type": "stream",
     "text": [
      "No such file or no access: radiologist/preprocessed_data/bluring-T1/sub-51_T1blurring-in-volume.nii.gz\n"
     ]
    },
    {
     "name": "stderr",
     "output_type": "stream",
     "text": [
      " 98%|█████████▊| 187/191 [16:56<00:21,  5.44s/it]"
     ]
    },
    {
     "name": "stdout",
     "output_type": "stream",
     "text": [
      "No such file or no access: radiologist/preprocessed_data/bluring-T1/sub-68NS_T1blurring-in-volume.nii.gz\n"
     ]
    },
    {
     "name": "stderr",
     "output_type": "stream",
     "text": [
      " 98%|█████████▊| 188/191 [17:02<00:16,  5.44s/it]"
     ]
    },
    {
     "name": "stdout",
     "output_type": "stream",
     "text": [
      "No such file or no access: radiologist/preprocessed_data/bluring-T1/sub-n56_T1blurring-in-volume.nii.gz\n"
     ]
    },
    {
     "name": "stderr",
     "output_type": "stream",
     "text": [
      " 99%|█████████▉| 189/191 [17:06<00:10,  5.43s/it]"
     ]
    },
    {
     "name": "stdout",
     "output_type": "stream",
     "text": [
      "No such file or no access: radiologist/preprocessed_data/bluring-T1/sub-60_T1blurring-in-volume.nii.gz\n"
     ]
    },
    {
     "name": "stderr",
     "output_type": "stream",
     "text": [
      " 99%|█████████▉| 190/191 [17:11<00:05,  5.43s/it]"
     ]
    },
    {
     "name": "stdout",
     "output_type": "stream",
     "text": [
      "No such file or no access: radiologist/preprocessed_data/bluring-T1/sub-58_T1blurring-in-volume.nii.gz\n"
     ]
    },
    {
     "name": "stderr",
     "output_type": "stream",
     "text": [
      "100%|██████████| 191/191 [17:15<00:00,  5.42s/it]\n"
     ]
    }
   ],
   "source": [
    "subjects = [x.split('-')[-1] for x in glob.glob('radiologist/preprocessed_data/new_pipeline/*')]\n",
    "\n",
    "paths_names = [\n",
    "    't1_brain_path', \n",
    "    't2_brain_path',\n",
    "    't1_bluring_path', \n",
    "    't2_bluring_path',\n",
    "    'curv_path', \n",
    "    'label_path', \n",
    "    'sulc_path', \n",
    "    'thickness_path'\n",
    "]\n",
    "\n",
    "df = pd.DataFrame(columns = ['subject', 'shape'] + paths_names)\n",
    "\n",
    "for i, subject in tqdm(enumerate(subjects), total=len(subjects)):\n",
    "        \n",
    "    t1_brain_path = f'radiologist/preprocessed_data/new_pipeline/sub-{subject}/sub-{subject}_acq-T1Mprage_space-MNI152NLint2_seq-T1w_brain.nii.gz'\n",
    "    t2_brain_path = f'radiologist/preprocessed_data/new_pipeline/sub-{subject}/sub-{subject}_acq-T2Space_space-MNI152NLint2_seq-T2w_brain.nii.gz'\n",
    "    t1_bluring_path = f'radiologist/preprocessed_data/bluring-T1/sub-{subject}_T1blurring-in-volume.nii.gz'\n",
    "    t2_bluring_path = f'radiologist/preprocessed_data/bluring-T2/sub-{subject}_T2blurring-in-volume.nii.gz'\n",
    "    curv_path = f'radiologist/preprocessed_data/curv/norm-{subject}.nii.gz'\n",
    "    label_path = f'radiologist/preprocessed_data/label/{subject}.nii.gz'\n",
    "    sulc_path = f'radiologist/preprocessed_data/sulc/norm-{subject}.nii.gz'\n",
    "    thickness_path = f'radiologist/preprocessed_data/thickness/norm-{subject}.nii.gz'\n",
    "\n",
    "    paths = [\n",
    "        t1_brain_path, \n",
    "        t2_brain_path,\n",
    "        t1_bluring_path, \n",
    "        t2_bluring_path,\n",
    "        curv_path, \n",
    "        label_path, \n",
    "        sulc_path, \n",
    "        thickness_path,\n",
    "    ]\n",
    "    \n",
    "    df.loc[i, 'subject'] = subject\n",
    "    for path, path_name in zip(paths, paths_names):\n",
    "        try:\n",
    "            data = load_nii_to_array(path)\n",
    "            df.loc[i, 'shape'] = data.shape\n",
    "            df.loc[i, path_name] = path\n",
    "        except:\n",
    "            df.loc[i, path_name] = None\n",
    "\n",
    "df.loc[df[df['shape'].isna()].index, 'shape'] = [(None, None, None)]\n",
    "df.to_csv('data/table_data/subjects.csv')"
   ]
  },
  {
   "cell_type": "code",
   "execution_count": 3,
   "id": "52c91e73-aed2-4dc5-a8a7-2de88928056f",
   "metadata": {},
   "outputs": [
    {
     "data": {
      "text/plain": [
       "(241, 293, 247)       70\n",
       "(241, 336, 283)       64\n",
       "(241, 286, 241)       18\n",
       "(241, 288, 242)       14\n",
       "(215, 293, 247)        7\n",
       "(None, None, None)     6\n",
       "(161, 229, 193)        5\n",
       "(215, 255, 193)        2\n",
       "(241, 301, 253)        1\n",
       "(957, 101, 957)        1\n",
       "(215, 558, 470)        1\n",
       "(268, 316, 267)        1\n",
       "(241, 644, 542)        1\n",
       "Name: shape, dtype: int64"
      ]
     },
     "execution_count": 3,
     "metadata": {},
     "output_type": "execute_result"
    }
   ],
   "source": [
    "# df = pd.read_csv('data/table_data/subjects.csv', index_col=0)\n",
    "df['shape'].value_counts()"
   ]
  },
  {
   "cell_type": "code",
   "execution_count": 4,
   "id": "195ef0cb-29fc-4f11-9515-564b66a6c71b",
   "metadata": {},
   "outputs": [],
   "source": [
    "most_common_shape = (241, 293, 247) "
   ]
  },
  {
   "cell_type": "markdown",
   "id": "d893c41a-72ee-4280-8106-79fefdd83256",
   "metadata": {},
   "source": [
    "### Preprocessing data\n",
    "- Rescaling to the most common shape "
   ]
  },
  {
   "cell_type": "code",
   "execution_count": 5,
   "id": "5ba13da8-10df-446b-9e18-13721961bce0",
   "metadata": {
    "tags": []
   },
   "outputs": [],
   "source": [
    "subjects = df.subject.values.tolist()\n",
    "\n",
    "dict_with_all_paths, dict_with_brain_masks = {}, {}\n",
    "for subject in subjects:\n",
    "    \n",
    "    t1_brain_path = f'radiologist/preprocessed_data/new_pipeline/sub-{subject}/sub-{subject}_acq-T1Mprage_space-MNI152NLint2_seq-T1w_brain.nii.gz'\n",
    "    t2_brain_path = f'radiologist/preprocessed_data/new_pipeline/sub-{subject}/sub-{subject}_acq-T2Space_space-MNI152NLint2_seq-T2w_brain.nii.gz'\n",
    "    t1_bluring_path = f'radiologist/preprocessed_data/bluring-T1/sub-{subject}_T1blurring-in-volume.nii.gz'\n",
    "    t2_bluring_path = f'radiologist/preprocessed_data/bluring-T2/sub-{subject}_T2blurring-in-volume.nii.gz'\n",
    "    curv_path = f'radiologist/preprocessed_data/curv/norm-{subject}.nii.gz'\n",
    "    sulc_path = f'radiologist/preprocessed_data/sulc/norm-{subject}.nii.gz'\n",
    "    thickness_path = f'radiologist/preprocessed_data/thickness/norm-{subject}.nii.gz'\n",
    "    label_path = f'radiologist/preprocessed_data/label/{subject}.nii.gz'\n",
    "    t1_brain_mask = f'radiologist/preprocessed_data/new_pipeline/sub-{subject}/sub-{subject}_acq-T1Mprage_space-MNI152NLint2_seq-T1w_brain.nii_mask.nii.gz'\n",
    "    t2_brain_mask = f'radiologist/preprocessed_data/new_pipeline/sub-{subject}/sub-{subject}_acq-T2Space_space-MNI152NLint2_seq-T2w_brain.nii_mask.nii.gz'\n",
    "    \n",
    "    dict_with_all_paths[subject] = [\n",
    "        t1_brain_path, \n",
    "        t2_brain_path, \n",
    "        t1_bluring_path,\n",
    "        t2_bluring_path, \n",
    "        curv_path, \n",
    "        sulc_path, \n",
    "        thickness_path,\n",
    "        label_path,\n",
    "    ]\n",
    "    \n",
    "    dict_with_brain_masks[subject] = [\n",
    "        t1_brain_mask, \n",
    "        t2_brain_mask,\n",
    "    ]"
   ]
  },
  {
   "cell_type": "code",
   "execution_count": 6,
   "id": "384fa3c4-d5df-4367-b4b0-c787ce783140",
   "metadata": {},
   "outputs": [
    {
     "name": "stderr",
     "output_type": "stream",
     "text": [
      "100%|██████████| 191/191 [06:23<00:00,  2.01s/it]\n",
      "100%|██████████| 191/191 [2:21:07<00:00, 44.33s/it]  \n"
     ]
    }
   ],
   "source": [
    "data_names = [\n",
    "    't1_brains', \n",
    "    't2_brains',\n",
    "    't1_bluring', \n",
    "    't2_bluring',\n",
    "    'curv', \n",
    "    'sulc', \n",
    "    'thickness', \n",
    "    'labels',\n",
    "]\n",
    "\n",
    "brain_mask_names = [\n",
    "    't1_brain_mask',\n",
    "    't2_brain_mask',\n",
    "]\n",
    "\n",
    "for name in data_names+brain_mask_names:\n",
    "    os.makedirs(f'data/{name}', exist_ok=True)\n",
    "    \n",
    "brain_with_most_common_shape = nib.load('radiologist/preprocessed_data/new_pipeline/sub-n78/sub-n78_acq-T1Mprage_space-MNI152NLint2_seq-T1w_brain.nii.gz')\n",
    "\n",
    "for subject in tqdm(subjects):\n",
    "    for path, name in zip(dict_with_brain_masks[subject], brain_mask_names):\n",
    "        try:\n",
    "            \n",
    "            nib_data = nib.load(path)\n",
    "            \n",
    "            if nib_data.shape != most_common_shape:\n",
    "                nib_data = nilearn.image.resample_to_img(nib_data, brain_with_most_common_shape, interpolation='nearest')\n",
    "                nib.save(nib_data, f'data/{name}/{subject}.nii.gz')\n",
    "            else:\n",
    "                nib.save(nib_data, f'data/{name}/{subject}.nii.gz')\n",
    "        \n",
    "        except:\n",
    "            continue \n",
    "\n",
    "for subject in tqdm(subjects):\n",
    "    for path, name in zip(dict_with_all_paths[subject], data_names):\n",
    "        \n",
    "        try:\n",
    "\n",
    "            nib_data_origin = nib.load(path)  \n",
    "            nib_brain_mask = nib.load(f'data/t2_brain_mask/{subject}.nii.gz') if 't2' in name else nib.load(f'data/t1_brain_mask/{subject}.nii.gz')\n",
    "            \n",
    "            if nib_data_origin.shape != most_common_shape:\n",
    "                \n",
    "                if name != 'labels':\n",
    "                    nib_data = nilearn.image.resample_to_img(nib_data_origin, brain_with_most_common_shape)  \n",
    "                else:\n",
    "                    nib_data = nilearn.image.resample_to_img(nib_data_origin, brain_with_most_common_shape, interpolation='nearest')\n",
    "                \n",
    "                data = nib_data.get_fdata() * nib_brain_mask.get_fdata()\n",
    "                nib_data = nib.Nifti1Image(data, nib_data_origin.affine)\n",
    "                \n",
    "            else:\n",
    "                \n",
    "                data = nib_data_origin.get_fdata() * nib_brain_mask.get_fdata()\n",
    "                nib_data = nib.Nifti1Image(data, nib_data_origin.affine)\n",
    "            \n",
    "            nib.save(nib_data, f'data/{name}/{subject}.nii.gz')\n",
    "        \n",
    "        except:\n",
    "            continue"
   ]
  },
  {
   "cell_type": "code",
   "execution_count": null,
   "id": "1d19f4bb-854b-453e-b7e1-9545bfc73bf6",
   "metadata": {},
   "outputs": [],
   "source": []
  },
  {
   "cell_type": "code",
   "execution_count": null,
   "id": "34b908ae-a61b-470f-958c-2c1f5804b61a",
   "metadata": {},
   "outputs": [],
   "source": []
  }
 ],
 "metadata": {
  "kernelspec": {
   "display_name": "Python 3",
   "language": "python",
   "name": "python3"
  },
  "language_info": {
   "codemirror_mode": {
    "name": "ipython",
    "version": 3
   },
   "file_extension": ".py",
   "mimetype": "text/x-python",
   "name": "python",
   "nbconvert_exporter": "python",
   "pygments_lexer": "ipython3",
   "version": "3.6.9"
  }
 },
 "nbformat": 4,
 "nbformat_minor": 5
}
