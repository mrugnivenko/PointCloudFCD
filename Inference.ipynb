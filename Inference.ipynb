{
 "cells": [
  {
   "cell_type": "code",
   "execution_count": 1,
   "id": "5bbc39f1-20d2-49eb-941d-230c0a5c9b70",
   "metadata": {},
   "outputs": [],
   "source": [
    "import os\n",
    "import imp\n",
    "import time\n",
    "import utils\n",
    "import torch\n",
    "import pickle\n",
    "import datetime\n",
    "import numpy as np\n",
    "from tqdm import tqdm\n",
    "from utils.fcd import *\n",
    "from utils.data_processor import *\n",
    "from utils.crop import BrainDataSegCrop\n",
    "from sklearn.model_selection import KFold\n",
    "\n",
    "import warnings\n",
    "warnings.filterwarnings(\"ignore\")"
   ]
  },
  {
   "cell_type": "code",
   "execution_count": 2,
   "id": "a3e30678-3d04-4f49-b184-e02af46956c8",
   "metadata": {},
   "outputs": [
    {
     "name": "stdout",
     "output_type": "stream",
     "text": [
      "Current device: 0\n"
     ]
    }
   ],
   "source": [
    "\"\"\"\n",
    "There 3 types of model training:\n",
    "- whole: on the whole brain \n",
    "- temple: on the temple part of the brain\n",
    "- nottemple: on the whole brain without temple part \n",
    "\"\"\"\n",
    "BRAIN_TYPE = 'nottemple' # 'whole', 'temple', 'nottemple'\n",
    "\n",
    "\"\"\"\n",
    "There 2 types of Local Agragation Operators:\n",
    "- pospoolxyz\n",
    "- pointwisemlp\n",
    "\"\"\"\n",
    "CFG = 'cfgs/brain/brain_pospoolxyz.yaml' # 'cfgs/brain/brain_pointwisemlp.yaml'\n",
    "\n",
    "\"\"\"\n",
    "There 3 GPUs:\n",
    "- 0\n",
    "- 1\n",
    "- 2\n",
    "\"\"\"\n",
    "DEVICE = 0\n",
    "torch.cuda.set_device(DEVICE)\n",
    "print(f'Current device: {torch.cuda.current_device()}')\n",
    "\n",
    "FOLDED = True\n",
    "\n",
    "REPEAT = 1\n",
    "CROP_SIZE = 64\n",
    "STEP_SIZE = 32\n",
    "EPOCHS = 400\n",
    "\n",
    "IS_RETURN_PC_WITHOUT_AIR_POINTS = False\n",
    "\n",
    "EXP_NAME = \"2021-11-04_16bs_abscoords_air_cropsize64_epochs400_nottemple\"\n",
    "IS_RETURN_ABS_COORDS = \"abs\" in EXP_NAME\n",
    "\n",
    "\n",
    "#For loss\n",
    "LOSS_TYPE = 'BCE'"
   ]
  },
  {
   "cell_type": "code",
   "execution_count": 3,
   "id": "b2bdc3c0-effa-4495-a1af-82144f16a39f",
   "metadata": {
    "tags": []
   },
   "outputs": [],
   "source": [
    "config = config_seting(CFG)\n",
    "\n",
    "with open(f\"predictions/KFold/{EXP_NAME}.pkl\", 'rb') as f:\n",
    "    kf = pickle.load(f)"
   ]
  },
  {
   "cell_type": "code",
   "execution_count": 4,
   "id": "35a9e3ac",
   "metadata": {},
   "outputs": [
    {
     "name": "stderr",
     "output_type": "stream",
     "text": [
      "100%|██████████| 81/81 [00:00<00:00, 179471.01it/s]\n",
      "100%|██████████| 81/81 [00:00<00:00, 246187.41it/s]\n",
      "100%|██████████| 81/81 [00:00<00:00, 229553.12it/s]\n",
      "100%|██████████| 81/81 [00:00<00:00, 295682.01it/s]\n",
      "100%|██████████| 81/81 [00:00<00:00, 402057.54it/s]\n"
     ]
    }
   ],
   "source": [
    "allowed_subjects = np.load('raw_data/sub_with_all_data.npy', allow_pickle=True).tolist()\n",
    "\n",
    "if not allowed_subjects:\n",
    "    allowed_subdirs = [f\"sub-{name[:-4]}\" for name in os.listdir(f\"raw_data/normalized_label\")]\n",
    "else:\n",
    "    allowed_subdirs = [f'sub-{name}' for name in allowed_subjects]\n",
    "    \n",
    "brains = [[f\"raw_data/output/fmriprep/{subdir}/anat/{name}\" for name in os.listdir(f\"raw_data/output/fmriprep/{subdir}/anat\") if name.endswith(\"Asym_desc-preproc_T1w.nii.gz\")] for subdir in os.listdir(f\"raw_data/output/fmriprep/\") if subdir.count(\".\") == 0 and subdir.startswith(\"sub\") and subdir in allowed_subdirs]\n",
    "brains = [item for sublist in brains for item in sublist]\n",
    "brain_nums = [x.split('/')[3][4:] for x in brains]\n",
    "\n",
    "if BRAIN_TYPE == 'whole':\n",
    "    BRAIN_TYPE = 'full'\n",
    "    \n",
    "brains_loaded = [f\"dataset_ready_to_use/data_only_usefull_areas/{BRAIN_TYPE}/brains/{num}.npy\" for num in tqdm(brain_nums)]\n",
    "labels_loaded = [f\"dataset_ready_to_use/data_only_usefull_areas/{BRAIN_TYPE}/labels/{num}.npy\" for num in tqdm(brain_nums)]\n",
    "curv_loaded = [f\"dataset_ready_to_use/data_only_usefull_areas/{BRAIN_TYPE}/curv/{num}.npy\" for num in tqdm(brain_nums)]\n",
    "thickness_loaded = [f\"dataset_ready_to_use/data_only_usefull_areas/{BRAIN_TYPE}/thickness/{num}.npy\" for num in tqdm(brain_nums)]\n",
    "sulc_loaded = [f\"dataset_ready_to_use/data_only_usefull_areas/{BRAIN_TYPE}/sulc/{num}.npy\" for num in tqdm(brain_nums)]"
   ]
  },
  {
   "cell_type": "code",
   "execution_count": 5,
   "id": "39d2ed20",
   "metadata": {},
   "outputs": [],
   "source": [
    "!mkdir predictions/{EXP_NAME}"
   ]
  },
  {
   "cell_type": "code",
   "execution_count": 6,
   "id": "bcce6e4f-e3eb-4ec3-bb7c-71eba6b1e866",
   "metadata": {},
   "outputs": [],
   "source": [
    "def model_and_brains_to_points_with_predictions(config,\n",
    "                                                kf,\n",
    "                                                num_votes,\n",
    "                                                repeat,\n",
    "                                                brains_loaded,\n",
    "                                                labels_loaded,\n",
    "                                                curv_loaded,\n",
    "                                                thickness_loaded,\n",
    "                                                sulc_loaded,\n",
    "                                                exp_name\n",
    "                                               ):\n",
    "    \"\"\"\n",
    "    \"\"\"\n",
    "    \n",
    "    res = {}\n",
    "    for e, (train_idxs, test_idxs) in tqdm(enumerate(kf.split(brains_loaded))): \n",
    "        \n",
    "        test_dicts = [{'brains': [brains_loaded[idx]],\n",
    "                       'labels': [labels_loaded[idx]],\n",
    "#                        'curvs': [curv_loaded[idx]],\n",
    "#                        'thickness': [thickness_loaded[idx]],\n",
    "#                        'sulc': [sulc_loaded[idx]]\n",
    "                      } for idx in test_idxs]\n",
    "        \n",
    "        model, criterion = build_multi_part_segmentation(config=config, weights=None, type=LOSS_TYPE)\n",
    "        model.load_state_dict(torch.load(f'checkpoints/{exp_name}_{e + 1}_fold.pth'))\n",
    "        model.cuda()\n",
    "        model.eval()\n",
    "        criterion.cuda()\n",
    "        \n",
    "        with torch.no_grad():\n",
    "            \n",
    "            transform_for_vote = d_utils.BatchPointcloudScaleAndJitter(scale_low=config.scale_low,\n",
    "                                                                       scale_high=config.scale_high,\n",
    "                                                                       std=config.noise_std,\n",
    "                                                                       clip=config.noise_clip\n",
    "                                                                      )\n",
    "            \n",
    "            softmax = torch.nn.Softmax(dim=0)\n",
    "            \n",
    "            data_loader = [BrainDataSegCrop(num_points=4096,\n",
    "                                            task='test',\n",
    "                                            data_dict = test_dict,\n",
    "                                            step_size = STEP_SIZE,\n",
    "                                            crop_size = CROP_SIZE,\n",
    "                                            return_center = True,\n",
    "                                            return_air_mask_test = True,\n",
    "                                            is_folded = FOLDED,\n",
    "                                            return_pc_without_air_points = IS_RETURN_PC_WITHOUT_AIR_POINTS, \n",
    "                                            return_abs_coords = IS_RETURN_ABS_COORDS,\n",
    "                                            MEANS = {'brains': 161.2455},\n",
    "                                            STDS = {'brains': 167.36417}\n",
    "                                           ) for test_dict in test_dicts]\n",
    "            \n",
    "            for i, test_brain in tqdm(enumerate(test_idxs)):\n",
    "                print(f\"Working on brain {test_brain}\")\n",
    "                pred_soft_flats = []\n",
    "                air_masks_flats = []\n",
    "                points_labels_flats = []\n",
    "                center_coords_flats = []\n",
    "                points_orig_flats = []\n",
    "                points_masks_flats = []#NNN\n",
    "                all_logits = []\n",
    "                all_points_labels = []\n",
    "                all_shape_labels = []\n",
    "                all_masks = []\n",
    "                print(len(data_loader[i]))\n",
    "                for k, crop in enumerate(data_loader[i]):\n",
    "                    for _ in range(repeat):\n",
    "                        points_orig, mask, points_labels, shape_labels, air_mask = [\n",
    "                            crop[key] for key in [\n",
    "                                \"current_points\", \"mask\", \"current_points_labels\", \"label\",'air_mask'\n",
    "                            ]\n",
    "                        ]\n",
    "                        vote_logits = None\n",
    "                        vote_points_labels = None\n",
    "                        vote_shape_labels = None\n",
    "                        vote_masks = None\n",
    "                        points_orig = points_orig.unsqueeze(0)\n",
    "                        mask = mask.unsqueeze(0)\n",
    "                        points_labels = points_labels.unsqueeze(0)\n",
    "                        shape_labels = shape_labels.unsqueeze(0)\n",
    "                        preds = []\n",
    "                        for v in range(num_votes):\n",
    "                            batch_logits = []\n",
    "                            batch_points_labels = []\n",
    "                            batch_shape_labels = []\n",
    "                            batch_masks = []\n",
    "                            if v > 0:\n",
    "                                points = transform_for_vote(points_orig)\n",
    "                            else:\n",
    "                                points = points_orig\n",
    "                            # forward\n",
    "                            features = points\n",
    "                            features = features.transpose(1, 2).contiguous()\n",
    "                            points = points[:, :, :3].cuda(non_blocking=True)\n",
    "                            mask = mask.cuda(non_blocking=True)\n",
    "                            features = features.cuda(non_blocking=True)\n",
    "                            points_labels = points_labels.cuda(non_blocking=True)\n",
    "                            shape_labels = shape_labels.cuda(non_blocking=True)\n",
    "                            pred = model(points, mask, features)\n",
    "                            preds.append(pred[0])\n",
    "                        preds = torch.cat(preds).mean(dim=0)\n",
    "                        \n",
    "                        points_orig = points_orig.squeeze(0)                        \n",
    "                        pred_soft_flats += softmax(preds)[1,:].reshape(-1).detach().cpu().numpy().tolist()\n",
    "                        points_labels_flats += points_labels.reshape(-1).detach().cpu().numpy().tolist()\n",
    "                        air_masks_flats += air_mask.reshape(-1).tolist()\n",
    "                        if IS_RETURN_ABS_COORDS:\n",
    "                            size_abs = (241, 336, 283)\n",
    "                            means = np.array([x // 2 for x in size_abs])\n",
    "                            half_range = np.array([x // 2 for x in size_abs])\n",
    "                            points_orig_flats += (points_orig[:, :3].detach().cpu().numpy() * half_range + means).tolist()\n",
    "                            \n",
    "                        else:\n",
    "                            points_orig_flats += (((points_orig[:, :3]) * (CROP_SIZE//2) + (CROP_SIZE//2)).detach().cpu().numpy() + np.array(center_coords)).tolist()\n",
    "\n",
    "                np.save(f\"predictions/{exp_name}/brain{test_brain}\", (points_orig_flats, pred_soft_flats, points_labels_flats,air_masks_flats), allow_pickle=True)\n",
    "                print(k)\n",
    "                print(f\"brain {test_brain} done\")\n",
    "                res[test_brain] = k\n",
    "            del data_loader\n"
   ]
  },
  {
   "cell_type": "code",
   "execution_count": 7,
   "id": "799efc01-3587-43b6-93b3-c08a52547181",
   "metadata": {
    "tags": []
   },
   "outputs": [
    {
     "name": "stderr",
     "output_type": "stream",
     "text": [
      "0it [00:00, ?it/s]\n",
      "0it [00:00, ?it/s]\u001b[A"
     ]
    },
    {
     "name": "stdout",
     "output_type": "stream",
     "text": [
      "Working on brain 0\n",
      "49\n"
     ]
    },
    {
     "name": "stderr",
     "output_type": "stream",
     "text": [
      "\n",
      "1it [00:11, 11.29s/it]\u001b[A"
     ]
    },
    {
     "name": "stdout",
     "output_type": "stream",
     "text": [
      "48\n",
      "brain 0 done\n",
      "Working on brain 4\n",
      "49\n"
     ]
    },
    {
     "name": "stderr",
     "output_type": "stream",
     "text": [
      "\n",
      "2it [00:22, 11.24s/it]\u001b[A"
     ]
    },
    {
     "name": "stdout",
     "output_type": "stream",
     "text": [
      "48\n",
      "brain 4 done\n",
      "Working on brain 10\n",
      "49\n"
     ]
    },
    {
     "name": "stderr",
     "output_type": "stream",
     "text": [
      "\n",
      "3it [00:33, 11.22s/it]\u001b[A"
     ]
    },
    {
     "name": "stdout",
     "output_type": "stream",
     "text": [
      "48\n",
      "brain 10 done\n",
      "Working on brain 12\n",
      "49\n"
     ]
    },
    {
     "name": "stderr",
     "output_type": "stream",
     "text": [
      "\n",
      "4it [00:44, 11.22s/it]\u001b[A"
     ]
    },
    {
     "name": "stdout",
     "output_type": "stream",
     "text": [
      "48\n",
      "brain 12 done\n",
      "Working on brain 18\n",
      "45\n"
     ]
    },
    {
     "name": "stderr",
     "output_type": "stream",
     "text": [
      "\n",
      "5it [00:55, 11.02s/it]\u001b[A"
     ]
    },
    {
     "name": "stdout",
     "output_type": "stream",
     "text": [
      "44\n",
      "brain 18 done\n",
      "Working on brain 22\n",
      "49\n"
     ]
    },
    {
     "name": "stderr",
     "output_type": "stream",
     "text": [
      "\n",
      "6it [01:06, 11.06s/it]\u001b[A"
     ]
    },
    {
     "name": "stdout",
     "output_type": "stream",
     "text": [
      "48\n",
      "brain 22 done\n",
      "Working on brain 28\n",
      "48\n"
     ]
    },
    {
     "name": "stderr",
     "output_type": "stream",
     "text": [
      "\n",
      "7it [01:17, 11.05s/it]\u001b[A"
     ]
    },
    {
     "name": "stdout",
     "output_type": "stream",
     "text": [
      "47\n",
      "brain 28 done\n",
      "Working on brain 30\n",
      "49\n"
     ]
    },
    {
     "name": "stderr",
     "output_type": "stream",
     "text": [
      "\n",
      "8it [01:28, 11.08s/it]\u001b[A"
     ]
    },
    {
     "name": "stdout",
     "output_type": "stream",
     "text": [
      "48\n",
      "brain 30 done\n",
      "Working on brain 31\n",
      "48\n"
     ]
    },
    {
     "name": "stderr",
     "output_type": "stream",
     "text": [
      "\n",
      "9it [01:39, 11.08s/it]\u001b[A"
     ]
    },
    {
     "name": "stdout",
     "output_type": "stream",
     "text": [
      "47\n",
      "brain 31 done\n",
      "Working on brain 33\n",
      "49\n"
     ]
    },
    {
     "name": "stderr",
     "output_type": "stream",
     "text": [
      "\n",
      "10it [01:50, 11.10s/it]\u001b[A"
     ]
    },
    {
     "name": "stdout",
     "output_type": "stream",
     "text": [
      "48\n",
      "brain 33 done\n",
      "Working on brain 35\n",
      "46\n"
     ]
    },
    {
     "name": "stderr",
     "output_type": "stream",
     "text": [
      "\n",
      "11it [02:01, 11.06s/it]\u001b[A"
     ]
    },
    {
     "name": "stdout",
     "output_type": "stream",
     "text": [
      "45\n",
      "brain 35 done\n",
      "Working on brain 45\n",
      "49\n"
     ]
    },
    {
     "name": "stderr",
     "output_type": "stream",
     "text": [
      "\n",
      "12it [02:12, 11.08s/it]\u001b[A"
     ]
    },
    {
     "name": "stdout",
     "output_type": "stream",
     "text": [
      "48\n",
      "brain 45 done\n",
      "Working on brain 49\n",
      "49\n"
     ]
    },
    {
     "name": "stderr",
     "output_type": "stream",
     "text": [
      "\n",
      "13it [02:24, 11.10s/it]\u001b[A"
     ]
    },
    {
     "name": "stdout",
     "output_type": "stream",
     "text": [
      "48\n",
      "brain 49 done\n",
      "Working on brain 67\n",
      "48\n"
     ]
    },
    {
     "name": "stderr",
     "output_type": "stream",
     "text": [
      "\n",
      "14it [02:35, 11.10s/it]\u001b[A"
     ]
    },
    {
     "name": "stdout",
     "output_type": "stream",
     "text": [
      "47\n",
      "brain 67 done\n",
      "Working on brain 68\n",
      "48\n"
     ]
    },
    {
     "name": "stderr",
     "output_type": "stream",
     "text": [
      "\n",
      "15it [02:46, 11.10s/it]\u001b[A"
     ]
    },
    {
     "name": "stdout",
     "output_type": "stream",
     "text": [
      "47\n",
      "brain 68 done\n",
      "Working on brain 70\n",
      "49\n"
     ]
    },
    {
     "name": "stderr",
     "output_type": "stream",
     "text": [
      "\n",
      "16it [02:57, 11.12s/it]\u001b[A"
     ]
    },
    {
     "name": "stdout",
     "output_type": "stream",
     "text": [
      "48\n",
      "brain 70 done\n",
      "Working on brain 73\n",
      "48\n"
     ]
    },
    {
     "name": "stderr",
     "output_type": "stream",
     "text": [
      "\n",
      "17it [03:09, 11.12s/it]\u001b[A\n",
      "1it [04:08, 248.53s/it]"
     ]
    },
    {
     "name": "stdout",
     "output_type": "stream",
     "text": [
      "47\n",
      "brain 73 done\n"
     ]
    },
    {
     "name": "stderr",
     "output_type": "stream",
     "text": [
      "\n",
      "0it [00:00, ?it/s]\u001b[A"
     ]
    },
    {
     "name": "stdout",
     "output_type": "stream",
     "text": [
      "Working on brain 5\n",
      "49\n"
     ]
    },
    {
     "name": "stderr",
     "output_type": "stream",
     "text": [
      "\n",
      "1it [00:11, 11.45s/it]\u001b[A"
     ]
    },
    {
     "name": "stdout",
     "output_type": "stream",
     "text": [
      "48\n",
      "brain 5 done\n",
      "Working on brain 7\n",
      "49\n"
     ]
    },
    {
     "name": "stderr",
     "output_type": "stream",
     "text": [
      "\n",
      "2it [00:22, 11.40s/it]\u001b[A"
     ]
    },
    {
     "name": "stdout",
     "output_type": "stream",
     "text": [
      "48\n",
      "brain 7 done\n",
      "Working on brain 9\n",
      "49\n"
     ]
    },
    {
     "name": "stderr",
     "output_type": "stream",
     "text": [
      "\n",
      "3it [00:34, 11.39s/it]\u001b[A"
     ]
    },
    {
     "name": "stdout",
     "output_type": "stream",
     "text": [
      "48\n",
      "brain 9 done\n",
      "Working on brain 16\n",
      "49\n"
     ]
    },
    {
     "name": "stderr",
     "output_type": "stream",
     "text": [
      "\n",
      "4it [00:45, 11.38s/it]\u001b[A"
     ]
    },
    {
     "name": "stdout",
     "output_type": "stream",
     "text": [
      "48\n",
      "brain 16 done\n",
      "Working on brain 34\n",
      "49\n"
     ]
    },
    {
     "name": "stderr",
     "output_type": "stream",
     "text": [
      "\n",
      "5it [00:56, 11.39s/it]\u001b[A"
     ]
    },
    {
     "name": "stdout",
     "output_type": "stream",
     "text": [
      "48\n",
      "brain 34 done\n",
      "Working on brain 39\n",
      "49\n"
     ]
    },
    {
     "name": "stderr",
     "output_type": "stream",
     "text": [
      "\n",
      "6it [01:08, 11.38s/it]\u001b[A"
     ]
    },
    {
     "name": "stdout",
     "output_type": "stream",
     "text": [
      "48\n",
      "brain 39 done\n",
      "Working on brain 40\n",
      "49\n"
     ]
    },
    {
     "name": "stderr",
     "output_type": "stream",
     "text": [
      "\n",
      "7it [01:19, 11.38s/it]\u001b[A"
     ]
    },
    {
     "name": "stdout",
     "output_type": "stream",
     "text": [
      "48\n",
      "brain 40 done\n",
      "Working on brain 42\n",
      "48\n"
     ]
    },
    {
     "name": "stderr",
     "output_type": "stream",
     "text": [
      "\n",
      "8it [01:30, 11.35s/it]\u001b[A"
     ]
    },
    {
     "name": "stdout",
     "output_type": "stream",
     "text": [
      "47\n",
      "brain 42 done\n",
      "Working on brain 47\n",
      "48\n"
     ]
    },
    {
     "name": "stderr",
     "output_type": "stream",
     "text": [
      "\n",
      "9it [01:41, 11.32s/it]\u001b[A"
     ]
    },
    {
     "name": "stdout",
     "output_type": "stream",
     "text": [
      "47\n",
      "brain 47 done\n",
      "Working on brain 54\n",
      "47\n"
     ]
    },
    {
     "name": "stderr",
     "output_type": "stream",
     "text": [
      "\n",
      "10it [01:52, 11.28s/it]\u001b[A"
     ]
    },
    {
     "name": "stdout",
     "output_type": "stream",
     "text": [
      "46\n",
      "brain 54 done\n",
      "Working on brain 55\n",
      "49\n"
     ]
    },
    {
     "name": "stderr",
     "output_type": "stream",
     "text": [
      "\n",
      "11it [02:04, 11.29s/it]\u001b[A"
     ]
    },
    {
     "name": "stdout",
     "output_type": "stream",
     "text": [
      "48\n",
      "brain 55 done\n",
      "Working on brain 56\n",
      "49\n"
     ]
    },
    {
     "name": "stderr",
     "output_type": "stream",
     "text": [
      "\n",
      "12it [02:15, 11.29s/it]\u001b[A"
     ]
    },
    {
     "name": "stdout",
     "output_type": "stream",
     "text": [
      "48\n",
      "brain 56 done\n",
      "Working on brain 61\n",
      "40\n"
     ]
    },
    {
     "name": "stderr",
     "output_type": "stream",
     "text": [
      "\n",
      "13it [02:24, 11.14s/it]\u001b[A"
     ]
    },
    {
     "name": "stdout",
     "output_type": "stream",
     "text": [
      "39\n",
      "brain 61 done\n",
      "Working on brain 62\n",
      "49\n"
     ]
    },
    {
     "name": "stderr",
     "output_type": "stream",
     "text": [
      "\n",
      "14it [02:36, 11.15s/it]\u001b[A"
     ]
    },
    {
     "name": "stdout",
     "output_type": "stream",
     "text": [
      "48\n",
      "brain 62 done\n",
      "Working on brain 64\n",
      "49\n"
     ]
    },
    {
     "name": "stderr",
     "output_type": "stream",
     "text": [
      "\n",
      "15it [02:47, 11.17s/it]\u001b[A"
     ]
    },
    {
     "name": "stdout",
     "output_type": "stream",
     "text": [
      "48\n",
      "brain 64 done\n",
      "Working on brain 80\n",
      "49\n"
     ]
    },
    {
     "name": "stderr",
     "output_type": "stream",
     "text": [
      "\n",
      "16it [02:58, 11.18s/it]\u001b[A\n",
      "2it [07:43, 231.56s/it]"
     ]
    },
    {
     "name": "stdout",
     "output_type": "stream",
     "text": [
      "48\n",
      "brain 80 done\n"
     ]
    },
    {
     "name": "stderr",
     "output_type": "stream",
     "text": [
      "\n",
      "0it [00:00, ?it/s]\u001b[A"
     ]
    },
    {
     "name": "stdout",
     "output_type": "stream",
     "text": [
      "Working on brain 3\n",
      "48\n"
     ]
    },
    {
     "name": "stderr",
     "output_type": "stream",
     "text": [
      "\n",
      "1it [00:11, 11.24s/it]\u001b[A"
     ]
    },
    {
     "name": "stdout",
     "output_type": "stream",
     "text": [
      "47\n",
      "brain 3 done\n",
      "Working on brain 6\n",
      "49\n"
     ]
    },
    {
     "name": "stderr",
     "output_type": "stream",
     "text": [
      "\n",
      "2it [00:22, 11.30s/it]\u001b[A"
     ]
    },
    {
     "name": "stdout",
     "output_type": "stream",
     "text": [
      "48\n",
      "brain 6 done\n",
      "Working on brain 8\n",
      "48\n"
     ]
    },
    {
     "name": "stderr",
     "output_type": "stream",
     "text": [
      "\n",
      "3it [00:33, 11.25s/it]\u001b[A"
     ]
    },
    {
     "name": "stdout",
     "output_type": "stream",
     "text": [
      "47\n",
      "brain 8 done\n",
      "Working on brain 13\n",
      "48\n"
     ]
    },
    {
     "name": "stderr",
     "output_type": "stream",
     "text": [
      "\n",
      "4it [00:44, 11.22s/it]\u001b[A"
     ]
    },
    {
     "name": "stdout",
     "output_type": "stream",
     "text": [
      "47\n",
      "brain 13 done\n",
      "Working on brain 17\n",
      "47\n"
     ]
    },
    {
     "name": "stderr",
     "output_type": "stream",
     "text": [
      "\n",
      "5it [00:55, 11.15s/it]\u001b[A"
     ]
    },
    {
     "name": "stdout",
     "output_type": "stream",
     "text": [
      "46\n",
      "brain 17 done\n",
      "Working on brain 19\n",
      "47\n"
     ]
    },
    {
     "name": "stderr",
     "output_type": "stream",
     "text": [
      "\n",
      "6it [01:06, 11.10s/it]\u001b[A"
     ]
    },
    {
     "name": "stdout",
     "output_type": "stream",
     "text": [
      "46\n",
      "brain 19 done\n",
      "Working on brain 25\n",
      "48\n"
     ]
    },
    {
     "name": "stderr",
     "output_type": "stream",
     "text": [
      "\n",
      "7it [01:17, 11.11s/it]\u001b[A"
     ]
    },
    {
     "name": "stdout",
     "output_type": "stream",
     "text": [
      "47\n",
      "brain 25 done\n",
      "Working on brain 36\n",
      "48\n"
     ]
    },
    {
     "name": "stderr",
     "output_type": "stream",
     "text": [
      "\n",
      "8it [01:28, 11.11s/it]\u001b[A"
     ]
    },
    {
     "name": "stdout",
     "output_type": "stream",
     "text": [
      "47\n",
      "brain 36 done\n",
      "Working on brain 38\n",
      "44\n"
     ]
    },
    {
     "name": "stderr",
     "output_type": "stream",
     "text": [
      "\n",
      "9it [01:39, 11.01s/it]\u001b[A"
     ]
    },
    {
     "name": "stdout",
     "output_type": "stream",
     "text": [
      "43\n",
      "brain 38 done\n",
      "Working on brain 44\n",
      "48\n"
     ]
    },
    {
     "name": "stderr",
     "output_type": "stream",
     "text": [
      "\n",
      "10it [01:50, 11.02s/it]\u001b[A"
     ]
    },
    {
     "name": "stdout",
     "output_type": "stream",
     "text": [
      "47\n",
      "brain 44 done\n",
      "Working on brain 50\n",
      "49\n"
     ]
    },
    {
     "name": "stderr",
     "output_type": "stream",
     "text": [
      "\n",
      "11it [02:01, 11.06s/it]\u001b[A"
     ]
    },
    {
     "name": "stdout",
     "output_type": "stream",
     "text": [
      "48\n",
      "brain 50 done\n",
      "Working on brain 53\n",
      "49\n"
     ]
    },
    {
     "name": "stderr",
     "output_type": "stream",
     "text": [
      "\n",
      "12it [02:12, 11.08s/it]\u001b[A"
     ]
    },
    {
     "name": "stdout",
     "output_type": "stream",
     "text": [
      "48\n",
      "brain 53 done\n",
      "Working on brain 65\n",
      "49\n"
     ]
    },
    {
     "name": "stderr",
     "output_type": "stream",
     "text": [
      "\n",
      "13it [02:24, 11.10s/it]\u001b[A"
     ]
    },
    {
     "name": "stdout",
     "output_type": "stream",
     "text": [
      "48\n",
      "brain 65 done\n",
      "Working on brain 66\n",
      "48\n"
     ]
    },
    {
     "name": "stderr",
     "output_type": "stream",
     "text": [
      "\n",
      "14it [02:35, 11.10s/it]\u001b[A"
     ]
    },
    {
     "name": "stdout",
     "output_type": "stream",
     "text": [
      "47\n",
      "brain 66 done\n",
      "Working on brain 72\n",
      "48\n"
     ]
    },
    {
     "name": "stderr",
     "output_type": "stream",
     "text": [
      "\n",
      "15it [02:46, 11.11s/it]\u001b[A"
     ]
    },
    {
     "name": "stdout",
     "output_type": "stream",
     "text": [
      "47\n",
      "brain 72 done\n",
      "Working on brain 77\n",
      "49\n"
     ]
    },
    {
     "name": "stderr",
     "output_type": "stream",
     "text": [
      "\n",
      "16it [02:57, 11.12s/it]\u001b[A\n",
      "3it [11:12, 224.33s/it]"
     ]
    },
    {
     "name": "stdout",
     "output_type": "stream",
     "text": [
      "48\n",
      "brain 77 done\n"
     ]
    },
    {
     "name": "stderr",
     "output_type": "stream",
     "text": [
      "\n",
      "0it [00:00, ?it/s]\u001b[A"
     ]
    },
    {
     "name": "stdout",
     "output_type": "stream",
     "text": [
      "Working on brain 11\n",
      "48\n"
     ]
    },
    {
     "name": "stderr",
     "output_type": "stream",
     "text": [
      "\n",
      "1it [00:11, 11.14s/it]\u001b[A"
     ]
    },
    {
     "name": "stdout",
     "output_type": "stream",
     "text": [
      "47\n",
      "brain 11 done\n",
      "Working on brain 15\n",
      "49\n"
     ]
    },
    {
     "name": "stderr",
     "output_type": "stream",
     "text": [
      "\n",
      "2it [00:22, 11.27s/it]\u001b[A"
     ]
    },
    {
     "name": "stdout",
     "output_type": "stream",
     "text": [
      "48\n",
      "brain 15 done\n",
      "Working on brain 24\n",
      "49\n"
     ]
    },
    {
     "name": "stderr",
     "output_type": "stream",
     "text": [
      "\n",
      "3it [00:33, 11.30s/it]\u001b[A"
     ]
    },
    {
     "name": "stdout",
     "output_type": "stream",
     "text": [
      "48\n",
      "brain 24 done\n",
      "Working on brain 26\n",
      "48\n"
     ]
    },
    {
     "name": "stderr",
     "output_type": "stream",
     "text": [
      "\n",
      "4it [00:45, 11.25s/it]\u001b[A"
     ]
    },
    {
     "name": "stdout",
     "output_type": "stream",
     "text": [
      "47\n",
      "brain 26 done\n",
      "Working on brain 27\n",
      "48\n"
     ]
    },
    {
     "name": "stderr",
     "output_type": "stream",
     "text": [
      "\n",
      "5it [00:56, 11.23s/it]\u001b[A"
     ]
    },
    {
     "name": "stdout",
     "output_type": "stream",
     "text": [
      "47\n",
      "brain 27 done\n",
      "Working on brain 32\n",
      "48\n"
     ]
    },
    {
     "name": "stderr",
     "output_type": "stream",
     "text": [
      "\n",
      "6it [01:07, 11.21s/it]\u001b[A"
     ]
    },
    {
     "name": "stdout",
     "output_type": "stream",
     "text": [
      "47\n",
      "brain 32 done\n",
      "Working on brain 41\n",
      "42\n"
     ]
    },
    {
     "name": "stderr",
     "output_type": "stream",
     "text": [
      "\n",
      "7it [01:16, 11.00s/it]\u001b[A"
     ]
    },
    {
     "name": "stdout",
     "output_type": "stream",
     "text": [
      "41\n",
      "brain 41 done\n",
      "Working on brain 43\n",
      "47\n"
     ]
    },
    {
     "name": "stderr",
     "output_type": "stream",
     "text": [
      "\n",
      "8it [01:27, 10.98s/it]\u001b[A"
     ]
    },
    {
     "name": "stdout",
     "output_type": "stream",
     "text": [
      "46\n",
      "brain 43 done\n",
      "Working on brain 46\n",
      "49\n"
     ]
    },
    {
     "name": "stderr",
     "output_type": "stream",
     "text": [
      "\n",
      "9it [01:39, 11.03s/it]\u001b[A"
     ]
    },
    {
     "name": "stdout",
     "output_type": "stream",
     "text": [
      "48\n",
      "brain 46 done\n",
      "Working on brain 48\n",
      "48\n"
     ]
    },
    {
     "name": "stderr",
     "output_type": "stream",
     "text": [
      "\n",
      "10it [01:50, 11.03s/it]\u001b[A"
     ]
    },
    {
     "name": "stdout",
     "output_type": "stream",
     "text": [
      "47\n",
      "brain 48 done\n",
      "Working on brain 57\n",
      "49\n"
     ]
    },
    {
     "name": "stderr",
     "output_type": "stream",
     "text": [
      "\n",
      "11it [02:01, 11.07s/it]\u001b[A"
     ]
    },
    {
     "name": "stdout",
     "output_type": "stream",
     "text": [
      "48\n",
      "brain 57 done\n",
      "Working on brain 58\n",
      "49\n"
     ]
    },
    {
     "name": "stderr",
     "output_type": "stream",
     "text": [
      "\n",
      "12it [02:13, 11.09s/it]\u001b[A"
     ]
    },
    {
     "name": "stdout",
     "output_type": "stream",
     "text": [
      "48\n",
      "brain 58 done\n",
      "Working on brain 59\n",
      "49\n"
     ]
    },
    {
     "name": "stderr",
     "output_type": "stream",
     "text": [
      "\n",
      "13it [02:24, 11.11s/it]\u001b[A"
     ]
    },
    {
     "name": "stdout",
     "output_type": "stream",
     "text": [
      "48\n",
      "brain 59 done\n",
      "Working on brain 76\n",
      "39\n"
     ]
    },
    {
     "name": "stderr",
     "output_type": "stream",
     "text": [
      "\n",
      "14it [02:33, 10.96s/it]\u001b[A"
     ]
    },
    {
     "name": "stdout",
     "output_type": "stream",
     "text": [
      "38\n",
      "brain 76 done\n",
      "Working on brain 78\n",
      "42\n"
     ]
    },
    {
     "name": "stderr",
     "output_type": "stream",
     "text": [
      "\n",
      "15it [02:43, 10.88s/it]\u001b[A"
     ]
    },
    {
     "name": "stdout",
     "output_type": "stream",
     "text": [
      "41\n",
      "brain 78 done\n",
      "Working on brain 79\n",
      "49\n"
     ]
    },
    {
     "name": "stderr",
     "output_type": "stream",
     "text": [
      "\n",
      "16it [02:54, 10.91s/it]\u001b[A\n",
      "4it [14:40, 220.03s/it]"
     ]
    },
    {
     "name": "stdout",
     "output_type": "stream",
     "text": [
      "48\n",
      "brain 79 done\n"
     ]
    },
    {
     "name": "stderr",
     "output_type": "stream",
     "text": [
      "\n",
      "0it [00:00, ?it/s]\u001b[A"
     ]
    },
    {
     "name": "stdout",
     "output_type": "stream",
     "text": [
      "Working on brain 1\n",
      "49\n"
     ]
    },
    {
     "name": "stderr",
     "output_type": "stream",
     "text": [
      "\n",
      "1it [00:11, 11.42s/it]\u001b[A"
     ]
    },
    {
     "name": "stdout",
     "output_type": "stream",
     "text": [
      "48\n",
      "brain 1 done\n",
      "Working on brain 2\n",
      "49\n"
     ]
    },
    {
     "name": "stderr",
     "output_type": "stream",
     "text": [
      "\n",
      "2it [00:22, 11.39s/it]\u001b[A"
     ]
    },
    {
     "name": "stdout",
     "output_type": "stream",
     "text": [
      "48\n",
      "brain 2 done\n",
      "Working on brain 14\n",
      "48\n"
     ]
    },
    {
     "name": "stderr",
     "output_type": "stream",
     "text": [
      "\n",
      "3it [00:33, 11.32s/it]\u001b[A"
     ]
    },
    {
     "name": "stdout",
     "output_type": "stream",
     "text": [
      "47\n",
      "brain 14 done\n",
      "Working on brain 20\n",
      "49\n"
     ]
    },
    {
     "name": "stderr",
     "output_type": "stream",
     "text": [
      "\n",
      "4it [00:45, 11.33s/it]\u001b[A"
     ]
    },
    {
     "name": "stdout",
     "output_type": "stream",
     "text": [
      "48\n",
      "brain 20 done\n",
      "Working on brain 21\n",
      "48\n"
     ]
    },
    {
     "name": "stderr",
     "output_type": "stream",
     "text": [
      "\n",
      "5it [00:56, 11.29s/it]\u001b[A"
     ]
    },
    {
     "name": "stdout",
     "output_type": "stream",
     "text": [
      "47\n",
      "brain 21 done\n",
      "Working on brain 23\n",
      "49\n"
     ]
    },
    {
     "name": "stderr",
     "output_type": "stream",
     "text": [
      "\n",
      "6it [01:07, 11.30s/it]\u001b[A"
     ]
    },
    {
     "name": "stdout",
     "output_type": "stream",
     "text": [
      "48\n",
      "brain 23 done\n",
      "Working on brain 29\n",
      "49\n"
     ]
    },
    {
     "name": "stderr",
     "output_type": "stream",
     "text": [
      "\n",
      "7it [01:19, 11.31s/it]\u001b[A"
     ]
    },
    {
     "name": "stdout",
     "output_type": "stream",
     "text": [
      "48\n",
      "brain 29 done\n",
      "Working on brain 37\n",
      "44\n"
     ]
    },
    {
     "name": "stderr",
     "output_type": "stream",
     "text": [
      "\n",
      "8it [01:29, 11.16s/it]\u001b[A"
     ]
    },
    {
     "name": "stdout",
     "output_type": "stream",
     "text": [
      "43\n",
      "brain 37 done\n",
      "Working on brain 51\n",
      "45\n"
     ]
    },
    {
     "name": "stderr",
     "output_type": "stream",
     "text": [
      "\n",
      "9it [01:39, 11.08s/it]\u001b[A"
     ]
    },
    {
     "name": "stdout",
     "output_type": "stream",
     "text": [
      "44\n",
      "brain 51 done\n",
      "Working on brain 52\n",
      "49\n"
     ]
    },
    {
     "name": "stderr",
     "output_type": "stream",
     "text": [
      "\n",
      "10it [01:51, 11.11s/it]\u001b[A"
     ]
    },
    {
     "name": "stdout",
     "output_type": "stream",
     "text": [
      "48\n",
      "brain 52 done\n",
      "Working on brain 60\n",
      "49\n"
     ]
    },
    {
     "name": "stderr",
     "output_type": "stream",
     "text": [
      "\n",
      "11it [02:02, 11.14s/it]\u001b[A"
     ]
    },
    {
     "name": "stdout",
     "output_type": "stream",
     "text": [
      "48\n",
      "brain 60 done\n",
      "Working on brain 63\n",
      "49\n"
     ]
    },
    {
     "name": "stderr",
     "output_type": "stream",
     "text": [
      "\n",
      "12it [02:13, 11.15s/it]\u001b[A"
     ]
    },
    {
     "name": "stdout",
     "output_type": "stream",
     "text": [
      "48\n",
      "brain 63 done\n",
      "Working on brain 69\n",
      "49\n"
     ]
    },
    {
     "name": "stderr",
     "output_type": "stream",
     "text": [
      "\n",
      "13it [02:25, 11.17s/it]\u001b[A"
     ]
    },
    {
     "name": "stdout",
     "output_type": "stream",
     "text": [
      "48\n",
      "brain 69 done\n",
      "Working on brain 71\n",
      "49\n"
     ]
    },
    {
     "name": "stderr",
     "output_type": "stream",
     "text": [
      "\n",
      "14it [02:36, 11.18s/it]\u001b[A"
     ]
    },
    {
     "name": "stdout",
     "output_type": "stream",
     "text": [
      "48\n",
      "brain 71 done\n",
      "Working on brain 74\n",
      "48\n"
     ]
    },
    {
     "name": "stderr",
     "output_type": "stream",
     "text": [
      "\n",
      "15it [02:47, 11.17s/it]\u001b[A"
     ]
    },
    {
     "name": "stdout",
     "output_type": "stream",
     "text": [
      "47\n",
      "brain 74 done\n",
      "Working on brain 75\n",
      "49\n"
     ]
    },
    {
     "name": "stderr",
     "output_type": "stream",
     "text": [
      "\n",
      "16it [02:59, 11.19s/it]\u001b[A\n",
      "5it [18:11, 218.35s/it]"
     ]
    },
    {
     "name": "stdout",
     "output_type": "stream",
     "text": [
      "48\n",
      "brain 75 done\n"
     ]
    },
    {
     "name": "stderr",
     "output_type": "stream",
     "text": [
      "\n"
     ]
    }
   ],
   "source": [
    "model_and_brains_to_points_with_predictions(config=config,\n",
    "                                                kf=kf,\n",
    "                                                num_votes=1,\n",
    "                                                repeat=1,\n",
    "                                                brains_loaded=brains_loaded,\n",
    "                                                labels_loaded=labels_loaded,\n",
    "                                                curv_loaded=curv_loaded,\n",
    "                                                thickness_loaded=thickness_loaded,\n",
    "                                                sulc_loaded = sulc_loaded,\n",
    "                                                exp_name = EXP_NAME)"
   ]
  },
  {
   "cell_type": "code",
   "execution_count": 10,
   "id": "25031d50-6d4b-4ee9-9ff3-a29ea45dbced",
   "metadata": {},
   "outputs": [
    {
     "name": "stdout",
     "output_type": "stream",
     "text": [
      "Fri Oct 29 08:18:55 2021       \n",
      "+-----------------------------------------------------------------------------+\n",
      "| NVIDIA-SMI 440.64       Driver Version: 440.64       CUDA Version: 10.2     |\n",
      "|-------------------------------+----------------------+----------------------+\n",
      "| GPU  Name        Persistence-M| Bus-Id        Disp.A | Volatile Uncorr. ECC |\n",
      "| Fan  Temp  Perf  Pwr:Usage/Cap|         Memory-Usage | GPU-Util  Compute M. |\n",
      "|===============================+======================+======================|\n",
      "|   0  GeForce GTX 108...  Off  | 00000000:01:00.0 Off |                  N/A |\n",
      "| 20%   33C    P8    16W / 250W |     10MiB / 11177MiB |      0%      Default |\n",
      "+-------------------------------+----------------------+----------------------+\n",
      "|   1  GeForce GTX 108...  Off  | 00000000:02:00.0 Off |                  N/A |\n",
      "| 20%   31C    P2    54W / 250W |  11174MiB / 11178MiB |      0%      Default |\n",
      "+-------------------------------+----------------------+----------------------+\n",
      "                                                                               \n",
      "+-----------------------------------------------------------------------------+\n",
      "| Processes:                                                       GPU Memory |\n",
      "|  GPU       PID   Type   Process name                             Usage      |\n",
      "|=============================================================================|\n",
      "+-----------------------------------------------------------------------------+\n"
     ]
    }
   ],
   "source": [
    "!nvidia-smi"
   ]
  },
  {
   "cell_type": "code",
   "execution_count": 10,
   "id": "c191e208-76e5-4e26-a83a-8ded8f6eef41",
   "metadata": {},
   "outputs": [],
   "source": [
    "import numpy as np\n",
    "from tqdm import tqdm"
   ]
  },
  {
   "cell_type": "code",
   "execution_count": 15,
   "id": "72e42f05-7072-4672-bbaa-d0ebcbadbc22",
   "metadata": {},
   "outputs": [],
   "source": [
    "if BRAIN_TYPE == 'full':\n",
    "    res_dict = {}\n",
    "    for file in glob.glob(f'predictions/{EXP_NAME}/*'):\n",
    "        a = np.load(file, allow_pickle=True)\n",
    "        brain = int(file.split('/')[-1].split('brain')[-1].split('.npy')[0])\n",
    "        res_dict[brain] = a\n",
    "elif BRAIN_TYPE == 'temple_nottemple':\n",
    "    res_dict = {}\n",
    "    for num in range(len(brain_nums)):\n",
    "        file1 = f'predictions/{EXP_NAME1}/brain{num}.npy'\n",
    "        file2 = f'predictions/{EXP_NAME2}/brain{num}.npy'\n",
    "        a = np.load(file1, allow_pickle=True)\n",
    "        b = np.load(file2, allow_pickle=True)\n",
    "        c = []\n",
    "        for i in range(len(a)):\n",
    "            c.append(np.concatenate([a[i],b[i]]))\n",
    "        res_dict[num] = c\n",
    "        np.save(f'predictions/{EXP_NAME}/brain{num}.npy',c)"
   ]
  },
  {
   "cell_type": "code",
   "execution_count": 16,
   "id": "a244eb65-35ee-4e43-b4b3-68f784042666",
   "metadata": {},
   "outputs": [],
   "source": [
    "def result_to_metrics(res, th = 0.5):\n",
    "    pred = res[1]\n",
    "    true = res[2]\n",
    "    mask = res[3]\n",
    "    pred = [pred[i] for i in range(len(mask)) if mask[i]==0]\n",
    "    true = [true[i] for i in range(len(mask)) if mask[i]==0]\n",
    "    if np.sum(true) == 0:\n",
    "        return -999, -999, -999, -999, -999, -999\n",
    "    pred = np.array(pred)\n",
    "    conf = confusion_matrix(true, pred > th)\n",
    "    IoU = conf[1,1] / (conf[1, 1] + conf[1, 0] + conf[0,1])\n",
    "    dice = 2 * conf[1,1] / (2 * conf[1, 1] + conf[1, 0] + conf[0, 1])\n",
    "    d_in = np.dot(true, pred) / np.sum(true)\n",
    "    d_out = np.dot(np.ones(len(true)) - np.array(true), pred) / (len(true) - np.sum(true))\n",
    "    contrast = (d_in - d_out) /  (d_in + d_out)\n",
    "    roc = roc_auc_score(true, pred)\n",
    "    recall = conf[1,1] / (conf[1, 1] + conf[1, 0])\n",
    "    return conf, IoU, dice, contrast, roc, recall\n",
    "\n",
    "\n",
    "def res_dict_to_metrics(res_dict, th = 0.5):\n",
    "    res_metrics = {}\n",
    "    for brain in tqdm(res_dict):\n",
    "        res_metrics[brain] = {}\n",
    "        res = res_dict[brain]\n",
    "        res_metrics[brain]['conf_all'],res_metrics[brain]['IoU_all'],res_metrics[brain]['dice_all'],res_metrics[brain]['contrast_all'],res_metrics[brain]['roc_all'],res_metrics[brain]['recall_all'] = result_to_metrics(res,th)\n",
    "        len_1_part = len(res[0]) // REPEAT\n",
    "        res_metrics[brain]['confs'] = []\n",
    "        res_metrics[brain]['IoUs'] = []\n",
    "        res_metrics[brain]['dices'] = []\n",
    "        res_metrics[brain]['contrasts'] = []\n",
    "        res_metrics[brain]['roc'] = []\n",
    "        res_metrics[brain]['recall'] = []\n",
    "        for repeat in range(REPEAT):\n",
    "            res_part = [res[i][len_1_part * repeat:len_1_part * (repeat + 1)] for i in range(4)]\n",
    "            conf, IoU, dice, contrast, roc, recall = result_to_metrics(res_part, th)\n",
    "            res_metrics[brain]['confs'].append(conf)\n",
    "            res_metrics[brain]['IoUs'].append(IoU)\n",
    "            res_metrics[brain]['dices'].append(dice)\n",
    "            res_metrics[brain]['contrasts'].append(contrast)\n",
    "            res_metrics[brain]['roc'].append(roc)\n",
    "            res_metrics[brain]['recall'].append(recall)\n",
    "    return res_metrics"
   ]
  },
  {
   "cell_type": "code",
   "execution_count": 17,
   "id": "43d5bdab-25fc-43d6-a1a8-cac76a906daa",
   "metadata": {
    "tags": []
   },
   "outputs": [
    {
     "name": "stderr",
     "output_type": "stream",
     "text": [
      "\n",
      "  0%|          | 0/17 [00:00<?, ?it/s]\u001b[A\n",
      "  6%|▌         | 1/17 [00:00<00:07,  2.23it/s]\u001b[A\n",
      " 12%|█▏        | 2/17 [00:00<00:04,  3.55it/s]\u001b[A\n",
      " 18%|█▊        | 3/17 [00:00<00:04,  3.01it/s]\u001b[A\n",
      " 24%|██▎       | 4/17 [00:01<00:04,  2.74it/s]\u001b[A\n",
      " 29%|██▉       | 5/17 [00:01<00:04,  2.60it/s]\u001b[A\n",
      " 35%|███▌      | 6/17 [00:02<00:04,  2.52it/s]\u001b[A\n",
      " 41%|████      | 7/17 [00:02<00:04,  2.46it/s]\u001b[A\n",
      " 47%|████▋     | 8/17 [00:02<00:03,  2.71it/s]\u001b[A\n",
      " 53%|█████▎    | 9/17 [00:03<00:03,  2.66it/s]\u001b[A\n",
      " 59%|█████▉    | 10/17 [00:03<00:02,  2.63it/s]\u001b[A\n",
      " 65%|██████▍   | 11/17 [00:03<00:02,  2.81it/s]\u001b[A\n",
      " 71%|███████   | 12/17 [00:04<00:01,  2.75it/s]\u001b[A\n",
      " 76%|███████▋  | 13/17 [00:04<00:01,  2.71it/s]\u001b[A\n",
      " 82%|████████▏ | 14/17 [00:05<00:01,  2.67it/s]\u001b[A\n",
      " 88%|████████▊ | 15/17 [00:05<00:00,  2.63it/s]\u001b[A\n",
      " 94%|█████████▍| 16/17 [00:06<00:00,  2.61it/s]\u001b[A\n",
      "100%|██████████| 17/17 [00:06<00:00,  2.58it/s]\u001b[A\n",
      "\u001b[A"
     ]
    }
   ],
   "source": [
    "final = {}\n",
    "for th in [0.5]:#np.linspace(0.001,0.999,35):\n",
    "    res_metrics=res_dict_to_metrics(res_dict,th)\n",
    "    final[th] = res_metrics"
   ]
  },
  {
   "cell_type": "code",
   "execution_count": 18,
   "id": "504a6f01-2682-4b8b-b72a-625638d060c3",
   "metadata": {},
   "outputs": [
    {
     "name": "stdout",
     "output_type": "stream",
     "text": [
      "0.5 -176.2890909980588\n"
     ]
    }
   ],
   "source": [
    "for th in [0.5]:#np.linspace(0.001,0.999,35):\n",
    "    tmp = []\n",
    "    for brain in final[th]:\n",
    "        tmp.append(final[th][brain]['dice_all'])\n",
    "    print(th, np.mean(tmp))"
   ]
  },
  {
   "cell_type": "code",
   "execution_count": 28,
   "id": "da79eb12-8ee0-475a-a7de-b0467b95f86b",
   "metadata": {
    "tags": []
   },
   "outputs": [
    {
     "name": "stdout",
     "output_type": "stream",
     "text": [
      "2021-10-16_16bs_abscoords_air_cropsize64_epochs400_whole\n",
      "-0,5453059781310424\n",
      "-999\n",
      "0,16212565185072944\n",
      "0,3254029387266164\n",
      "0,289756800487056\n",
      "-0,07076440306089676\n",
      "-0,20348429852306948\n",
      "-999\n",
      "0,35766872661995175\n",
      "0,28154538878747326\n",
      "-999\n",
      "0,08520021962822351\n",
      "-0,23943755223604346\n",
      "0,20373747463776357\n",
      "0,08962772003588299\n",
      "0,27886874113518345\n",
      "0,025790812399981825\n"
     ]
    }
   ],
   "source": [
    "print(EXP_NAME)\n",
    "for th in [0.5]:\n",
    "    for brain in final[th]:\n",
    "        print(str(final[th][brain]['contrast_all']).replace('.',','))"
   ]
  },
  {
   "cell_type": "code",
   "execution_count": 23,
   "id": "e2c5b05c-2f63-4ddd-b5c5-8d816d6c1095",
   "metadata": {},
   "outputs": [
    {
     "data": {
      "text/plain": [
       "{22: {'conf_all': array([[32156, 21070],\n",
       "         [    6,     0]]),\n",
       "  'IoU_all': 0.0,\n",
       "  'dice_all': 0.0,\n",
       "  'contrast_all': -0.5453059781310424,\n",
       "  'roc_all': 0.11893310286952491,\n",
       "  'recall_all': 0.0,\n",
       "  'confs': [array([[32156, 21070],\n",
       "          [    6,     0]])],\n",
       "  'IoUs': [0.0],\n",
       "  'dices': [0.0],\n",
       "  'contrasts': [-0.5453059781310424],\n",
       "  'roc': [0.11893310286952491],\n",
       "  'recall': [0.0]},\n",
       " 30: {'conf_all': -999,\n",
       "  'IoU_all': -999,\n",
       "  'dice_all': -999,\n",
       "  'contrast_all': -999,\n",
       "  'roc_all': -999,\n",
       "  'recall_all': -999,\n",
       "  'confs': [-999],\n",
       "  'IoUs': [-999],\n",
       "  'dices': [-999],\n",
       "  'contrasts': [-999],\n",
       "  'roc': [-999],\n",
       "  'recall': [-999]},\n",
       " 49: {'conf_all': array([[38101, 13042],\n",
       "         [   55,    44]]),\n",
       "  'IoU_all': 0.0033482992161935924,\n",
       "  'dice_all': 0.006674251042851726,\n",
       "  'contrast_all': 0.16212565185072944,\n",
       "  'roc_all': 0.661540714617382,\n",
       "  'recall_all': 0.4444444444444444,\n",
       "  'confs': [array([[38101, 13042],\n",
       "          [   55,    44]])],\n",
       "  'IoUs': [0.0033482992161935924],\n",
       "  'dices': [0.006674251042851726],\n",
       "  'contrasts': [0.16212565185072944],\n",
       "  'roc': [0.661540714617382],\n",
       "  'recall': [0.4444444444444444]},\n",
       " 4: {'conf_all': array([[30092, 23374],\n",
       "         [    0,    20]]),\n",
       "  'IoU_all': 0.0008549200649739249,\n",
       "  'dice_all': 0.0017083796019475527,\n",
       "  'contrast_all': 0.3254029387266164,\n",
       "  'roc_all': 0.961394157034377,\n",
       "  'recall_all': 1.0,\n",
       "  'confs': [array([[30092, 23374],\n",
       "          [    0,    20]])],\n",
       "  'IoUs': [0.0008549200649739249],\n",
       "  'dices': [0.0017083796019475527],\n",
       "  'contrasts': [0.3254029387266164],\n",
       "  'roc': [0.961394157034377],\n",
       "  'recall': [1.0]},\n",
       " 12: {'conf_all': array([[31410, 20863],\n",
       "         [   11,   337]]),\n",
       "  'IoU_all': 0.01588798265051153,\n",
       "  'dice_all': 0.03127900501206608,\n",
       "  'contrast_all': 0.289756800487056,\n",
       "  'roc_all': 0.8843512980372056,\n",
       "  'recall_all': 0.9683908045977011,\n",
       "  'confs': [array([[31410, 20863],\n",
       "          [   11,   337]])],\n",
       "  'IoUs': [0.01588798265051153],\n",
       "  'dices': [0.03127900501206608],\n",
       "  'contrasts': [0.289756800487056],\n",
       "  'roc': [0.8843512980372056],\n",
       "  'recall': [0.9683908045977011]},\n",
       " 31: {'conf_all': array([[30669, 22278],\n",
       "         [   56,    24]]),\n",
       "  'IoU_all': 0.0010734412738169783,\n",
       "  'dice_all': 0.0021445804664462515,\n",
       "  'contrast_all': -0.07076440306089676,\n",
       "  'roc_all': 0.4334416964133945,\n",
       "  'recall_all': 0.3,\n",
       "  'confs': [array([[30669, 22278],\n",
       "          [   56,    24]])],\n",
       "  'IoUs': [0.0010734412738169783],\n",
       "  'dices': [0.0021445804664462515],\n",
       "  'contrasts': [-0.07076440306089676],\n",
       "  'roc': [0.4334416964133945],\n",
       "  'recall': [0.3]},\n",
       " 28: {'conf_all': array([[36868, 16847],\n",
       "         [   61,    10]]),\n",
       "  'IoU_all': 0.0005910864168341412,\n",
       "  'dice_all': 0.0011814744801512287,\n",
       "  'contrast_all': -0.20348429852306948,\n",
       "  'roc_all': 0.33589327082292697,\n",
       "  'recall_all': 0.14084507042253522,\n",
       "  'confs': [array([[36868, 16847],\n",
       "          [   61,    10]])],\n",
       "  'IoUs': [0.0005910864168341412],\n",
       "  'dices': [0.0011814744801512287],\n",
       "  'contrasts': [-0.20348429852306948],\n",
       "  'roc': [0.33589327082292697],\n",
       "  'recall': [0.14084507042253522]},\n",
       " 10: {'conf_all': -999,\n",
       "  'IoU_all': -999,\n",
       "  'dice_all': -999,\n",
       "  'contrast_all': -999,\n",
       "  'roc_all': -999,\n",
       "  'recall_all': -999,\n",
       "  'confs': [-999],\n",
       "  'IoUs': [-999],\n",
       "  'dices': [-999],\n",
       "  'contrasts': [-999],\n",
       "  'roc': [-999],\n",
       "  'recall': [-999]},\n",
       " 67: {'conf_all': array([[32440, 20661],\n",
       "         [    1,   290]]),\n",
       "  'IoU_all': 0.013841160748377244,\n",
       "  'dice_all': 0.02730439694943979,\n",
       "  'contrast_all': 0.35766872661995175,\n",
       "  'roc_all': 0.9677661534710065,\n",
       "  'recall_all': 0.9965635738831615,\n",
       "  'confs': [array([[32440, 20661],\n",
       "          [    1,   290]])],\n",
       "  'IoUs': [0.013841160748377244],\n",
       "  'dices': [0.02730439694943979],\n",
       "  'contrasts': [0.35766872661995175],\n",
       "  'roc': [0.9677661534710065],\n",
       "  'recall': [0.9965635738831615]},\n",
       " 35: {'conf_all': array([[28456, 20227],\n",
       "         [    0,    12]]),\n",
       "  'IoU_all': 0.0005929146696971194,\n",
       "  'dice_all': 0.0011851266604118314,\n",
       "  'contrast_all': 0.28154538878747326,\n",
       "  'roc_all': 0.9010195208457437,\n",
       "  'recall_all': 1.0,\n",
       "  'confs': [array([[28456, 20227],\n",
       "          [    0,    12]])],\n",
       "  'IoUs': [0.0005929146696971194],\n",
       "  'dices': [0.0011851266604118314],\n",
       "  'contrasts': [0.28154538878747326],\n",
       "  'roc': [0.9010195208457437],\n",
       "  'recall': [1.0]},\n",
       " 68: {'conf_all': -999,\n",
       "  'IoU_all': -999,\n",
       "  'dice_all': -999,\n",
       "  'contrast_all': -999,\n",
       "  'roc_all': -999,\n",
       "  'recall_all': -999,\n",
       "  'confs': [-999],\n",
       "  'IoUs': [-999],\n",
       "  'dices': [-999],\n",
       "  'contrasts': [-999],\n",
       "  'roc': [-999],\n",
       "  'recall': [-999]},\n",
       " 70: {'conf_all': array([[31780, 21084],\n",
       "         [    9,    12]]),\n",
       "  'IoU_all': 0.0005685856432125089,\n",
       "  'dice_all': 0.001136525074584458,\n",
       "  'contrast_all': 0.08520021962822351,\n",
       "  'roc_all': 0.6040973062953995,\n",
       "  'recall_all': 0.5714285714285714,\n",
       "  'confs': [array([[31780, 21084],\n",
       "          [    9,    12]])],\n",
       "  'IoUs': [0.0005685856432125089],\n",
       "  'dices': [0.001136525074584458],\n",
       "  'contrasts': [0.08520021962822351],\n",
       "  'roc': [0.6040973062953995],\n",
       "  'recall': [0.5714285714285714]},\n",
       " 33: {'conf_all': array([[38784, 13442],\n",
       "         [    5,     0]]),\n",
       "  'IoU_all': 0.0,\n",
       "  'dice_all': 0.0,\n",
       "  'contrast_all': -0.23943755223604346,\n",
       "  'roc_all': 0.3308696817677019,\n",
       "  'recall_all': 0.0,\n",
       "  'confs': [array([[38784, 13442],\n",
       "          [    5,     0]])],\n",
       "  'IoUs': [0.0],\n",
       "  'dices': [0.0],\n",
       "  'contrasts': [-0.23943755223604346],\n",
       "  'roc': [0.3308696817677019],\n",
       "  'recall': [0.0]},\n",
       " 18: {'conf_all': array([[28329, 21882],\n",
       "         [    0,     9]]),\n",
       "  'IoU_all': 0.0004111278607646978,\n",
       "  'dice_all': 0.0008219178082191781,\n",
       "  'contrast_all': 0.20373747463776357,\n",
       "  'roc_all': 0.8046355490939348,\n",
       "  'recall_all': 1.0,\n",
       "  'confs': [array([[28329, 21882],\n",
       "          [    0,     9]])],\n",
       "  'IoUs': [0.0004111278607646978],\n",
       "  'dices': [0.0008219178082191781],\n",
       "  'contrasts': [0.20373747463776357],\n",
       "  'roc': [0.8046355490939348],\n",
       "  'recall': [1.0]},\n",
       " 0: {'conf_all': array([[31896, 20929],\n",
       "         [   54,    77]]),\n",
       "  'IoU_all': 0.0036562203228869897,\n",
       "  'dice_all': 0.007285802147892322,\n",
       "  'contrast_all': 0.08962772003588299,\n",
       "  'roc_all': 0.6222185453192343,\n",
       "  'recall_all': 0.5877862595419847,\n",
       "  'confs': [array([[31896, 20929],\n",
       "          [   54,    77]])],\n",
       "  'IoUs': [0.0036562203228869897],\n",
       "  'dices': [0.007285802147892322],\n",
       "  'contrasts': [0.08962772003588299],\n",
       "  'roc': [0.6222185453192343],\n",
       "  'recall': [0.5877862595419847]},\n",
       " 73: {'conf_all': array([[29779, 18861],\n",
       "         [   12,    36]]),\n",
       "  'IoU_all': 0.0019038553069966682,\n",
       "  'dice_all': 0.003800475059382423,\n",
       "  'contrast_all': 0.27886874113518345,\n",
       "  'roc_all': 0.8252381441885965,\n",
       "  'recall_all': 0.75,\n",
       "  'confs': [array([[29779, 18861],\n",
       "          [   12,    36]])],\n",
       "  'IoUs': [0.0019038553069966682],\n",
       "  'dices': [0.003800475059382423],\n",
       "  'contrasts': [0.27886874113518345],\n",
       "  'roc': [0.8252381441885965],\n",
       "  'recall': [0.75]},\n",
       " 45: {'conf_all': array([[29737, 23597],\n",
       "         [    9,    11]]),\n",
       "  'IoU_all': 0.0004657661853749418,\n",
       "  'dice_all': 0.000931098696461825,\n",
       "  'contrast_all': 0.025790812399981825,\n",
       "  'roc_all': 0.5306436794540068,\n",
       "  'recall_all': 0.55,\n",
       "  'confs': [array([[29737, 23597],\n",
       "          [    9,    11]])],\n",
       "  'IoUs': [0.0004657661853749418],\n",
       "  'dices': [0.000931098696461825],\n",
       "  'contrasts': [0.025790812399981825],\n",
       "  'roc': [0.5306436794540068],\n",
       "  'recall': [0.55]}}"
      ]
     },
     "execution_count": 23,
     "metadata": {},
     "output_type": "execute_result"
    }
   ],
   "source": [
    "final[th]"
   ]
  },
  {
   "cell_type": "code",
   "execution_count": null,
   "id": "cf622a36-afa0-4740-83fa-7f63ec9ff94e",
   "metadata": {},
   "outputs": [],
   "source": []
  }
 ],
 "metadata": {
  "kernelspec": {
   "display_name": "Python 3",
   "language": "python",
   "name": "python3"
  },
  "language_info": {
   "codemirror_mode": {
    "name": "ipython",
    "version": 3
   },
   "file_extension": ".py",
   "mimetype": "text/x-python",
   "name": "python",
   "nbconvert_exporter": "python",
   "pygments_lexer": "ipython3",
   "version": "3.6.9"
  }
 },
 "nbformat": 4,
 "nbformat_minor": 5
}
