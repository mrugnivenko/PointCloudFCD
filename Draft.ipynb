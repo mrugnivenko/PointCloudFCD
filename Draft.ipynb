{
 "cells": [
  {
   "cell_type": "code",
   "execution_count": 21,
   "id": "b9b2fd01-6a1d-4c45-87b9-81178426262c",
   "metadata": {},
   "outputs": [],
   "source": [
    "import imp\n",
    "import os\n",
    "import glob\n",
    "import numpy as np\n",
    "import pandas as pd\n",
    "import matplotlib.pyplot as plt\n",
    "from utils.crop import *\n",
    "\n",
    "import utils.data_processor as data_processor\n",
    "imp.reload(data_processor)\n",
    "from utils.data_processor import *\n",
    "\n",
    "\n",
    "%config Completer.use_jedi = False"
   ]
  },
  {
   "cell_type": "code",
   "execution_count": 32,
   "id": "dbee891f-d1e8-48b9-b78c-006f56787f1b",
   "metadata": {},
   "outputs": [],
   "source": [
    "def score(descending_probability_amount_of_fcd: list) -> np.float:\n",
    "    idx = next((index for index,\n",
    "                value in enumerate(descending_probability_amount_of_fcd) if value != 0), None)\n",
    "    if idx == None:\n",
    "        return 0\n",
    "    else:\n",
    "        return (10-idx)*10\n",
    "    \n",
    "def calculate_score(brain_path: str,\n",
    "                    prediction_path: str,\n",
    "                    label_path: str,\n",
    "                    crop_size = 64,\n",
    "                    step_size = 64) -> float:\n",
    "    \n",
    "    brain = np.load(brain_path)\n",
    "    prediction = load_nii_to_array(prediction_path)\n",
    "    label = np.load(label_path)\n",
    "    \n",
    "    if label.sum() == 0:\n",
    "        return None\n",
    "    \n",
    "    sagittal_shape, coronal_shape, axial_shape = brain.shape\n",
    "    \n",
    "    deltas = []\n",
    "    for shape in [sagittal_shape, coronal_shape, axial_shape]:\n",
    "        if shape % crop_size != 0:\n",
    "            deltas.append((0, (shape // crop_size + 1) * crop_size - shape))\n",
    "        else:\n",
    "            deltas.append((0, 0))\n",
    "\n",
    "    brain = np.pad(brain, deltas, \"constant\", constant_values=0)\n",
    "    prediction = np.pad(prediction, deltas, \"constant\", constant_values=0)\n",
    "    label = np.pad(label, deltas, \"constant\", constant_values=0)\n",
    "\n",
    "    single_data_dict, center_coords = get_inference_crops(\n",
    "        {'brains': brain}, crop_size=crop_size, step_size=step_size\n",
    "    )\n",
    "    \n",
    "    df = pd.DataFrame(columns=['probability', 'is_fcd'])\n",
    "\n",
    "    for i, crop_point in enumerate(center_coords):\n",
    "        pred_crop = prediction[crop_point[0]:crop_point[0]+crop_size,\n",
    "                               crop_point[1]:crop_point[1]+crop_size,\n",
    "                               crop_point[2]:crop_point[2]+crop_size,\n",
    "                              ]\n",
    "\n",
    "        label_crop = label[crop_point[0]:crop_point[0]+crop_size,\n",
    "                         crop_point[1]:crop_point[1]+crop_size,\n",
    "                         crop_point[2]:crop_point[2]+crop_size,\n",
    "                        ]\n",
    "        \n",
    "        df.loc[i] = [pred_crop.sum(), label_crop.sum()]\n",
    "        \n",
    "    df = df.sort_values(by='probability', ascending=False)[:10]\n",
    "    return score(df.is_fcd.tolist())"
   ]
  },
  {
   "cell_type": "code",
   "execution_count": 33,
   "id": "b15238c1-3f4d-4609-aa5f-12b1896c2257",
   "metadata": {},
   "outputs": [],
   "source": [
    "allowed_subjects = np.load('raw_data/sub_with_all_data.npy', allow_pickle=True).tolist()\n",
    "\n",
    "if not allowed_subjects:\n",
    "    allowed_subdirs = [f\"sub-{name[:-4]}\" for name in os.listdir(f\"raw_data/normalized_label\")]\n",
    "else:\n",
    "    allowed_subdirs = [f'sub-{name}' for name in allowed_subjects]\n",
    "    \n",
    "brains = [[f\"raw_data/output/fmriprep/{subdir}/anat/{name}\" for name in os.listdir(f\"raw_data/output/fmriprep/{subdir}/anat\") if name.endswith(\"Asym_desc-preproc_T1w.nii.gz\")] for subdir in os.listdir(f\"raw_data/output/fmriprep/\") if subdir.count(\".\") == 0 and subdir.startswith(\"sub\") and subdir in allowed_subdirs]\n",
    "brains = [item for sublist in brains for item in sublist]\n",
    "brain_nums = [x.split('/')[3][4:] for x in brains]"
   ]
  },
  {
   "cell_type": "code",
   "execution_count": 36,
   "id": "f7e089e4-ff5e-4769-a967-6b2916280fc3",
   "metadata": {},
   "outputs": [
    {
     "name": "stderr",
     "output_type": "stream",
     "text": [
      "100%|██████████| 81/81 [00:00<00:00, 212469.43it/s]\n",
      "100%|██████████| 81/81 [00:00<00:00, 193914.74it/s]\n",
      "81it [01:23,  1.03s/it]\n"
     ]
    }
   ],
   "source": [
    "EXP_NAME = \"2021-10-27_16bs_abscoords_air_cropsize64_epochs400_whole\"\n",
    "BRAIN_TYPE = EXP_NAME.split('_')[-1]\n",
    "\n",
    "if BRAIN_TYPE == 'whole':\n",
    "    BRAIN_TYPE = 'full'\n",
    "    \n",
    "brains_loaded = [f\"dataset_ready_to_use/data_only_usefull_areas/{BRAIN_TYPE}/brains/{num}.npy\" for num in tqdm(brain_nums)]\n",
    "labels_loaded = [f\"dataset_ready_to_use/data_only_usefull_areas/{BRAIN_TYPE}/labels/{num}.npy\" for num in tqdm(brain_nums)]\n",
    "\n",
    "df_result = pd.DataFrame(columns=['brain', 'score'])\n",
    "\n",
    "for brain_index, paths in tqdm(enumerate(zip(brains_loaded, labels_loaded))):\n",
    "    brain_path, label_path = paths\n",
    "    prediction_path = f'interpolate/results/brain_{brain_index}/griddata/nearest_{EXP_NAME}.nii.gz'\n",
    "    metric = calculate_score(brain_path, prediction_path, label_path)\n",
    "    df_result.loc[brain_index] = [brain_nums[brain_index], metric]\n",
    "\n",
    "df_result.to_csv(f'results/{EXP_NAME}.csv')"
   ]
  },
  {
   "cell_type": "code",
   "execution_count": 37,
   "id": "83d5f9b7-74b2-497f-9651-36a8b3239f4d",
   "metadata": {},
   "outputs": [
    {
     "data": {
      "text/plain": [
       "53.7037037037037"
      ]
     },
     "execution_count": 37,
     "metadata": {},
     "output_type": "execute_result"
    }
   ],
   "source": [
    "df_result.score.mean()"
   ]
  },
  {
   "cell_type": "code",
   "execution_count": 38,
   "id": "c605a0d1-57bd-4edd-9aa2-d89dce3855a6",
   "metadata": {},
   "outputs": [
    {
     "data": {
      "image/png": "[encoded data removed]",
      "text/plain": [
       "<Figure size 432x288 with 1 Axes>"
      ]
     },
     "metadata": {
      "needs_background": "light"
     },
     "output_type": "display_data"
    }
   ],
   "source": [
    "plt.hist(df_result.score,bins=50)\n",
    "plt.xticks(range(0,110,10))\n",
    "plt.ylabel('#brains')\n",
    "plt.xlabel('score')\n",
    "plt.show()"
   ]
  },
  {
   "cell_type": "code",
   "execution_count": 41,
   "id": "61076131-cf07-4348-98da-740499807870",
   "metadata": {},
   "outputs": [
    {
     "data": {
      "text/plain": [
       "0.654320987654321"
      ]
     },
     "execution_count": 41,
     "metadata": {},
     "output_type": "execute_result"
    }
   ],
   "source": [
    "df_result[df_result.score>=50].score.count()/df_result.score.count()"
   ]
  },
  {
   "cell_type": "code",
   "execution_count": 42,
   "id": "f92f81c4-7f5c-4dce-a3b9-f49372455fd2",
   "metadata": {},
   "outputs": [],
   "source": [
    "# from sklearn.metrics import precision_recall_curve\n",
    "# from sklearn.metrics import auc\n",
    "\n",
    "# df_result = pd.DataFrame(columns=['brain', 'auc'])\n",
    "\n",
    "# for brain_index, paths in tqdm(enumerate(zip(brains_loaded, labels_loaded))):\n",
    "#     brain_path, label_path = paths\n",
    "#     prediction_path = f'interpolate/results/brain_{brain_index}/griddata/nearest_{EXP_NAME}.nii.gz'\n",
    "    \n",
    "#     brain = np.load(brain_path)\n",
    "#     prediction = load_nii_to_array(prediction_path)\n",
    "#     label = np.load(label_path)\n",
    "    \n",
    "#     precision, recall, thresholds = precision_recall_curve(label.reshape(-1), prediction.reshape(-1))\n",
    "#     auc_score = auc(recall, precision)\n",
    "#     df_result.loc[brain_index] = [brain_nums[brain_index], auc_score]"
   ]
  },
  {
   "cell_type": "code",
   "execution_count": null,
   "id": "24208a98-4463-4ca4-9faa-e74ecf9b0874",
   "metadata": {},
   "outputs": [],
   "source": []
  },
  {
   "cell_type": "code",
   "execution_count": 43,
   "id": "41ad578c-f4a1-4a60-9642-dc35e54032e1",
   "metadata": {},
   "outputs": [
    {
     "name": "stderr",
     "output_type": "stream",
     "text": [
      "100%|██████████| 81/81 [00:00<00:00, 209715.20it/s]\n",
      "100%|██████████| 81/81 [00:00<00:00, 245475.88it/s]\n",
      "81it [04:27,  3.30s/it]\n"
     ]
    }
   ],
   "source": [
    "EXP_NAME = \"2021-11-04_16bs_abscoords_air_cropsize64_epochs400_nottemple\"\n",
    "BRAIN_TYPE = EXP_NAME.split('_')[-1]\n",
    "\n",
    "if BRAIN_TYPE == 'whole':\n",
    "    BRAIN_TYPE = 'full'\n",
    "    \n",
    "brains_loaded = [f\"dataset_ready_to_use/data_only_usefull_areas/{BRAIN_TYPE}/brains/{num}.npy\" for num in tqdm(brain_nums)]\n",
    "labels_loaded = [f\"dataset_ready_to_use/data_only_usefull_areas/{BRAIN_TYPE}/labels/{num}.npy\" for num in tqdm(brain_nums)]\n",
    "\n",
    "df_result = pd.DataFrame(columns=['brain', 'score'])\n",
    "\n",
    "for brain_index, paths in tqdm(enumerate(zip(brains_loaded, labels_loaded))):\n",
    "    brain_path, label_path = paths\n",
    "    prediction_path = f'interpolate/results/brain_{brain_index}/griddata/nearest_{EXP_NAME}.nii.gz'\n",
    "    metric = calculate_score(brain_path, prediction_path, label_path)\n",
    "    df_result.loc[brain_index] = [brain_nums[brain_index], metric]\n",
    "    \n",
    "df_result.to_csv(f'results/{EXP_NAME}.csv')"
   ]
  },
  {
   "cell_type": "code",
   "execution_count": 44,
   "id": "f0019991-361f-4649-846f-11857b523fe4",
   "metadata": {},
   "outputs": [],
   "source": [
    "df_result.dropna(inplace=True)"
   ]
  },
  {
   "cell_type": "code",
   "execution_count": 45,
   "id": "eea2fc70-a74c-45c6-861b-b5ef7cf88cdc",
   "metadata": {},
   "outputs": [
    {
     "data": {
      "image/png": "[encoded data removed]",
      "text/plain": [
       "<Figure size 432x288 with 1 Axes>"
      ]
     },
     "metadata": {
      "needs_background": "light"
     },
     "output_type": "display_data"
    }
   ],
   "source": [
    "plt.hist(df_result.score,bins=50)\n",
    "plt.xticks(range(0,110,10))\n",
    "plt.ylabel('#brains')\n",
    "plt.xlabel('score')\n",
    "plt.show()"
   ]
  },
  {
   "cell_type": "code",
   "execution_count": 1,
   "id": "f1cb1bcf-f53a-436a-a970-746a1b2ec3c5",
   "metadata": {},
   "outputs": [
    {
     "data": {
      "text/plain": [
       "0.715"
      ]
     },
     "execution_count": 1,
     "metadata": {},
     "output_type": "execute_result"
    }
   ],
   "source": [
    "df_result[df_result.score>=50].score.count()/df_result.score.count()"
   ]
  },
  {
   "cell_type": "code",
   "execution_count": 55,
   "id": "ce5fa41d-337e-4630-b9e8-5b9de5e8a3d3",
   "metadata": {},
   "outputs": [
    {
     "name": "stderr",
     "output_type": "stream",
     "text": [
      "100%|██████████| 81/81 [00:03<00:00, 22.67it/s]\n"
     ]
    }
   ],
   "source": [
    "nonempty = []\n",
    "for path in tqdm(labels_loaded):\n",
    "    label = np.load(path)\n",
    "    if label.sum() != 0:\n",
    "        nonempty.append(label.sum())"
   ]
  },
  {
   "cell_type": "code",
   "execution_count": 56,
   "id": "a96e8303-6bfc-4e18-9fe6-b9222f710624",
   "metadata": {},
   "outputs": [
    {
     "data": {
      "text/plain": [
       "[9308,\n",
       " 388,\n",
       " 582,\n",
       " 949,\n",
       " 1611,\n",
       " 4264,\n",
       " 2178,\n",
       " 1358,\n",
       " 3953,\n",
       " 353,\n",
       " 3,\n",
       " 12366,\n",
       " 14688,\n",
       " 19794,\n",
       " 598,\n",
       " 4719,\n",
       " 756,\n",
       " 720,\n",
       " 2348,\n",
       " 35,\n",
       " 2675,\n",
       " 539,\n",
       " 7625,\n",
       " 849,\n",
       " 2432,\n",
       " 3753,\n",
       " 2467,\n",
       " 4402,\n",
       " 457,\n",
       " 97,\n",
       " 6129,\n",
       " 9589,\n",
       " 540,\n",
       " 1379,\n",
       " 972,\n",
       " 2736,\n",
       " 10320,\n",
       " 979,\n",
       " 3946,\n",
       " 1791,\n",
       " 8580,\n",
       " 2238,\n",
       " 874,\n",
       " 9123,\n",
       " 1279,\n",
       " 31,\n",
       " 45,\n",
       " 36,\n",
       " 6463,\n",
       " 282,\n",
       " 1649,\n",
       " 317,\n",
       " 1872,\n",
       " 13457,\n",
       " 425,\n",
       " 12519,\n",
       " 1034,\n",
       " 1865,\n",
       " 569,\n",
       " 276,\n",
       " 1348,\n",
       " 5279,\n",
       " 1573,\n",
       " 2294,\n",
       " 7508,\n",
       " 4932,\n",
       " 15019,\n",
       " 165,\n",
       " 220,\n",
       " 1314,\n",
       " 4795,\n",
       " 2070,\n",
       " 3153,\n",
       " 827,\n",
       " 654,\n",
       " 4773,\n",
       " 5434,\n",
       " 2520,\n",
       " 509,\n",
       " 6765]"
      ]
     },
     "execution_count": 56,
     "metadata": {},
     "output_type": "execute_result"
    }
   ],
   "source": [
    "nonempty"
   ]
  },
  {
   "cell_type": "code",
   "execution_count": 54,
   "id": "56f49ed2-f87f-49a5-b10f-d300231ce360",
   "metadata": {},
   "outputs": [
    {
     "data": {
      "text/plain": [
       "6765"
      ]
     },
     "execution_count": 54,
     "metadata": {},
     "output_type": "execute_result"
    }
   ],
   "source": [
    "label.sum()"
   ]
  },
  {
   "cell_type": "code",
   "execution_count": 57,
   "id": "63e5d35c-ae47-4a49-9248-813c218beefc",
   "metadata": {},
   "outputs": [
    {
     "name": "stderr",
     "output_type": "stream",
     "text": [
      "100%|██████████| 81/81 [00:00<00:00, 78208.71it/s]\n",
      "100%|██████████| 81/81 [00:00<00:00, 105903.56it/s]\n"
     ]
    }
   ],
   "source": [
    "BRAIN_TYPE = 'whole'\n",
    "\n",
    "if BRAIN_TYPE == 'whole':\n",
    "    BRAIN_TYPE = 'full'\n",
    "    \n",
    "brains_loaded = [f\"dataset_ready_to_use/data_only_usefull_areas/{BRAIN_TYPE}/brains/{num}.npy\" for num in tqdm(brain_nums)]\n",
    "labels_loaded = [f\"dataset_ready_to_use/data_only_usefull_areas/{BRAIN_TYPE}/labels/{num}.npy\" for num in tqdm(brain_nums)]"
   ]
  },
  {
   "cell_type": "code",
   "execution_count": 58,
   "id": "4eb5c5f9-d018-496d-8a1e-784428cc46d1",
   "metadata": {},
   "outputs": [
    {
     "name": "stderr",
     "output_type": "stream",
     "text": [
      "100%|██████████| 81/81 [00:02<00:00, 38.11it/s]\n"
     ]
    }
   ],
   "source": [
    "label_amount = []\n",
    "for path in tqdm(labels_loaded):\n",
    "    label = np.load(path)\n",
    "    label_amount.append(label.sum())"
   ]
  },
  {
   "cell_type": "code",
   "execution_count": 59,
   "id": "f6808cf5-52b0-4fd5-b414-6435f94b9cbd",
   "metadata": {},
   "outputs": [
    {
     "data": {
      "image/png": "[encoded data removed]",
      "text/plain": [
       "<Figure size 432x288 with 1 Axes>"
      ]
     },
     "metadata": {
      "needs_background": "light"
     },
     "output_type": "display_data"
    }
   ],
   "source": [
    "plt.hist(label_amount)\n",
    "plt.show()"
   ]
  },
  {
   "cell_type": "code",
   "execution_count": 60,
   "id": "f1b77e52-b497-44db-85c0-366b6505d130",
   "metadata": {},
   "outputs": [
    {
     "data": {
      "text/plain": [
       "[9308,\n",
       " 388,\n",
       " 582,\n",
       " 949,\n",
       " 1611,\n",
       " 4264,\n",
       " 2178,\n",
       " 1358,\n",
       " 3953,\n",
       " 353,\n",
       " 3,\n",
       " 12366,\n",
       " 25002,\n",
       " 42543,\n",
       " 2087,\n",
       " 3735,\n",
       " 5039,\n",
       " 756,\n",
       " 720,\n",
       " 2348,\n",
       " 35,\n",
       " 2675,\n",
       " 539,\n",
       " 7625,\n",
       " 849,\n",
       " 2432,\n",
       " 10452,\n",
       " 8835,\n",
       " 4402,\n",
       " 2831,\n",
       " 97,\n",
       " 6129,\n",
       " 9589,\n",
       " 540,\n",
       " 1379,\n",
       " 972,\n",
       " 2736,\n",
       " 10320,\n",
       " 979,\n",
       " 3946,\n",
       " 1791,\n",
       " 8580,\n",
       " 2238,\n",
       " 874,\n",
       " 9123,\n",
       " 1279,\n",
       " 2045,\n",
       " 45,\n",
       " 36,\n",
       " 6797,\n",
       " 282,\n",
       " 1649,\n",
       " 317,\n",
       " 1987,\n",
       " 16726,\n",
       " 425,\n",
       " 13702,\n",
       " 1034,\n",
       " 1865,\n",
       " 569,\n",
       " 276,\n",
       " 1348,\n",
       " 5279,\n",
       " 1573,\n",
       " 2294,\n",
       " 7510,\n",
       " 4932,\n",
       " 21000,\n",
       " 165,\n",
       " 220,\n",
       " 1314,\n",
       " 4795,\n",
       " 2070,\n",
       " 3153,\n",
       " 2397,\n",
       " 654,\n",
       " 4773,\n",
       " 5434,\n",
       " 2520,\n",
       " 509,\n",
       " 8411]"
      ]
     },
     "execution_count": 60,
     "metadata": {},
     "output_type": "execute_result"
    }
   ],
   "source": [
    "label_amount"
   ]
  },
  {
   "cell_type": "code",
   "execution_count": null,
   "id": "544b637c-ddfd-4bee-b063-b13abcd87cd5",
   "metadata": {},
   "outputs": [],
   "source": []
  }
 ],
 "metadata": {
  "kernelspec": {
   "display_name": "Python 3",
   "language": "python",
   "name": "python3"
  },
  "language_info": {
   "codemirror_mode": {
    "name": "ipython",
    "version": 3
   },
   "file_extension": ".py",
   "mimetype": "text/x-python",
   "name": "python",
   "nbconvert_exporter": "python",
   "pygments_lexer": "ipython3",
   "version": "3.6.9"
  }
 },
 "nbformat": 4,
 "nbformat_minor": 5
}
