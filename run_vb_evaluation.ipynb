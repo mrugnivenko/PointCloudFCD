{
 "cells": [
  {
   "cell_type": "markdown",
   "id": "894d082b-ef72-42fb-8758-c6f5e9db0d79",
   "metadata": {},
   "source": [
    "# Importing libraries"
   ]
  },
  {
   "cell_type": "code",
   "execution_count": null,
   "id": "5bbc39f1-20d2-49eb-941d-230c0a5c9b70",
   "metadata": {},
   "outputs": [],
   "source": [
    "import os\n",
    "import json\n",
    "import pickle\n",
    "import numpy as np\n",
    "from tqdm import tqdm\n",
    "import matplotlib.pyplot as plt\n",
    "from easydict import EasyDict as edict\n",
    "from sklearn.metrics import recall_score\n",
    "\n",
    "from utils.inference import *\n",
    "from utils.metrics import *\n",
    "\n",
    "import warnings\n",
    "warnings.filterwarnings(\"ignore\")\n",
    "\n",
    "%config Completer.use_jedi = False"
   ]
  },
  {
   "cell_type": "markdown",
   "id": "b1818473-969c-45eb-bf06-192fe52a43fe",
   "metadata": {},
   "source": [
    "# Specifying trained model"
   ]
  },
  {
   "cell_type": "code",
   "execution_count": 5,
   "id": "e9857bf2-548d-4224-bbac-c4cb10a26c3d",
   "metadata": {},
   "outputs": [],
   "source": [
    "EXP_NAME = 'a2a122e4-c9bb-41c2-9c5e-2e70160e6419'\n",
    "\n",
    "with open(f'experiments/{EXP_NAME}/config.json') as json_file:\n",
    "    config = json.load(json_file)\n",
    "\n",
    "config = edict(config)\n",
    "\n",
    "os.makedirs(f'experiments/{EXP_NAME}/top_10_masks')"
   ]
  },
  {
   "cell_type": "code",
   "execution_count": 6,
   "id": "6abdd9cd-5371-4119-a3a7-4dd83fdd3500",
   "metadata": {},
   "outputs": [],
   "source": [
    "data_dict = {}\n",
    "for subject in config.subjects:\n",
    "    \n",
    "    prediction_path = f\"experiments/{config.EXP_NAME}/interpolation/{subject}.nii\" \n",
    "    label_path = f\"{config.path_to_data}/labels/{subject}.nii\" \n",
    "    \n",
    "    data_dict[subject] = [prediction_path, label_path]"
   ]
  },
  {
   "cell_type": "code",
   "execution_count": 7,
   "id": "4e370402-972d-4c0f-a3c9-6bfbb98e2d67",
   "metadata": {},
   "outputs": [
    {
     "name": "stderr",
     "output_type": "stream",
     "text": [
      "100%|██████████| 80/80 [10:11<00:00,  7.64s/it]\n"
     ]
    }
   ],
   "source": [
    "df = pd.DataFrame(columns=['dice', 'iou', 'contrast', 'recall', 'top10', 'min_number_of_crops'])\n",
    "\n",
    "for subject in tqdm(config.subjects):\n",
    "    \n",
    "    prediction_path, label_path = data_dict[subject]\n",
    "    \n",
    "    prediction = load_nii_to_array(prediction_path)\n",
    "    label = load_nii_to_array(label_path)\n",
    "    \n",
    "    dice, iou, contrast, recall = compute_metrics_on_voxels(prediction, label)\n",
    "    top10, min_number_of_crops = get_top_10_metric_and_mask(config, subject, prediction, label, crop_size=64)\n",
    "    \n",
    "    df.loc[subject] = [dice, iou, contrast, recall, np.round(top10, decimals=2), min_number_of_crops]\n",
    "    \n",
    "df.sort_values(by=['top10', 'contrast'], ascending=False, inplace=True)\n",
    "df.loc['mean'] = df.mean()\n",
    "df = df[['contrast', 'recall', 'top10', 'min_number_of_crops', 'dice', 'iou']]\n",
    "df.to_csv(f'experiments/{EXP_NAME}/vb_metrics.csv')"
   ]
  },
  {
   "cell_type": "code",
   "execution_count": 8,
   "id": "a23638f6-a33f-4e7e-811e-fed20f88ef51",
   "metadata": {},
   "outputs": [
    {
     "data": {
      "image/png": "[encoded data removed]",
      "text/plain": [
       "<Figure size 720x432 with 1 Axes>"
      ]
     },
     "metadata": {
      "needs_background": "light"
     },
     "output_type": "display_data"
    }
   ],
   "source": [
    "df_metric = pd.DataFrame(df.top10[:-1].value_counts())\n",
    "\n",
    "fig, axs =  plt.subplots(figsize=(10, 6))\n",
    "plt.rcParams.update({'font.size': 14})\n",
    "\n",
    "plt.bar(df_metric.index.tolist(),\n",
    "        df_metric.top10.tolist(),\n",
    "        width = 0.05,\n",
    "       tick_label=df_metric.index.tolist())\n",
    "plt.grid(True, alpha=0.5)\n",
    "plt.ylim(0, max(df_metric.top10.tolist())+1)\n",
    "plt.ylabel('number of subjects')\n",
    "plt.xlabel('top 10 crop metric')\n",
    "plt.savefig(f'experiments/{EXP_NAME}/vb_histogram_top_10_score.jpeg')"
   ]
  },
  {
   "cell_type": "code",
   "execution_count": null,
   "id": "e0be3b2d-d17e-4025-9bed-c84417bd68c0",
   "metadata": {},
   "outputs": [],
   "source": []
  }
 ],
 "metadata": {
  "kernelspec": {
   "display_name": "Python 3",
   "language": "python",
   "name": "python3"
  },
  "language_info": {
   "codemirror_mode": {
    "name": "ipython",
    "version": 3
   },
   "file_extension": ".py",
   "mimetype": "text/x-python",
   "name": "python",
   "nbconvert_exporter": "python",
   "pygments_lexer": "ipython3",
   "version": "3.6.9"
  }
 },
 "nbformat": 4,
 "nbformat_minor": 5
}
