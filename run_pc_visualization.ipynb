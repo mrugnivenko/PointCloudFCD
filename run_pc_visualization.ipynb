{
 "cells": [
  {
   "cell_type": "markdown",
   "metadata": {},
   "source": [
    "# Import libraries"
   ]
  },
  {
   "cell_type": "code",
   "execution_count": 1,
   "metadata": {},
   "outputs": [],
   "source": [
    "import os\n",
    "import k3d\n",
    "import json\n",
    "import numpy as np\n",
    "from tqdm import tqdm\n",
    "from easydict import EasyDict as edict"
   ]
  },
  {
   "cell_type": "markdown",
   "metadata": {},
   "source": [
    "# Specifying trained model"
   ]
  },
  {
   "cell_type": "code",
   "execution_count": 2,
   "metadata": {},
   "outputs": [],
   "source": [
    "EXP_NAME = '108364b8-aad7-4c4d-b093-4a69a49ececc'\n",
    "\n",
    "with open(f'experiments/{EXP_NAME}/config.json') as json_file:\n",
    "    config = json.load(json_file)\n",
    "\n",
    "config = edict(config)\n",
    "\n",
    "os.makedirs(f'experiments/{EXP_NAME}/visualizations', exist_ok=True)"
   ]
  },
  {
   "cell_type": "markdown",
   "metadata": {},
   "source": [
    "# Visualizating"
   ]
  },
  {
   "cell_type": "code",
   "execution_count": 5,
   "metadata": {},
   "outputs": [],
   "source": [
    "for subject in ['4']:#tqdm(config.subjects):\n",
    "    \n",
    "    with open(f'experiments/{EXP_NAME}/predictions/{subject}.json') as json_file:\n",
    "        net_output = json.load(json_file)\n",
    "        \n",
    "    coordinates = np.array(net_output['coordinates'])\n",
    "    predictions = np.array(net_output['predictions'])\n",
    "    labels = np.array(net_output['labels'])\n",
    "    air_maks = np.array(net_output['air_maks'])\n",
    "\n",
    "    coordinates = coordinates*(1-air_maks[:, None]).astype(np.float32)\n",
    "    predictions = predictions*(1-air_maks)\n",
    "    predictions = (predictions > 0.8).astype(np.float32)\n",
    "    labels = labels*(1-air_maks)\n",
    "    tp = np.logical_and(labels, predictions)\n",
    "    fp = np.logical_and(1-labels, predictions)\n",
    "    fn = np.logical_and(labels, 1-predictions)\n",
    "    \n",
    "    pred_colors = np.array([0xCCCCCC for _ in range(len(predictions))])\n",
    "    \n",
    "#     pred_colors = [0x00FF00 if tp[i] else x for i, x in enumerate(pred_colors)]\n",
    "#     pred_colors = [0xFF9900 if fp[i] else x for i, x in enumerate(pred_colors)]\n",
    "#     pred_colors = [0xFF0000 if fn[i] else x for i, x in enumerate(pred_colors)]\n",
    "\n",
    "\n",
    "\n",
    "    #opacities = [0.5 if (x == 0xCCCCCC) else 1 for x in pred_colors]\n",
    "    #point_sizes = [1 if (x == 0x00FF00 or x == 0xFF0000) else 0.5 for x in pred_colors]\n",
    "    opacities = [1 if (x == 0xCCCCCC) else 1 for x in pred_colors]\n",
    "    point_sizes = [1 if (x == 0x00FF00 or x == 0xFF0000) else 1 for x in pred_colors]\n",
    "    \n",
    "    \n",
    "    plot = k3d.plot(name='points')\n",
    "    plt_points = k3d.points(positions=coordinates,\n",
    "                            colors=pred_colors,\n",
    "                            opacities=opacities,\n",
    "                            point_sizes=point_sizes)\n",
    "    plot += plt_points\n",
    "    plt_points.shader='3d'\n",
    "\n",
    "    with open(f'experiments/{EXP_NAME}/visualizations/{subject}.html', 'w') as f:\n",
    "        f.write(plot.get_snapshot(9))"
   ]
  },
  {
   "cell_type": "code",
   "execution_count": null,
   "metadata": {},
   "outputs": [],
   "source": []
  }
 ],
 "metadata": {
  "kernelspec": {
   "display_name": "Python 3",
   "language": "python",
   "name": "python3"
  },
  "language_info": {
   "codemirror_mode": {
    "name": "ipython",
    "version": 3
   },
   "file_extension": ".py",
   "mimetype": "text/x-python",
   "name": "python",
   "nbconvert_exporter": "python",
   "pygments_lexer": "ipython3",
   "version": "3.6.9"
  }
 },
 "nbformat": 4,
 "nbformat_minor": 4
}
