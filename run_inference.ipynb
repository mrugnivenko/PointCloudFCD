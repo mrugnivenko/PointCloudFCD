{
 "cells": [
  {
   "cell_type": "markdown",
   "id": "894d082b-ef72-42fb-8758-c6f5e9db0d79",
   "metadata": {},
   "source": [
    "# Importing libraries"
   ]
  },
  {
   "cell_type": "code",
   "execution_count": 1,
   "id": "5bbc39f1-20d2-49eb-941d-230c0a5c9b70",
   "metadata": {},
   "outputs": [],
   "source": [
    "import os\n",
    "import json\n",
    "import pickle\n",
    "import numpy as np\n",
    "from tqdm import tqdm\n",
    "from easydict import EasyDict as edict\n",
    "from sklearn.model_selection import KFold\n",
    "\n",
    "from utils.train import *\n",
    "from utils.inference import *\n",
    "\n",
    "import warnings\n",
    "warnings.filterwarnings(\"ignore\")\n",
    "\n",
    "%config Completer.use_jedi = False"
   ]
  },
  {
   "cell_type": "markdown",
   "id": "b1818473-969c-45eb-bf06-192fe52a43fe",
   "metadata": {},
   "source": [
    "# Specifying trained model"
   ]
  },
  {
   "cell_type": "code",
   "execution_count": 8,
   "id": "e9857bf2-548d-4224-bbac-c4cb10a26c3d",
   "metadata": {},
   "outputs": [],
   "source": [
    "EXP_NAME = 'deeb6bb3-7c65-47b8-92d0-53737d47d983'\n",
    "\n",
    "with open(f'experiments/{EXP_NAME}/config.json') as json_file:\n",
    "    config = json.load(json_file)\n",
    "\n",
    "with open(f'experiments/{EXP_NAME}/kfold.pkl', 'rb') as pkl_file:\n",
    "    kf = pickle.load(pkl_file)\n",
    "\n",
    "config = edict(config)\n",
    "\n",
    "os.makedirs(f'experiments/{EXP_NAME}/predictions')"
   ]
  },
  {
   "cell_type": "code",
   "execution_count": 9,
   "id": "45e32507-03c2-47ca-b959-ff2e18beb840",
   "metadata": {},
   "outputs": [],
   "source": [
    "all_data_dict = {}\n",
    "for feature in config.FEATURES:\n",
    "    all_data_dict[feature] = [f\"{config.path_to_data}/{config.BRAIN_MODALITY}_{feature}/{subject}.nii\" for subject in config.subjects]\n",
    "all_data_dict['labels'] = [f\"{config.path_to_data}/labels/{subject}.nii\" for subject in config.subjects]"
   ]
  },
  {
   "cell_type": "markdown",
   "id": "a1c3ed07-7a69-4415-82f2-046bec05454e",
   "metadata": {},
   "source": [
    "# Inference"
   ]
  },
  {
   "cell_type": "code",
   "execution_count": 10,
   "id": "c652230c-9a4e-490e-92f3-1dc9ebda4817",
   "metadata": {},
   "outputs": [],
   "source": [
    "DEVICE = 1\n",
    "torch.cuda.set_device(f\"cuda:{DEVICE}\")"
   ]
  },
  {
   "cell_type": "code",
   "execution_count": 11,
   "id": "799efc01-3587-43b6-93b3-c08a52547181",
   "metadata": {
    "tags": []
   },
   "outputs": [
    {
     "name": "stderr",
     "output_type": "stream",
     "text": [
      "  0%|          | 0/5 [00:00<?, ?it/s]\n",
      "  0%|          | 0/16 [00:00<?, ?it/s]\u001b[A\n",
      "  6%|▋         | 1/16 [00:15<03:53, 15.55s/it]\u001b[A\n",
      " 12%|█▎        | 2/16 [00:31<03:37, 15.51s/it]\u001b[A\n",
      " 19%|█▉        | 3/16 [00:46<03:21, 15.51s/it]\u001b[A\n",
      " 25%|██▌       | 4/16 [01:02<03:06, 15.50s/it]\u001b[A\n",
      " 31%|███▏      | 5/16 [01:17<02:50, 15.50s/it]\u001b[A\n",
      " 38%|███▊      | 6/16 [01:33<02:35, 15.51s/it]\u001b[A\n",
      " 44%|████▍     | 7/16 [01:48<02:19, 15.53s/it]\u001b[A\n",
      " 50%|█████     | 8/16 [02:04<02:04, 15.55s/it]\u001b[A\n",
      " 56%|█████▋    | 9/16 [02:20<01:48, 15.56s/it]\u001b[A\n",
      " 62%|██████▎   | 10/16 [02:35<01:33, 15.54s/it]\u001b[A\n",
      " 69%|██████▉   | 11/16 [02:50<01:17, 15.53s/it]\u001b[A\n",
      " 75%|███████▌  | 12/16 [03:06<01:02, 15.55s/it]\u001b[A\n",
      " 81%|████████▏ | 13/16 [03:21<00:46, 15.52s/it]\u001b[A\n",
      " 88%|████████▊ | 14/16 [03:37<00:31, 15.54s/it]\u001b[A\n",
      " 94%|█████████▍| 15/16 [03:53<00:15, 15.53s/it]\u001b[A\n",
      "100%|██████████| 16/16 [04:08<00:00, 15.55s/it]\u001b[A\n",
      " 20%|██        | 1/5 [05:15<21:02, 315.69s/it]\n",
      "  0%|          | 0/16 [00:00<?, ?it/s]\u001b[A\n",
      "  6%|▋         | 1/16 [00:16<04:02, 16.14s/it]\u001b[A\n",
      " 12%|█▎        | 2/16 [00:31<03:42, 15.90s/it]\u001b[A\n",
      " 19%|█▉        | 3/16 [00:47<03:25, 15.82s/it]\u001b[A\n",
      " 25%|██▌       | 4/16 [01:03<03:09, 15.79s/it]\u001b[A\n",
      " 31%|███▏      | 5/16 [01:18<02:53, 15.79s/it]\u001b[A\n",
      " 38%|███▊      | 6/16 [01:34<02:37, 15.79s/it]\u001b[A\n",
      " 44%|████▍     | 7/16 [01:50<02:22, 15.78s/it]\u001b[A\n",
      " 50%|█████     | 8/16 [02:06<02:06, 15.79s/it]\u001b[A\n",
      " 56%|█████▋    | 9/16 [02:22<01:50, 15.79s/it]\u001b[A\n",
      " 62%|██████▎   | 10/16 [02:37<01:34, 15.79s/it]\u001b[A\n",
      " 69%|██████▉   | 11/16 [02:53<01:18, 15.80s/it]\u001b[A\n",
      " 75%|███████▌  | 12/16 [03:09<01:03, 15.80s/it]\u001b[A\n",
      " 81%|████████▏ | 13/16 [03:25<00:47, 15.80s/it]\u001b[A\n",
      " 88%|████████▊ | 14/16 [03:41<00:31, 15.80s/it]\u001b[A\n",
      " 94%|█████████▍| 15/16 [03:56<00:15, 15.80s/it]\u001b[A\n",
      "100%|██████████| 16/16 [04:12<00:00, 15.81s/it]\u001b[A\n",
      " 40%|████      | 2/5 [10:35<15:53, 317.88s/it]\n",
      "  0%|          | 0/16 [00:00<?, ?it/s]\u001b[A\n",
      "  6%|▋         | 1/16 [00:15<03:55, 15.68s/it]\u001b[A\n",
      " 12%|█▎        | 2/16 [00:31<03:39, 15.68s/it]\u001b[A\n",
      " 19%|█▉        | 3/16 [00:46<03:22, 15.58s/it]\u001b[A\n",
      " 25%|██▌       | 4/16 [01:02<03:07, 15.62s/it]\u001b[A\n",
      " 31%|███▏      | 5/16 [01:18<02:52, 15.65s/it]\u001b[A\n",
      " 38%|███▊      | 6/16 [01:33<02:36, 15.67s/it]\u001b[A\n",
      " 44%|████▍     | 7/16 [01:49<02:21, 15.68s/it]\u001b[A\n",
      " 50%|█████     | 8/16 [02:05<02:05, 15.71s/it]\u001b[A\n",
      " 56%|█████▋    | 9/16 [02:21<01:50, 15.73s/it]\u001b[A\n",
      " 62%|██████▎   | 10/16 [02:37<01:34, 15.74s/it]\u001b[A\n",
      " 69%|██████▉   | 11/16 [02:53<01:18, 15.74s/it]\u001b[A\n",
      " 75%|███████▌  | 12/16 [03:09<01:03, 15.75s/it]\u001b[A\n",
      " 81%|████████▏ | 13/16 [03:24<00:47, 15.74s/it]\u001b[A\n",
      " 88%|████████▊ | 14/16 [03:40<00:31, 15.74s/it]\u001b[A\n",
      " 94%|█████████▍| 15/16 [03:56<00:15, 15.75s/it]\u001b[A\n",
      "100%|██████████| 16/16 [04:12<00:00, 15.75s/it]\u001b[A\n",
      " 60%|██████    | 3/5 [15:54<10:36, 318.05s/it]\n"
     ]
    },
    {
     "ename": "FileNotFoundError",
     "evalue": "[Errno 2] No such file or directory: 'experiments/deeb6bb3-7c65-47b8-92d0-53737d47d983/weights/4_fold.pth'",
     "output_type": "error",
     "traceback": [
      "\u001b[0;31m---------------------------------------------------------------------------\u001b[0m",
      "\u001b[0;31mFileNotFoundError\u001b[0m                         Traceback (most recent call last)",
      "\u001b[0;32m<ipython-input-11-781a849c178c>\u001b[0m in \u001b[0;36m<module>\u001b[0;34m\u001b[0m\n\u001b[0;32m----> 1\u001b[0;31m \u001b[0minference\u001b[0m\u001b[0;34m(\u001b[0m\u001b[0mconfig\u001b[0m\u001b[0;34m=\u001b[0m\u001b[0mconfig\u001b[0m\u001b[0;34m,\u001b[0m \u001b[0mkf\u001b[0m\u001b[0;34m=\u001b[0m\u001b[0mkf\u001b[0m\u001b[0;34m,\u001b[0m \u001b[0mall_data_dict\u001b[0m\u001b[0;34m=\u001b[0m\u001b[0mall_data_dict\u001b[0m\u001b[0;34m)\u001b[0m\u001b[0;34m\u001b[0m\u001b[0;34m\u001b[0m\u001b[0m\n\u001b[0m",
      "\u001b[0;32m/code/PointCloudResNet/utils/inference.py\u001b[0m in \u001b[0;36minference\u001b[0;34m(config, all_data_dict, kf, num_votes, repeat)\u001b[0m\n\u001b[1;32m     25\u001b[0m \u001b[0;34m\u001b[0m\u001b[0m\n\u001b[1;32m     26\u001b[0m             \u001b[0mmodel\u001b[0m\u001b[0;34m,\u001b[0m \u001b[0m_\u001b[0m \u001b[0;34m=\u001b[0m \u001b[0mbuild_multi_part_segmentation\u001b[0m\u001b[0;34m(\u001b[0m\u001b[0mconfig\u001b[0m\u001b[0;34m=\u001b[0m\u001b[0mconfig\u001b[0m\u001b[0;34m)\u001b[0m\u001b[0;34m\u001b[0m\u001b[0;34m\u001b[0m\u001b[0m\n\u001b[0;32m---> 27\u001b[0;31m             \u001b[0mmodel\u001b[0m\u001b[0;34m.\u001b[0m\u001b[0mload_state_dict\u001b[0m\u001b[0;34m(\u001b[0m\u001b[0mtorch\u001b[0m\u001b[0;34m.\u001b[0m\u001b[0mload\u001b[0m\u001b[0;34m(\u001b[0m\u001b[0;34mf'experiments/{config.EXP_NAME}/weights/{e + 1}_fold.pth'\u001b[0m\u001b[0;34m)\u001b[0m\u001b[0;34m)\u001b[0m\u001b[0;34m\u001b[0m\u001b[0;34m\u001b[0m\u001b[0m\n\u001b[0m\u001b[1;32m     28\u001b[0m             \u001b[0mmodel\u001b[0m\u001b[0;34m.\u001b[0m\u001b[0meval\u001b[0m\u001b[0;34m(\u001b[0m\u001b[0;34m)\u001b[0m\u001b[0;34m\u001b[0m\u001b[0;34m\u001b[0m\u001b[0m\n\u001b[1;32m     29\u001b[0m             \u001b[0mmodel\u001b[0m\u001b[0;34m.\u001b[0m\u001b[0mcuda\u001b[0m\u001b[0;34m(\u001b[0m\u001b[0;34m)\u001b[0m\u001b[0;34m\u001b[0m\u001b[0;34m\u001b[0m\u001b[0m\n",
      "\u001b[0;32m/usr/local/lib/python3.6/dist-packages/torch/serialization.py\u001b[0m in \u001b[0;36mload\u001b[0;34m(f, map_location, pickle_module, **pickle_load_args)\u001b[0m\n\u001b[1;32m    577\u001b[0m         \u001b[0mpickle_load_args\u001b[0m\u001b[0;34m[\u001b[0m\u001b[0;34m'encoding'\u001b[0m\u001b[0;34m]\u001b[0m \u001b[0;34m=\u001b[0m \u001b[0;34m'utf-8'\u001b[0m\u001b[0;34m\u001b[0m\u001b[0;34m\u001b[0m\u001b[0m\n\u001b[1;32m    578\u001b[0m \u001b[0;34m\u001b[0m\u001b[0m\n\u001b[0;32m--> 579\u001b[0;31m     \u001b[0;32mwith\u001b[0m \u001b[0m_open_file_like\u001b[0m\u001b[0;34m(\u001b[0m\u001b[0mf\u001b[0m\u001b[0;34m,\u001b[0m \u001b[0;34m'rb'\u001b[0m\u001b[0;34m)\u001b[0m \u001b[0;32mas\u001b[0m \u001b[0mopened_file\u001b[0m\u001b[0;34m:\u001b[0m\u001b[0;34m\u001b[0m\u001b[0;34m\u001b[0m\u001b[0m\n\u001b[0m\u001b[1;32m    580\u001b[0m         \u001b[0;32mif\u001b[0m \u001b[0m_is_zipfile\u001b[0m\u001b[0;34m(\u001b[0m\u001b[0mopened_file\u001b[0m\u001b[0;34m)\u001b[0m\u001b[0;34m:\u001b[0m\u001b[0;34m\u001b[0m\u001b[0;34m\u001b[0m\u001b[0m\n\u001b[1;32m    581\u001b[0m             \u001b[0;31m# The zipfile reader is going to advance the current file position.\u001b[0m\u001b[0;34m\u001b[0m\u001b[0;34m\u001b[0m\u001b[0;34m\u001b[0m\u001b[0m\n",
      "\u001b[0;32m/usr/local/lib/python3.6/dist-packages/torch/serialization.py\u001b[0m in \u001b[0;36m_open_file_like\u001b[0;34m(name_or_buffer, mode)\u001b[0m\n\u001b[1;32m    228\u001b[0m \u001b[0;32mdef\u001b[0m \u001b[0m_open_file_like\u001b[0m\u001b[0;34m(\u001b[0m\u001b[0mname_or_buffer\u001b[0m\u001b[0;34m,\u001b[0m \u001b[0mmode\u001b[0m\u001b[0;34m)\u001b[0m\u001b[0;34m:\u001b[0m\u001b[0;34m\u001b[0m\u001b[0;34m\u001b[0m\u001b[0m\n\u001b[1;32m    229\u001b[0m     \u001b[0;32mif\u001b[0m \u001b[0m_is_path\u001b[0m\u001b[0;34m(\u001b[0m\u001b[0mname_or_buffer\u001b[0m\u001b[0;34m)\u001b[0m\u001b[0;34m:\u001b[0m\u001b[0;34m\u001b[0m\u001b[0;34m\u001b[0m\u001b[0m\n\u001b[0;32m--> 230\u001b[0;31m         \u001b[0;32mreturn\u001b[0m \u001b[0m_open_file\u001b[0m\u001b[0;34m(\u001b[0m\u001b[0mname_or_buffer\u001b[0m\u001b[0;34m,\u001b[0m \u001b[0mmode\u001b[0m\u001b[0;34m)\u001b[0m\u001b[0;34m\u001b[0m\u001b[0;34m\u001b[0m\u001b[0m\n\u001b[0m\u001b[1;32m    231\u001b[0m     \u001b[0;32melse\u001b[0m\u001b[0;34m:\u001b[0m\u001b[0;34m\u001b[0m\u001b[0;34m\u001b[0m\u001b[0m\n\u001b[1;32m    232\u001b[0m         \u001b[0;32mif\u001b[0m \u001b[0;34m'w'\u001b[0m \u001b[0;32min\u001b[0m \u001b[0mmode\u001b[0m\u001b[0;34m:\u001b[0m\u001b[0;34m\u001b[0m\u001b[0;34m\u001b[0m\u001b[0m\n",
      "\u001b[0;32m/usr/local/lib/python3.6/dist-packages/torch/serialization.py\u001b[0m in \u001b[0;36m__init__\u001b[0;34m(self, name, mode)\u001b[0m\n\u001b[1;32m    209\u001b[0m \u001b[0;32mclass\u001b[0m \u001b[0m_open_file\u001b[0m\u001b[0;34m(\u001b[0m\u001b[0m_opener\u001b[0m\u001b[0;34m)\u001b[0m\u001b[0;34m:\u001b[0m\u001b[0;34m\u001b[0m\u001b[0;34m\u001b[0m\u001b[0m\n\u001b[1;32m    210\u001b[0m     \u001b[0;32mdef\u001b[0m \u001b[0m__init__\u001b[0m\u001b[0;34m(\u001b[0m\u001b[0mself\u001b[0m\u001b[0;34m,\u001b[0m \u001b[0mname\u001b[0m\u001b[0;34m,\u001b[0m \u001b[0mmode\u001b[0m\u001b[0;34m)\u001b[0m\u001b[0;34m:\u001b[0m\u001b[0;34m\u001b[0m\u001b[0;34m\u001b[0m\u001b[0m\n\u001b[0;32m--> 211\u001b[0;31m         \u001b[0msuper\u001b[0m\u001b[0;34m(\u001b[0m\u001b[0m_open_file\u001b[0m\u001b[0;34m,\u001b[0m \u001b[0mself\u001b[0m\u001b[0;34m)\u001b[0m\u001b[0;34m.\u001b[0m\u001b[0m__init__\u001b[0m\u001b[0;34m(\u001b[0m\u001b[0mopen\u001b[0m\u001b[0;34m(\u001b[0m\u001b[0mname\u001b[0m\u001b[0;34m,\u001b[0m \u001b[0mmode\u001b[0m\u001b[0;34m)\u001b[0m\u001b[0;34m)\u001b[0m\u001b[0;34m\u001b[0m\u001b[0;34m\u001b[0m\u001b[0m\n\u001b[0m\u001b[1;32m    212\u001b[0m \u001b[0;34m\u001b[0m\u001b[0m\n\u001b[1;32m    213\u001b[0m     \u001b[0;32mdef\u001b[0m \u001b[0m__exit__\u001b[0m\u001b[0;34m(\u001b[0m\u001b[0mself\u001b[0m\u001b[0;34m,\u001b[0m \u001b[0;34m*\u001b[0m\u001b[0margs\u001b[0m\u001b[0;34m)\u001b[0m\u001b[0;34m:\u001b[0m\u001b[0;34m\u001b[0m\u001b[0;34m\u001b[0m\u001b[0m\n",
      "\u001b[0;31mFileNotFoundError\u001b[0m: [Errno 2] No such file or directory: 'experiments/deeb6bb3-7c65-47b8-92d0-53737d47d983/weights/4_fold.pth'"
     ]
    }
   ],
   "source": [
    "inference(config=config, kf=kf, all_data_dict=all_data_dict)"
   ]
  },
  {
   "cell_type": "code",
   "execution_count": null,
   "id": "583272b2-5844-489e-aa7c-144de972fb5b",
   "metadata": {},
   "outputs": [],
   "source": []
  }
 ],
 "metadata": {
  "kernelspec": {
   "display_name": "Python 3",
   "language": "python",
   "name": "python3"
  },
  "language_info": {
   "codemirror_mode": {
    "name": "ipython",
    "version": 3
   },
   "file_extension": ".py",
   "mimetype": "text/x-python",
   "name": "python",
   "nbconvert_exporter": "python",
   "pygments_lexer": "ipython3",
   "version": "3.6.9"
  }
 },
 "nbformat": 4,
 "nbformat_minor": 5
}
