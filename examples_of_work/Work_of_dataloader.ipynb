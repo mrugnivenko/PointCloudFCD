{
 "cells": [
  {
   "cell_type": "code",
   "execution_count": 1,
   "id": "d972e427-f315-4073-a6f8-563ec28a183a",
   "metadata": {},
   "outputs": [],
   "source": [
    "import os\n",
    "import sys \n",
    "sys.path.append('..')\n",
    "\n",
    "import imp\n",
    "import glob\n",
    "import numpy as np\n",
    "import pandas as pd\n",
    "from tqdm import tqdm\n",
    "import matplotlib.pyplot as plt\n",
    "\n",
    "import utils.data_processor as data_processor\n",
    "imp.reload(data_processor)\n",
    "from utils.data_processor import *\n",
    "\n",
    "from utils.train import *\n",
    "from utils.model_criterion import *\n",
    "\n",
    "import utils.crop as crop\n",
    "imp.reload(crop)\n",
    "from utils.crop import *\n",
    "\n",
    "%config Completer.use_jedi = False"
   ]
  },
  {
   "cell_type": "code",
   "execution_count": 2,
   "id": "c295c7ba-5ef0-4f19-971e-d1a1610f97e9",
   "metadata": {},
   "outputs": [],
   "source": [
    "BRAIN_TYPE = 'whole'\n",
    "\n",
    "CFG = '../cfgs/brain/brain_pospoolxyz.yaml' # 'cfgs/brain/brain_pointwisemlp.yaml'\n",
    "config = config_seting(CFG)\n",
    "torch.cuda.set_device(\"cuda:0\") "
   ]
  },
  {
   "cell_type": "code",
   "execution_count": 3,
   "id": "7e62d677-bd9a-4fe0-90cd-3b12e846fcfd",
   "metadata": {},
   "outputs": [
    {
     "name": "stderr",
     "output_type": "stream",
     "text": [
      "100%|██████████| 81/81 [00:00<00:00, 117191.66it/s]\n",
      "100%|██████████| 81/81 [00:00<00:00, 430048.89it/s]\n",
      "100%|██████████| 81/81 [00:00<00:00, 102269.30it/s]\n",
      "100%|██████████| 81/81 [00:00<00:00, 381300.36it/s]\n",
      "100%|██████████| 81/81 [00:00<00:00, 192486.47it/s]\n"
     ]
    }
   ],
   "source": [
    "allowed_subjects = np.load('../raw_data/sub_with_all_data.npy', allow_pickle=True).tolist()\n",
    "\n",
    "if not allowed_subjects:\n",
    "    allowed_subdirs = [f\"sub-{name[:-4]}\" for name in os.listdir(f\"../raw_data/normalized_label\")]\n",
    "else:\n",
    "    allowed_subdirs = [f'sub-{name}' for name in allowed_subjects]\n",
    "    \n",
    "brains = [[f\"../raw_data/output/fmriprep/{subdir}/anat/{name}\" for name in os.listdir(f\"../raw_data/output/fmriprep/{subdir}/anat\") if name.endswith(\"Asym_desc-preproc_T1w.nii.gz\")] for subdir in os.listdir(f\"../raw_data/output/fmriprep/\") if subdir.count(\".\") == 0 and subdir.startswith(\"sub\") and subdir in allowed_subdirs]\n",
    "brains = [item for sublist in brains for item in sublist]\n",
    "brain_nums = [x.split('/')[4][4:] for x in brains]\n",
    "\n",
    "if BRAIN_TYPE == 'whole':\n",
    "    BRAIN_TYPE = 'full'\n",
    "    \n",
    "brains_loaded = [f\"../dataset_ready_to_use/data_only_usefull_areas/{BRAIN_TYPE}/brains/{num}.npy\" for num in tqdm(brain_nums)]\n",
    "labels_loaded = [f\"../dataset_ready_to_use/data_only_usefull_areas/{BRAIN_TYPE}/labels/{num}.npy\" for num in tqdm(brain_nums)]\n",
    "curv_loaded = [f\"../dataset_ready_to_use/data_only_usefull_areas/{BRAIN_TYPE}/curv/{num}.npy\" for num in tqdm(brain_nums)]\n",
    "thickness_loaded = [f\"../dataset_ready_to_use/data_only_usefull_areas/{BRAIN_TYPE}/thickness/{num}.npy\" for num in tqdm(brain_nums)]\n",
    "sulc_loaded = [f\"../dataset_ready_to_use/data_only_usefull_areas/{BRAIN_TYPE}/sulc/{num}.npy\" for num in tqdm(brain_nums)]"
   ]
  },
  {
   "cell_type": "code",
   "execution_count": 4,
   "id": "f7792df4-25d8-4b16-b653-ce56707c3dce",
   "metadata": {},
   "outputs": [],
   "source": [
    "train_dict = {\n",
    "        'brains': brains_loaded[:20],\n",
    "        'labels': labels_loaded[:20],\n",
    "#         'curvs': curv_loaded[:20],\n",
    "#         'thickness': thickness_loaded[:20],\n",
    "#         'sulc': sulc_loaded[:20] \n",
    "    }\n",
    "\n",
    "test_dict = {\n",
    "        'brains': brains_loaded[20:30],\n",
    "        'labels': labels_loaded[20:30],\n",
    "#         'curvs': curv_loaded[20:30],\n",
    "#         'thickness': thickness_loaded[20:30],\n",
    "#         'sulc': sulc_loaded[20:30]\n",
    "    }"
   ]
  },
  {
   "cell_type": "code",
   "execution_count": 5,
   "id": "61a1eea7-79a0-4176-89f9-d419ce099031",
   "metadata": {},
   "outputs": [],
   "source": [
    "train_dataset = BrainDataSegCrop(\n",
    "        num_points=4096,\n",
    "        task=\"train\",\n",
    "        crop_size=64,\n",
    "        transforms=None,\n",
    "        data_dict=train_dict,\n",
    "        is_folded=True,\n",
    "        return_min_point_train=True,\n",
    "        return_abs_coords=True,\n",
    "        return_pc_without_air_points=False,\n",
    "        coin_flip_threshold=0.8,\n",
    "    )"
   ]
  },
  {
   "cell_type": "code",
   "execution_count": 6,
   "id": "b498c188-a18f-4e4a-aefc-75775764d910",
   "metadata": {},
   "outputs": [
    {
     "name": "stdout",
     "output_type": "stream",
     "text": [
      "Weights are: [0.01134033203125, 0.98865966796875]\n",
      "MEANS are: {'brains': 145.58305}\n",
      "STDS are: {'brains': 155.92049}\n",
      "Train dataset created\n",
      "Test dataset created\n"
     ]
    }
   ],
   "source": [
    "out = get_loader_crop(config=config,\n",
    "                      batch_size=16,\n",
    "                      num_points=4096,\n",
    "                      train_dict=train_dict,\n",
    "                      test_dict=test_dict,\n",
    "                      crop_size=64,\n",
    "                      is_folded=True,\n",
    "                      return_abs_coords=True,\n",
    "                      return_pc_without_air_points=False,\n",
    "                      coin_flip_threshold = 0.8,\n",
    "                      weighted_loss = True\n",
    "                     )"
   ]
  },
  {
   "cell_type": "code",
   "execution_count": 7,
   "id": "45eecdb6-d8af-40c5-9967-3ae9e565104e",
   "metadata": {},
   "outputs": [],
   "source": [
    "train_loader, test_loader, weights = out"
   ]
  },
  {
   "cell_type": "code",
   "execution_count": 10,
   "id": "fcfbcbb3-5410-4443-855e-b38326f9db08",
   "metadata": {},
   "outputs": [
    {
     "name": "stdout",
     "output_type": "stream",
     "text": [
      "0.005981445311039686\n",
      "0.011719971524291235\n",
      "0.0059814453125\n",
      "0.011891760708651862\n",
      "0.011891760708651862\n"
     ]
    },
    {
     "data": {
      "text/plain": [
       "({'IoU': 0.0059814453125,\n",
       "  'contrast': 3.084628787782882e-05,\n",
       "  'dice': 0.011891760708651862,\n",
       "  'AUC-ROC': 0.5476647778109155,\n",
       "  'optimal cutoff': 0.5162228941917419,\n",
       "  'TPR': 0.5387755102040817,\n",
       "  'FPR': 0.4612305047279872,\n",
       "  'loss': 0.7258202433586121},\n",
       " array([[    0, 40715],\n",
       "        [    0,   245]]))"
      ]
     },
     "execution_count": 10,
     "metadata": {},
     "output_type": "execute_result"
    }
   ],
   "source": [
    "validate_one_epoch(\n",
    "    1,\n",
    "    test_loader,\n",
    "    model,\n",
    "    criterion,\n",
    "    config,\n",
    "    num_votes=1,\n",
    "    log_confusion_matrix=True,\n",
    "    is_crop=True,\n",
    ")"
   ]
  },
  {
   "cell_type": "code",
   "execution_count": 13,
   "id": "ca66739b-3f1f-4db7-86b8-405252a771b1",
   "metadata": {},
   "outputs": [],
   "source": [
    "a = np.array([[    0, 40715],\n",
    "        [    0,   245]])"
   ]
  },
  {
   "cell_type": "code",
   "execution_count": 15,
   "id": "b13570ca-47bb-489a-9e96-77b741f5a1c7",
   "metadata": {},
   "outputs": [
    {
     "data": {
      "text/plain": [
       "0"
      ]
     },
     "execution_count": 15,
     "metadata": {},
     "output_type": "execute_result"
    }
   ],
   "source": [
    "a[1,0]"
   ]
  },
  {
   "cell_type": "code",
   "execution_count": null,
   "id": "630333c4-46ea-4567-b7fc-c0fe839a7b70",
   "metadata": {},
   "outputs": [],
   "source": []
  },
  {
   "cell_type": "code",
   "execution_count": 8,
   "id": "31365071-f407-4433-b0bb-e9084020cdc2",
   "metadata": {},
   "outputs": [],
   "source": [
    "batch = next(iter(train_loader))"
   ]
  },
  {
   "cell_type": "code",
   "execution_count": 9,
   "id": "f0d8abba-33fc-4634-a976-5e8a80f6f604",
   "metadata": {},
   "outputs": [],
   "source": [
    "points, mask, points_labels, shape_labels = [batch[key] for key in [\"current_points\", \"mask\", \"current_points_labels\", \"label\"]]"
   ]
  },
  {
   "cell_type": "code",
   "execution_count": 10,
   "id": "10863bf7-c28e-480f-8924-ca0d4d46f367",
   "metadata": {},
   "outputs": [],
   "source": [
    "features = points.transpose(1, 2).contiguous()\n",
    "points = points[:, :, :3].cuda(non_blocking=True)\n",
    "mask = mask.cuda(non_blocking=True)\n",
    "features = features.cuda(non_blocking=True)\n",
    "points_labels = points_labels.cuda(non_blocking=True)"
   ]
  },
  {
   "cell_type": "code",
   "execution_count": 8,
   "id": "2eecf2f8-794c-4dcf-999d-ccc68af7a6d9",
   "metadata": {},
   "outputs": [],
   "source": [
    "model, criterion = build_multi_part_segmentation(config=config, weights=None, type='BCE')"
   ]
  },
  {
   "cell_type": "code",
   "execution_count": 9,
   "id": "62c78439-f7f7-4a70-8dc0-932b0eb8fdb0",
   "metadata": {},
   "outputs": [
    {
     "data": {
      "text/plain": [
       "MultiShapeCrossEntropy(\n",
       "  (bce): CrossEntropyLoss()\n",
       "  (dice): DiceBCELoss(\n",
       "    (bce): CrossEntropyLoss()\n",
       "  )\n",
       ")"
      ]
     },
     "execution_count": 9,
     "metadata": {},
     "output_type": "execute_result"
    }
   ],
   "source": [
    "model.cuda()\n",
    "criterion.cuda()    "
   ]
  },
  {
   "cell_type": "code",
   "execution_count": 13,
   "id": "a0384a77-fce0-4fb0-bf18-738d36c96d84",
   "metadata": {},
   "outputs": [],
   "source": [
    "pred = model(points, mask, features)"
   ]
  },
  {
   "cell_type": "code",
   "execution_count": null,
   "id": "2db5aca4-f9db-4f97-9fa8-982ec0cc014f",
   "metadata": {},
   "outputs": [],
   "source": []
  },
  {
   "cell_type": "code",
   "execution_count": 14,
   "id": "a48c6fe0-3eb8-4b88-8d44-bd41859de133",
   "metadata": {},
   "outputs": [],
   "source": [
    "cr =  torch.nn.CrossEntropyLoss()"
   ]
  },
  {
   "cell_type": "code",
   "execution_count": 18,
   "id": "e021e2db-bf43-45c3-9b70-7bbe4d2a144d",
   "metadata": {},
   "outputs": [
    {
     "data": {
      "text/plain": [
       "tensor(0.7544, device='cuda:0', grad_fn=<NllLoss2DBackward>)"
      ]
     },
     "execution_count": 18,
     "metadata": {},
     "output_type": "execute_result"
    }
   ],
   "source": [
    "cr(pred[0], points_labels)"
   ]
  },
  {
   "cell_type": "code",
   "execution_count": 19,
   "id": "eb3c251c-6ebb-4347-a8ea-76fdefaa7f11",
   "metadata": {},
   "outputs": [
    {
     "data": {
      "text/plain": [
       "tensor(0.7544, device='cuda:0', grad_fn=<NllLossBackward>)"
      ]
     },
     "execution_count": 19,
     "metadata": {},
     "output_type": "execute_result"
    }
   ],
   "source": [
    "criterion(pred, points_labels)"
   ]
  },
  {
   "cell_type": "code",
   "execution_count": 66,
   "id": "c62fe05a-cbd1-42c8-b71f-47665aaf509f",
   "metadata": {},
   "outputs": [
    {
     "data": {
      "text/plain": [
       "torch.Size([16, 2, 4096])"
      ]
     },
     "execution_count": 66,
     "metadata": {},
     "output_type": "execute_result"
    }
   ],
   "source": [
    "pred[0].shape"
   ]
  },
  {
   "cell_type": "code",
   "execution_count": 67,
   "id": "2612eab3-040c-44b9-b15c-48c20ff1a782",
   "metadata": {},
   "outputs": [
    {
     "data": {
      "text/plain": [
       "torch.Size([16, 4096])"
      ]
     },
     "execution_count": 67,
     "metadata": {},
     "output_type": "execute_result"
    }
   ],
   "source": [
    "points_labels.shape"
   ]
  },
  {
   "cell_type": "code",
   "execution_count": 79,
   "id": "f1fde05a-d7d4-4e4c-9668-74cda545e835",
   "metadata": {},
   "outputs": [
    {
     "data": {
      "text/plain": [
       "torch.Size([65536])"
      ]
     },
     "execution_count": 79,
     "metadata": {},
     "output_type": "execute_result"
    }
   ],
   "source": [
    "points_labels.view(-1).shape"
   ]
  },
  {
   "cell_type": "code",
   "execution_count": null,
   "id": "10070714-8861-47f8-ae62-3cf626ec1ec9",
   "metadata": {},
   "outputs": [],
   "source": []
  },
  {
   "cell_type": "code",
   "execution_count": 41,
   "id": "4e48712a-08d2-4ca9-bd63-c0c5ea341ef5",
   "metadata": {},
   "outputs": [],
   "source": [
    "loss = nn.CrossEntropyLoss(reduction='none')\n",
    "input = torch.randn((3, 2, 2046), requires_grad=True)\n",
    "target = torch.empty((3, 2046), dtype=torch.long).random_(2)"
   ]
  },
  {
   "cell_type": "code",
   "execution_count": 42,
   "id": "5dcb1cd9-b66e-4950-aaaf-7ccc56dde99c",
   "metadata": {},
   "outputs": [
    {
     "data": {
      "text/plain": [
       "tensor([[0.1249, 2.4720, 0.9472,  ..., 1.1377, 1.6171, 0.4655],\n",
       "        [0.1198, 1.0488, 0.2479,  ..., 2.6044, 0.1698, 0.9088],\n",
       "        [2.1431, 0.4324, 0.9785,  ..., 0.1881, 2.4278, 1.8509]],\n",
       "       grad_fn=<ViewBackward>)"
      ]
     },
     "execution_count": 42,
     "metadata": {},
     "output_type": "execute_result"
    }
   ],
   "source": [
    "loss(input, target)"
   ]
  },
  {
   "cell_type": "code",
   "execution_count": null,
   "id": "9376108b-89f0-422b-956e-c650fcd3f694",
   "metadata": {},
   "outputs": [],
   "source": []
  }
 ],
 "metadata": {
  "kernelspec": {
   "display_name": "Python 3",
   "language": "python",
   "name": "python3"
  },
  "language_info": {
   "codemirror_mode": {
    "name": "ipython",
    "version": 3
   },
   "file_extension": ".py",
   "mimetype": "text/x-python",
   "name": "python",
   "nbconvert_exporter": "python",
   "pygments_lexer": "ipython3",
   "version": "3.6.9"
  }
 },
 "nbformat": 4,
 "nbformat_minor": 5
}
