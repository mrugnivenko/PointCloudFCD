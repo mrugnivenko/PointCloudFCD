{
 "cells": [
  {
   "cell_type": "markdown",
   "id": "df2dbb4c-6919-4b2a-9fbd-b7fbc1af889e",
   "metadata": {},
   "source": [
    "# Importing libraries"
   ]
  },
  {
   "cell_type": "code",
   "execution_count": 1,
   "id": "7461a8bb",
   "metadata": {},
   "outputs": [],
   "source": [
    "import os\n",
    "import sys\n",
    "sys.path.append(\"..\")\n",
    "\n",
    "import json\n",
    "from tqdm import tqdm\n",
    "from easydict import EasyDict as edict\n",
    "\n",
    "from utils.interpolation import *"
   ]
  },
  {
   "cell_type": "markdown",
   "id": "c8ea6e02-4070-4b33-b01c-3deeb001455b",
   "metadata": {},
   "source": [
    "# Specifying trained model"
   ]
  },
  {
   "cell_type": "code",
   "execution_count": 2,
   "id": "7eedc9c8-7aad-4faa-b06f-5b76a2d336a7",
   "metadata": {},
   "outputs": [],
   "source": [
    "EXP_NAME = '16ac4d6a-13b7-41c2-9155-919abc4d61f0'\n",
    "\n",
    "with open(f'experiments/{EXP_NAME}/config.json') as json_file:\n",
    "    config = json.load(json_file)\n",
    "    \n",
    "config = edict(config)\n",
    "\n",
    "os.makedirs(f'experiments/{EXP_NAME}/interpolation')"
   ]
  },
  {
   "cell_type": "markdown",
   "id": "70b9346b-a6ce-4386-bd11-ed67a596703c",
   "metadata": {},
   "source": [
    "# Interpolation"
   ]
  },
  {
   "cell_type": "code",
   "execution_count": null,
   "id": "16d08cb1-536c-4f29-9ad4-1f6df7ab2b58",
   "metadata": {},
   "outputs": [
    {
     "name": "stderr",
     "output_type": "stream",
     "text": [
      " 72%|███████▎  | 58/80 [1:31:52<34:50, 95.04s/it]  "
     ]
    }
   ],
   "source": [
    "for subject in tqdm(config.subjects):\n",
    "    \n",
    "    with open(f'experiments/{EXP_NAME}/predictions/{subject}.json') as json_file:\n",
    "        net_output = json.load(json_file)\n",
    "    \n",
    "    coordinates, predictions = net_output['coordinates'], net_output['predictions']\n",
    "    result = points2mri(coordinates, predictions)\n",
    "    \n",
    "    original_brain = nib.load(f\"{config.path_to_data}/{config.BRAIN_MODALITY}_brains/{subject}.nii\")\n",
    "    interpolation = nib.Nifti1Image(result, original_brain.affine)\n",
    "    nib.save(interpolation, f\"experiments/{EXP_NAME}/interpolation/{subject}.nii\")"
   ]
  },
  {
   "cell_type": "code",
   "execution_count": null,
   "id": "0dd8568a-edf3-4b7b-97be-b1582525074c",
   "metadata": {},
   "outputs": [],
   "source": []
  }
 ],
 "metadata": {
  "kernelspec": {
   "display_name": "Python 3",
   "language": "python",
   "name": "python3"
  },
  "language_info": {
   "codemirror_mode": {
    "name": "ipython",
    "version": 3
   },
   "file_extension": ".py",
   "mimetype": "text/x-python",
   "name": "python",
   "nbconvert_exporter": "python",
   "pygments_lexer": "ipython3",
   "version": "3.6.9"
  }
 },
 "nbformat": 4,
 "nbformat_minor": 5
}
