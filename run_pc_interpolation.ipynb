{
 "cells": [
  {
   "cell_type": "markdown",
   "id": "df2dbb4c-6919-4b2a-9fbd-b7fbc1af889e",
   "metadata": {},
   "source": [
    "# Importing libraries"
   ]
  },
  {
   "cell_type": "code",
   "execution_count": 1,
   "id": "7461a8bb",
   "metadata": {},
   "outputs": [
    {
     "name": "stderr",
     "output_type": "stream",
     "text": [
      "/usr/local/lib/python3.6/dist-packages/nilearn/__init__.py:69: FutureWarning: Python 3.6 support is deprecated and will be removed in release 0.10 of Nilearn. Consider switching to Python 3.8 or 3.9.\n",
      "  _python_deprecation_warnings()\n"
     ]
    }
   ],
   "source": [
    "import os\n",
    "import sys\n",
    "import glob\n",
    "import nilearn\n",
    "from nilearn import image\n",
    "sys.path.append(\"..\")\n",
    "\n",
    "import json\n",
    "from tqdm import tqdm\n",
    "from easydict import EasyDict as edict\n",
    "\n",
    "from utils.interpolation import *"
   ]
  },
  {
   "cell_type": "markdown",
   "id": "c8ea6e02-4070-4b33-b01c-3deeb001455b",
   "metadata": {},
   "source": [
    "# Specifying trained model"
   ]
  },
  {
   "cell_type": "code",
   "execution_count": 2,
   "id": "7eedc9c8-7aad-4faa-b06f-5b76a2d336a7",
   "metadata": {},
   "outputs": [],
   "source": [
    "EXP_NAME = '2022-03-18_experiment_a7431019-46fe-478c-83a5-ef394784f7fa'\n",
    "\n",
    "with open(f'experiments/{EXP_NAME}/config.json') as json_file:\n",
    "    config = json.load(json_file)\n",
    "    \n",
    "config = edict(config)\n",
    "\n",
    "os.makedirs(f'experiments/{EXP_NAME}/interpolation', exist_ok=True)"
   ]
  },
  {
   "cell_type": "markdown",
   "id": "70b9346b-a6ce-4386-bd11-ed67a596703c",
   "metadata": {},
   "source": [
    "# Interpolation"
   ]
  },
  {
   "cell_type": "code",
   "execution_count": null,
   "id": "16d08cb1-536c-4f29-9ad4-1f6df7ab2b58",
   "metadata": {},
   "outputs": [
    {
     "name": "stderr",
     "output_type": "stream",
     "text": [
      " 95%|█████████▌| 125/131 [3:41:39<10:38, 106.40s/it] "
     ]
    }
   ],
   "source": [
    "for subject in tqdm(config.subjects):\n",
    "    \n",
    "    with open(f'experiments/{config.name_of_experiment}/predictions/{subject}.json') as json_file:\n",
    "        net_output = json.load(json_file)\n",
    "    \n",
    "    coordinates, predictions = net_output['coordinates'], net_output['predictions']\n",
    "    result = points2mri(coordinates, predictions)\n",
    "    \n",
    "    original_brain = nib.load(f\"{config.path_to_data}/{config.brains_modality}_brains/{subject}.nii.gz\")\n",
    "    brain_mask = nib.load(f'radiologist/preprocessed_data/new_pipeline/sub-{subject}/sub-{subject}_acq-T1Mprage_space-MNI152NLint2_seq-T1w_brain.nii_mask.nii.gz')\n",
    "    brain_mask = nilearn.image.resample_to_img(brain_mask, original_brain, interpolation='nearest')\n",
    "    \n",
    "    pred = result * brain_mask.get_fdata()\n",
    "    interpolation = nib.Nifti1Image(pred, original_brain.affine)\n",
    "    nib.save(interpolation, f\"experiments/{config.name_of_experiment}/interpolation/{subject}.nii.gz\")"
   ]
  }
 ],
 "metadata": {
  "kernelspec": {
   "display_name": "Python 3",
   "language": "python",
   "name": "python3"
  },
  "language_info": {
   "codemirror_mode": {
    "name": "ipython",
    "version": 3
   },
   "file_extension": ".py",
   "mimetype": "text/x-python",
   "name": "python",
   "nbconvert_exporter": "python",
   "pygments_lexer": "ipython3",
   "version": "3.6.9"
  }
 },
 "nbformat": 4,
 "nbformat_minor": 5
}
